{
 "cells": [
  {
   "cell_type": "code",
   "execution_count": 1,
   "id": "82539628-8762-431b-ba3b-56a38a70ab74",
   "metadata": {},
   "outputs": [
    {
     "name": "stderr",
     "output_type": "stream",
     "text": [
      "[nltk_data] Downloading package stopwords to\n",
      "[nltk_data]     C:\\Users\\sergey_qt\\AppData\\Roaming\\nltk_data...\n",
      "[nltk_data]   Package stopwords is already up-to-date!\n"
     ]
    }
   ],
   "source": [
    "import pandas as pd\n",
    "import numpy as np\n",
    "import re\n",
    "import nltk\n",
    "from nltk.tokenize import word_tokenize\n",
    "from nltk.corpus import stopwords\n",
    "from num2words import num2words\n",
    "from functools import lru_cache\n",
    "\n",
    "from sklearn.metrics import confusion_matrix, classification_report, accuracy_score\n",
    "from sklearn.model_selection import train_test_split, GridSearchCV, cross_val_score\n",
    "from sklearn.linear_model import LogisticRegression\n",
    "from sklearn.metrics import f1_score\n",
    "from sklearn.utils.class_weight import compute_class_weight\n",
    "\n",
    "from sklearn.linear_model import LogisticRegression\n",
    "from sklearn.pipeline import Pipeline\n",
    "from sklearn.feature_extraction.text import TfidfVectorizer, TfidfTransformer\n",
    "from sklearn.feature_extraction.text import CountVectorizer\n",
    "from sklearn import metrics\n",
    "nltk.download('stopwords')\n",
    "\n",
    "import spacy"
   ]
  },
  {
   "cell_type": "code",
   "execution_count": 23,
   "id": "f51eecfe-f3c7-418e-a396-b30480296763",
   "metadata": {},
   "outputs": [],
   "source": [
    "import warnings; warnings.simplefilter('ignore')"
   ]
  },
  {
   "cell_type": "code",
   "execution_count": 2,
   "id": "350ff663-9b68-4b6c-b843-d255f686eee9",
   "metadata": {},
   "outputs": [],
   "source": [
    "from tqdm import tqdm\n",
    "tqdm.pandas()"
   ]
  },
  {
   "cell_type": "code",
   "execution_count": 3,
   "id": "0760232b-03c2-4203-9a96-a1ca1a941293",
   "metadata": {},
   "outputs": [],
   "source": [
    "random_state=12345"
   ]
  },
  {
   "cell_type": "code",
   "execution_count": 4,
   "id": "bdd3edd9-d81b-4d56-8ea0-870247add755",
   "metadata": {},
   "outputs": [],
   "source": [
    "data = pd.read_excel('CRA_train_1200.xlsx')"
   ]
  },
  {
   "cell_type": "code",
   "execution_count": 5,
   "id": "7d8eb761-c36d-478e-94ad-aee154bcb4ab",
   "metadata": {},
   "outputs": [],
   "source": [
    "data_nkr = data[data.pr_txt.str.contains('агентство НКР')]\n",
    "data_nra = data[data.pr_txt.str.contains('Национальное Рейтинговое Агентство')]\n",
    "data_akra = data[data.pr_txt.str.contains('АКРА')]\n",
    "data_ra = data[data.pr_txt.str.contains('Эксперт РА')]"
   ]
  },
  {
   "cell_type": "code",
   "execution_count": 6,
   "id": "2b2d12f4-edb5-4e9f-aa9a-0a8de67eee56",
   "metadata": {},
   "outputs": [
    {
     "name": "stdout",
     "output_type": "stream",
     "text": [
      "<class 'pandas.core.frame.DataFrame'>\n",
      "Int64Index: 1200 entries, 2 to 1199\n",
      "Data columns (total 5 columns):\n",
      " #   Column            Non-Null Count  Dtype \n",
      "---  ------            --------------  ----- \n",
      " 0   Id                1200 non-null   int64 \n",
      " 1   pr_txt            1200 non-null   object\n",
      " 2   Категория         1200 non-null   object\n",
      " 3   Уровень рейтинга  1200 non-null   object\n",
      " 4   cuted_text        1200 non-null   object\n",
      "dtypes: int64(1), object(4)\n",
      "memory usage: 56.2+ KB\n"
     ]
    },
    {
     "name": "stderr",
     "output_type": "stream",
     "text": [
      "C:\\Users\\sergey_qt\\AppData\\Local\\Temp\\ipykernel_7612\\4046743968.py:1: SettingWithCopyWarning: \n",
      "A value is trying to be set on a copy of a slice from a DataFrame.\n",
      "Try using .loc[row_indexer,col_indexer] = value instead\n",
      "\n",
      "See the caveats in the documentation: https://pandas.pydata.org/pandas-docs/stable/user_guide/indexing.html#returning-a-view-versus-a-copy\n",
      "  data_nkr['cuted_text'] = data_nkr.loc[:,'pr_txt'].apply(lambda x: x.split('Регуляторное раскрытие')[0])\n",
      "C:\\Users\\sergey_qt\\AppData\\Local\\Temp\\ipykernel_7612\\4046743968.py:2: SettingWithCopyWarning: \n",
      "A value is trying to be set on a copy of a slice from a DataFrame.\n",
      "Try using .loc[row_indexer,col_indexer] = value instead\n",
      "\n",
      "See the caveats in the documentation: https://pandas.pydata.org/pandas-docs/stable/user_guide/indexing.html#returning-a-view-versus-a-copy\n",
      "  data_nra['cuted_text'] = data_nra.loc[:,'pr_txt'].apply(lambda x: x.split('ДОПОЛНИТЕЛЬНАЯ ИНФОРМАЦИЯ')[0])\n",
      "C:\\Users\\sergey_qt\\AppData\\Local\\Temp\\ipykernel_7612\\4046743968.py:3: SettingWithCopyWarning: \n",
      "A value is trying to be set on a copy of a slice from a DataFrame.\n",
      "Try using .loc[row_indexer,col_indexer] = value instead\n",
      "\n",
      "See the caveats in the documentation: https://pandas.pydata.org/pandas-docs/stable/user_guide/indexing.html#returning-a-view-versus-a-copy\n",
      "  data_nra['cuted_text'] = data_nra.loc[:,'cuted_text'].apply(lambda x: x.split('(далее – НРА, Агентство)')[1])\n",
      "C:\\Users\\sergey_qt\\AppData\\Local\\Temp\\ipykernel_7612\\4046743968.py:4: SettingWithCopyWarning: \n",
      "A value is trying to be set on a copy of a slice from a DataFrame.\n",
      "Try using .loc[row_indexer,col_indexer] = value instead\n",
      "\n",
      "See the caveats in the documentation: https://pandas.pydata.org/pandas-docs/stable/user_guide/indexing.html#returning-a-view-versus-a-copy\n",
      "  data_ra['cuted_text'] = data_ra.loc[:,'pr_txt'].apply(lambda x: x.split('Контакты для СМИ')[0])\n",
      "C:\\Users\\sergey_qt\\AppData\\Local\\Temp\\ipykernel_7612\\4046743968.py:5: SettingWithCopyWarning: \n",
      "A value is trying to be set on a copy of a slice from a DataFrame.\n",
      "Try using .loc[row_indexer,col_indexer] = value instead\n",
      "\n",
      "See the caveats in the documentation: https://pandas.pydata.org/pandas-docs/stable/user_guide/indexing.html#returning-a-view-versus-a-copy\n",
      "  data_akra['cuted_text'] = data_akra.loc[:,'pr_txt'].apply(lambda x: x.split('Регуляторное раскрытие')[0])\n"
     ]
    }
   ],
   "source": [
    "data_nkr['cuted_text'] = data_nkr.loc[:,'pr_txt'].apply(lambda x: x.split('Регуляторное раскрытие')[0])\n",
    "data_nra['cuted_text'] = data_nra.loc[:,'pr_txt'].apply(lambda x: x.split('ДОПОЛНИТЕЛЬНАЯ ИНФОРМАЦИЯ')[0])\n",
    "data_nra['cuted_text'] = data_nra.loc[:,'cuted_text'].apply(lambda x: x.split('(далее – НРА, Агентство)')[1])\n",
    "data_ra['cuted_text'] = data_ra.loc[:,'pr_txt'].apply(lambda x: x.split('Контакты для СМИ')[0])\n",
    "data_akra['cuted_text'] = data_akra.loc[:,'pr_txt'].apply(lambda x: x.split('Регуляторное раскрытие')[0])\n",
    "data = pd.concat([data_nkr, data_nra, data_akra, data_ra])\n",
    "data.info()"
   ]
  },
  {
   "cell_type": "code",
   "execution_count": 7,
   "id": "e16cb31f-44e5-434a-a7dd-09ef5fd57b09",
   "metadata": {},
   "outputs": [],
   "source": [
    "nlp = spacy.load(\"ru_core_news_lg\")"
   ]
  },
  {
   "cell_type": "code",
   "execution_count": 8,
   "id": "c87f257b-3200-48c5-a4fa-579c841a53c4",
   "metadata": {},
   "outputs": [],
   "source": [
    "def clean_text(input_text):    \n",
    "    \n",
    "    # HTML-теги: первый шаг - удалить из входного текста все HTML-теги\n",
    "    clean_text = re.sub('<[^<]+?>', '', input_text)\n",
    "    \n",
    "    # URL и ссылки: далее - удаляем из текста все URL и ссылки\n",
    "    clean_text = re.sub(r'http\\S+', '', clean_text)\n",
    "    \n",
    "    # Приводим все входные данные к нижнему регистру\n",
    "    clean_text = clean_text.lower()\n",
    "\n",
    "    # Убираем все лишние пробелы\n",
    "    # Так как все данные теперь представлены словами - удалим пробелы\n",
    "    clean_text = re.sub('\\s+', ' ', clean_text)\n",
    "    \n",
    "    # Убираем специальные символы: избавляемся от всего, что не является \"словами\"\n",
    "    clean_text = re.sub('[^а-яА-Яa-zA-z0-9\\s\\.]', '', clean_text)\n",
    "\n",
    "    # Записываем числа прописью: 100 превращается в \"сто\" (для компьютера)\n",
    "    words = []\n",
    "    for word in clean_text.split():\n",
    "        if word.isdigit():\n",
    "            words.append(num2words(word, lang='ru'))\n",
    "        else:\n",
    "            words.append(word)\n",
    "    clean_text = ' '.join(words)\n",
    "\n",
    "    # Стоп-слова: удаление стоп-слов - это стандартная практика очистки текстов\n",
    "    stop_words = set(stopwords.words('russian'))\n",
    "    tokens = word_tokenize(clean_text)\n",
    "    tokens = [token for token in tokens if token not in stop_words]\n",
    "    clean_text = ' '.join(tokens)\n",
    "\n",
    "    # Знаки препинания: далее - удаляем из текста все знаки препинания кроме точек\n",
    "    clean_text = re.sub(r'[^\\w\\s.!?]', '', clean_text)\n",
    "\n",
    "    # И наконец - возвращаем очищенный текст\n",
    "    return clean_text"
   ]
  },
  {
   "cell_type": "code",
   "execution_count": 9,
   "id": "e68dccaf-da3b-4f12-a530-c28c2944e5a8",
   "metadata": {},
   "outputs": [],
   "source": [
    "data['cuted_text'] = data['cuted_text'].apply(clean_text)"
   ]
  },
  {
   "cell_type": "code",
   "execution_count": 10,
   "id": "166451e6-b1b5-46a1-a561-6f3e0958b907",
   "metadata": {},
   "outputs": [],
   "source": [
    "@lru_cache(100000)\n",
    "def lemmatize(text):\n",
    "    result = []\n",
    "    doc = nlp(text)\n",
    "    for token in doc:\n",
    "        result.append(token.lemma_)\n",
    "    return ' '.join(result)"
   ]
  },
  {
   "cell_type": "code",
   "execution_count": 12,
   "id": "28b8ab7a-fd49-4304-b707-2f88b1b848d1",
   "metadata": {},
   "outputs": [
    {
     "name": "stderr",
     "output_type": "stream",
     "text": [
      "100%|██████████████████████████████████████████████████████████████████████████████| 1200/1200 [06:49<00:00,  2.93it/s]\n"
     ]
    }
   ],
   "source": [
    "data['lemm_spacy'] = data['cuted_text'].progress_apply(lemmatize)"
   ]
  },
  {
   "cell_type": "code",
   "execution_count": 13,
   "id": "10bc703b-1880-4c6e-8aa3-5c456671cddf",
   "metadata": {},
   "outputs": [],
   "source": [
    "X = data['lemm_spacy']\n",
    "y = data['Уровень рейтинга']\n",
    "#y = data['Категория']\n",
    "X_train, X_test, y_train, y_test = train_test_split(X, y, test_size=0.2, random_state = 42)"
   ]
  },
  {
   "cell_type": "code",
   "execution_count": 14,
   "id": "68d1ca8f-8d7d-46cf-9752-133e2e961154",
   "metadata": {},
   "outputs": [],
   "source": [
    "logreg = Pipeline([('vect', CountVectorizer(ngram_range=(1,2))),\n",
    "                ('tfidf', TfidfTransformer()),\n",
    "                ('clf', LogisticRegression(n_jobs=1, C=1e5,class_weight='balanced',solver='newton-cg')),\n",
    "               ])\n",
    "logreg.fit(X_train, y_train);"
   ]
  },
  {
   "cell_type": "code",
   "execution_count": 20,
   "id": "dd9456de-1fa2-48c0-968a-a8442566869c",
   "metadata": {},
   "outputs": [
    {
     "data": {
      "text/html": [
       "<div>\n",
       "<style scoped>\n",
       "    .dataframe tbody tr th:only-of-type {\n",
       "        vertical-align: middle;\n",
       "    }\n",
       "\n",
       "    .dataframe tbody tr th {\n",
       "        vertical-align: top;\n",
       "    }\n",
       "\n",
       "    .dataframe thead th {\n",
       "        text-align: right;\n",
       "    }\n",
       "</style>\n",
       "<table border=\"1\" class=\"dataframe\">\n",
       "  <thead>\n",
       "    <tr style=\"text-align: right;\">\n",
       "      <th></th>\n",
       "      <th>rating</th>\n",
       "      <th>category</th>\n",
       "    </tr>\n",
       "  </thead>\n",
       "  <tbody>\n",
       "    <tr>\n",
       "      <th>1169</th>\n",
       "      <td>A</td>\n",
       "      <td>A</td>\n",
       "    </tr>\n",
       "    <tr>\n",
       "      <th>668</th>\n",
       "      <td>BB-</td>\n",
       "      <td>BB</td>\n",
       "    </tr>\n",
       "    <tr>\n",
       "      <th>451</th>\n",
       "      <td>BBB+</td>\n",
       "      <td>BBB</td>\n",
       "    </tr>\n",
       "    <tr>\n",
       "      <th>874</th>\n",
       "      <td>A</td>\n",
       "      <td>A</td>\n",
       "    </tr>\n",
       "    <tr>\n",
       "      <th>606</th>\n",
       "      <td>BB+</td>\n",
       "      <td>BB</td>\n",
       "    </tr>\n",
       "  </tbody>\n",
       "</table>\n",
       "</div>"
      ],
      "text/plain": [
       "     rating category\n",
       "1169      A        A\n",
       "668     BB-       BB\n",
       "451    BBB+      BBB\n",
       "874       A        A\n",
       "606     BB+       BB"
      ]
     },
     "execution_count": 20,
     "metadata": {},
     "output_type": "execute_result"
    }
   ],
   "source": [
    "y_test = pd.DataFrame(y_test)\n",
    "y_test.columns = ['rating']\n",
    "y_test['category'] = y_test['rating'].apply(lambda x: re.sub('[^A-Z]', '', x))\n",
    "y_test.head()"
   ]
  },
  {
   "cell_type": "code",
   "execution_count": 17,
   "id": "a2eea15c-7f17-4fb4-b5ae-d23791670b9e",
   "metadata": {},
   "outputs": [
    {
     "data": {
      "text/html": [
       "<div>\n",
       "<style scoped>\n",
       "    .dataframe tbody tr th:only-of-type {\n",
       "        vertical-align: middle;\n",
       "    }\n",
       "\n",
       "    .dataframe tbody tr th {\n",
       "        vertical-align: top;\n",
       "    }\n",
       "\n",
       "    .dataframe thead th {\n",
       "        text-align: right;\n",
       "    }\n",
       "</style>\n",
       "<table border=\"1\" class=\"dataframe\">\n",
       "  <thead>\n",
       "    <tr style=\"text-align: right;\">\n",
       "      <th></th>\n",
       "      <th>rating</th>\n",
       "      <th>category</th>\n",
       "    </tr>\n",
       "  </thead>\n",
       "  <tbody>\n",
       "    <tr>\n",
       "      <th>0</th>\n",
       "      <td>A</td>\n",
       "      <td>A</td>\n",
       "    </tr>\n",
       "    <tr>\n",
       "      <th>1</th>\n",
       "      <td>BB</td>\n",
       "      <td>BB</td>\n",
       "    </tr>\n",
       "    <tr>\n",
       "      <th>2</th>\n",
       "      <td>B-</td>\n",
       "      <td>B</td>\n",
       "    </tr>\n",
       "    <tr>\n",
       "      <th>3</th>\n",
       "      <td>A</td>\n",
       "      <td>A</td>\n",
       "    </tr>\n",
       "    <tr>\n",
       "      <th>4</th>\n",
       "      <td>BB-</td>\n",
       "      <td>BB</td>\n",
       "    </tr>\n",
       "  </tbody>\n",
       "</table>\n",
       "</div>"
      ],
      "text/plain": [
       "  rating category\n",
       "0      A        A\n",
       "1     BB       BB\n",
       "2     B-        B\n",
       "3      A        A\n",
       "4    BB-       BB"
      ]
     },
     "execution_count": 17,
     "metadata": {},
     "output_type": "execute_result"
    }
   ],
   "source": [
    "y_pred = pd.DataFrame(logreg.predict(X_test))\n",
    "y_pred.columns = ['rating']\n",
    "y_pred['category'] = y_pred['rating'].apply(lambda x: re.sub('[^A-Z]', '', x))\n",
    "y_pred.head()"
   ]
  },
  {
   "cell_type": "code",
   "execution_count": 24,
   "id": "1b20743f-5324-4ba9-8f5a-284768dc77c3",
   "metadata": {},
   "outputs": [
    {
     "name": "stdout",
     "output_type": "stream",
     "text": [
      "accuracy 0.7333333333333333\n",
      "              precision    recall  f1-score   support\n",
      "\n",
      "           A       0.67      0.75      0.71        24\n",
      "          A+       0.81      0.72      0.76        29\n",
      "          A-       0.72      0.84      0.78        31\n",
      "          AA       0.79      0.79      0.79        19\n",
      "         AA+       0.72      0.76      0.74        17\n",
      "         AA-       0.70      0.70      0.70        10\n",
      "         AAA       0.93      0.93      0.93        30\n",
      "           B       0.00      0.00      0.00         2\n",
      "          B+       0.50      0.25      0.33         4\n",
      "          B-       0.33      0.25      0.29         4\n",
      "          BB       0.56      0.38      0.45        13\n",
      "         BB+       0.36      0.71      0.48         7\n",
      "         BB-       0.40      0.33      0.36         6\n",
      "         BBB       1.00      0.88      0.93        16\n",
      "        BBB+       0.72      0.68      0.70        19\n",
      "        BBB-       0.83      0.71      0.77         7\n",
      "           C       0.67      1.00      0.80         2\n",
      "\n",
      "    accuracy                           0.73       240\n",
      "   macro avg       0.63      0.63      0.62       240\n",
      "weighted avg       0.74      0.73      0.73       240\n",
      "\n"
     ]
    }
   ],
   "source": [
    "print('accuracy %s' % accuracy_score(y_pred['rating'].values, y_test['rating'].values))\n",
    "print(classification_report(y_test['rating'].values, y_pred['rating'].values))"
   ]
  },
  {
   "cell_type": "code",
   "execution_count": 25,
   "id": "18c9a9c6-1fa9-4162-ad73-08a9750657e5",
   "metadata": {},
   "outputs": [
    {
     "name": "stdout",
     "output_type": "stream",
     "text": [
      "accuracy 0.8625\n",
      "              precision    recall  f1-score   support\n",
      "\n",
      "           A       0.85      0.90      0.88        84\n",
      "          AA       0.85      0.87      0.86        46\n",
      "         AAA       0.93      0.93      0.93        30\n",
      "           B       0.80      0.40      0.53        10\n",
      "          BB       0.82      0.88      0.85        26\n",
      "         BBB       0.89      0.81      0.85        42\n",
      "           C       0.67      1.00      0.80         2\n",
      "\n",
      "    accuracy                           0.86       240\n",
      "   macro avg       0.83      0.83      0.82       240\n",
      "weighted avg       0.86      0.86      0.86       240\n",
      "\n"
     ]
    }
   ],
   "source": [
    "print('accuracy %s' % accuracy_score(y_pred['category'].values, y_test['category'].values))\n",
    "print(classification_report(y_test['category'].values, y_pred['category'].values))"
   ]
  },
  {
   "cell_type": "code",
   "execution_count": null,
   "id": "3a18428c-4e58-4fdc-ac8b-1d8519f35969",
   "metadata": {},
   "outputs": [],
   "source": []
  },
  {
   "cell_type": "code",
   "execution_count": null,
   "id": "ddfe9e12-541d-4d75-8ee8-52669380b99d",
   "metadata": {},
   "outputs": [],
   "source": []
  },
  {
   "cell_type": "code",
   "execution_count": null,
   "id": "5f833aee-45f4-4551-9e6c-0a52f503c323",
   "metadata": {},
   "outputs": [],
   "source": [
    "import joblib\n",
    "joblib.dump(logreg, 'logreg.pkl')\n",
    "model = joblib.load('logreg.pkl')"
   ]
  }
 ],
 "metadata": {
  "kernelspec": {
   "display_name": "Python 3 (ipykernel)",
   "language": "python",
   "name": "python3"
  },
  "language_info": {
   "codemirror_mode": {
    "name": "ipython",
    "version": 3
   },
   "file_extension": ".py",
   "mimetype": "text/x-python",
   "name": "python",
   "nbconvert_exporter": "python",
   "pygments_lexer": "ipython3",
   "version": "3.10.9"
  }
 },
 "nbformat": 4,
 "nbformat_minor": 5
}
