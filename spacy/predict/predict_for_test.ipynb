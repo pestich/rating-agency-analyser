{
 "cells": [
  {
   "cell_type": "code",
   "execution_count": 1,
   "metadata": {},
   "outputs": [],
   "source": [
    "import pandas as pd\n",
    "import spacy\n",
    "import re\n",
    "from sklearn.metrics import f1_score\n",
    "from sklearn.model_selection import train_test_split\n",
    "from spacy.tokens import DocBin\n",
    "from sklearn.metrics import classification_report\n",
    "\n",
    "import sys\n",
    "sys.path.append(r'../src')\n",
    "from Preprocessing_data import Preprocessing_data as pre"
   ]
  },
  {
   "cell_type": "code",
   "execution_count": 2,
   "metadata": {},
   "outputs": [],
   "source": [
    "nlp_cat = spacy.load('../train/sym/sym_model/model-best')"
   ]
  },
  {
   "cell_type": "code",
   "execution_count": 3,
   "metadata": {},
   "outputs": [],
   "source": [
    "nlp_a = spacy.load('../train/subsym/subsym_a/subsym_model/model-best/')"
   ]
  },
  {
   "cell_type": "code",
   "execution_count": 4,
   "metadata": {},
   "outputs": [],
   "source": [
    "nlp_b = spacy.load('../train/subsym/subsym_b/subsym_model/model-best/')"
   ]
  },
  {
   "cell_type": "code",
   "execution_count": 5,
   "metadata": {},
   "outputs": [],
   "source": [
    "df = pd.read_csv('../../raw_data/df_full_banks.csv')"
   ]
  },
  {
   "cell_type": "code",
   "execution_count": 32,
   "metadata": {},
   "outputs": [],
   "source": [
    "df = df.query('rating != \"отозван\"')"
   ]
  },
  {
   "cell_type": "code",
   "execution_count": 37,
   "metadata": {},
   "outputs": [],
   "source": [
    "df = df.query('rating != \"Отозван\"')"
   ]
  },
  {
   "cell_type": "code",
   "execution_count": 11,
   "metadata": {},
   "outputs": [],
   "source": [
    "df = df.rename(columns={'press_release_text': 'pr_txt'})"
   ]
  },
  {
   "cell_type": "code",
   "execution_count": 6,
   "metadata": {},
   "outputs": [],
   "source": [
    "#df = df.rename(columns={'Категория': 'category', 'Уровень рейтинга': 'rating'})"
   ]
  },
  {
   "cell_type": "code",
   "execution_count": 13,
   "metadata": {},
   "outputs": [],
   "source": [
    "df['clear_text'] = df['pr_txt'].apply(pre.drop_tail)"
   ]
  },
  {
   "cell_type": "code",
   "execution_count": 14,
   "metadata": {},
   "outputs": [],
   "source": [
    "df['clear_text'] = df['clear_text'].apply(pre.clear)\n"
   ]
  },
  {
   "cell_type": "code",
   "execution_count": 15,
   "metadata": {},
   "outputs": [],
   "source": [
    "df['clear_text'] = df['clear_text'].apply(pre.lemmatize)\n"
   ]
  },
  {
   "cell_type": "code",
   "execution_count": 16,
   "metadata": {},
   "outputs": [],
   "source": [
    "df['clear_text'] = df['clear_text'].apply(pre.tokenize_it)"
   ]
  },
  {
   "cell_type": "code",
   "execution_count": 18,
   "metadata": {},
   "outputs": [
    {
     "name": "stderr",
     "output_type": "stream",
     "text": [
      "C:\\Users\\wilte\\AppData\\Local\\Temp\\ipykernel_3560\\3226637405.py:1: FutureWarning: The default value of regex will change from True to False in a future version. In addition, single character regular expressions will *not* be treated as literal strings when regex=True.\n",
      "  df['category'] = df['rating'].str.replace('+', '').str.replace('-', '')\n"
     ]
    }
   ],
   "source": [
    "df['category'] = df['rating'].str.replace('+', '').str.replace('-', '')"
   ]
  },
  {
   "cell_type": "code",
   "execution_count": null,
   "metadata": {},
   "outputs": [],
   "source": []
  },
  {
   "cell_type": "code",
   "execution_count": 39,
   "metadata": {},
   "outputs": [],
   "source": [
    "def get_prection_cat(text):\n",
    "    doc = nlp_cat(text)\n",
    "    scores = doc.cats\n",
    "    if max(scores, key=scores.get) == 'A':\n",
    "        doc = nlp_a(text)\n",
    "        scores = doc.cats\n",
    "        return max(scores, key=scores.get)\n",
    "    elif max(scores, key=scores.get) == 'B':\n",
    "        doc = nlp_b(text)\n",
    "        scores = doc.cats\n",
    "        return max(scores, key=scores.get)   "
   ]
  },
  {
   "cell_type": "code",
   "execution_count": 40,
   "metadata": {},
   "outputs": [
    {
     "name": "stderr",
     "output_type": "stream",
     "text": [
      "C:\\Users\\wilte\\AppData\\Local\\Temp\\ipykernel_3560\\491850382.py:1: SettingWithCopyWarning: \n",
      "A value is trying to be set on a copy of a slice from a DataFrame.\n",
      "Try using .loc[row_indexer,col_indexer] = value instead\n",
      "\n",
      "See the caveats in the documentation: https://pandas.pydata.org/pandas-docs/stable/user_guide/indexing.html#returning-a-view-versus-a-copy\n",
      "  df['pred_rating'] = df['clear_text'].apply(get_prection_cat)\n"
     ]
    }
   ],
   "source": [
    "df['pred_rating'] = df['clear_text'].apply(get_prection_cat)"
   ]
  },
  {
   "cell_type": "code",
   "execution_count": 41,
   "metadata": {},
   "outputs": [
    {
     "name": "stderr",
     "output_type": "stream",
     "text": [
      "C:\\Users\\wilte\\AppData\\Local\\Temp\\ipykernel_3560\\2885058114.py:1: FutureWarning: The default value of regex will change from True to False in a future version. In addition, single character regular expressions will *not* be treated as literal strings when regex=True.\n",
      "  df['pred_category'] = df['pred_rating'].str.replace('+', '').str.replace('-', '')\n",
      "C:\\Users\\wilte\\AppData\\Local\\Temp\\ipykernel_3560\\2885058114.py:1: SettingWithCopyWarning: \n",
      "A value is trying to be set on a copy of a slice from a DataFrame.\n",
      "Try using .loc[row_indexer,col_indexer] = value instead\n",
      "\n",
      "See the caveats in the documentation: https://pandas.pydata.org/pandas-docs/stable/user_guide/indexing.html#returning-a-view-versus-a-copy\n",
      "  df['pred_category'] = df['pred_rating'].str.replace('+', '').str.replace('-', '')\n"
     ]
    }
   ],
   "source": [
    "df['pred_category'] = df['pred_rating'].str.replace('+', '').str.replace('-', '')"
   ]
  },
  {
   "cell_type": "code",
   "execution_count": 42,
   "metadata": {},
   "outputs": [
    {
     "data": {
      "text/plain": [
       "0.1493937342716477"
      ]
     },
     "execution_count": 42,
     "metadata": {},
     "output_type": "execute_result"
    }
   ],
   "source": [
    "f1_score(df['category'], df['pred_category'], average='weighted')"
   ]
  },
  {
   "cell_type": "code",
   "execution_count": 43,
   "metadata": {},
   "outputs": [
    {
     "data": {
      "text/plain": [
       "0.04767524938486512"
      ]
     },
     "execution_count": 43,
     "metadata": {},
     "output_type": "execute_result"
    }
   ],
   "source": [
    "f1_score(df['rating'], df['pred_rating'], average='weighted')"
   ]
  },
  {
   "cell_type": "code",
   "execution_count": 44,
   "metadata": {},
   "outputs": [
    {
     "data": {
      "text/plain": [
       "0.08327671909523902"
      ]
     },
     "execution_count": 44,
     "metadata": {},
     "output_type": "execute_result"
    }
   ],
   "source": [
    "f1_score(df['category'], df['pred_category'], average='weighted') * 0.35 + f1_score(df['rating'], df['pred_rating'], average='weighted') * 0.65"
   ]
  },
  {
   "cell_type": "code",
   "execution_count": 45,
   "metadata": {},
   "outputs": [
    {
     "name": "stdout",
     "output_type": "stream",
     "text": [
      "              precision    recall  f1-score   support\n",
      "\n",
      "           A       0.26      0.20      0.23        46\n",
      "          AA       0.33      0.04      0.08        23\n",
      "         AAA       0.17      0.04      0.07        24\n",
      "           B       0.00      0.00      0.00        44\n",
      "          BB       0.35      0.11      0.17        64\n",
      "         BBB       0.18      0.86      0.30        37\n",
      "\n",
      "    accuracy                           0.21       238\n",
      "   macro avg       0.22      0.21      0.14       238\n",
      "weighted avg       0.22      0.21      0.15       238\n",
      "\n"
     ]
    },
    {
     "name": "stderr",
     "output_type": "stream",
     "text": [
      "c:\\Users\\wilte\\OneDrive\\Рабочий стол\\projects\\rating-agency-analyser\\venv\\Lib\\site-packages\\sklearn\\metrics\\_classification.py:1469: UndefinedMetricWarning: Precision and F-score are ill-defined and being set to 0.0 in labels with no predicted samples. Use `zero_division` parameter to control this behavior.\n",
      "  _warn_prf(average, modifier, msg_start, len(result))\n",
      "c:\\Users\\wilte\\OneDrive\\Рабочий стол\\projects\\rating-agency-analyser\\venv\\Lib\\site-packages\\sklearn\\metrics\\_classification.py:1469: UndefinedMetricWarning: Precision and F-score are ill-defined and being set to 0.0 in labels with no predicted samples. Use `zero_division` parameter to control this behavior.\n",
      "  _warn_prf(average, modifier, msg_start, len(result))\n",
      "c:\\Users\\wilte\\OneDrive\\Рабочий стол\\projects\\rating-agency-analyser\\venv\\Lib\\site-packages\\sklearn\\metrics\\_classification.py:1469: UndefinedMetricWarning: Precision and F-score are ill-defined and being set to 0.0 in labels with no predicted samples. Use `zero_division` parameter to control this behavior.\n",
      "  _warn_prf(average, modifier, msg_start, len(result))\n"
     ]
    }
   ],
   "source": [
    "print(classification_report(df['category'], df['pred_category']))"
   ]
  },
  {
   "cell_type": "code",
   "execution_count": 46,
   "metadata": {},
   "outputs": [
    {
     "name": "stdout",
     "output_type": "stream",
     "text": [
      "              precision    recall  f1-score   support\n",
      "\n",
      "           A       0.00      0.00      0.00        13\n",
      "          A+       0.50      0.13      0.21        15\n",
      "          A-       0.08      0.11      0.09        18\n",
      "          AA       0.33      0.08      0.12        13\n",
      "         AA+       0.00      0.00      0.00         7\n",
      "         AA-       0.00      0.00      0.00         3\n",
      "         AAA       0.17      0.04      0.07        24\n",
      "           B       0.00      0.00      0.00        16\n",
      "          B+       0.00      0.00      0.00        20\n",
      "          B-       0.00      0.00      0.00         8\n",
      "          BB       0.10      0.14      0.12        14\n",
      "         BB+       0.00      0.00      0.00        26\n",
      "         BB-       0.00      0.00      0.00        24\n",
      "         BBB       0.07      0.10      0.08        10\n",
      "        BBB+       0.05      0.89      0.09         9\n",
      "        BBB-       0.00      0.00      0.00        18\n",
      "\n",
      "    accuracy                           0.07       238\n",
      "   macro avg       0.08      0.09      0.05       238\n",
      "weighted avg       0.08      0.07      0.05       238\n",
      "\n"
     ]
    },
    {
     "name": "stderr",
     "output_type": "stream",
     "text": [
      "c:\\Users\\wilte\\OneDrive\\Рабочий стол\\projects\\rating-agency-analyser\\venv\\Lib\\site-packages\\sklearn\\metrics\\_classification.py:1469: UndefinedMetricWarning: Precision and F-score are ill-defined and being set to 0.0 in labels with no predicted samples. Use `zero_division` parameter to control this behavior.\n",
      "  _warn_prf(average, modifier, msg_start, len(result))\n",
      "c:\\Users\\wilte\\OneDrive\\Рабочий стол\\projects\\rating-agency-analyser\\venv\\Lib\\site-packages\\sklearn\\metrics\\_classification.py:1469: UndefinedMetricWarning: Precision and F-score are ill-defined and being set to 0.0 in labels with no predicted samples. Use `zero_division` parameter to control this behavior.\n",
      "  _warn_prf(average, modifier, msg_start, len(result))\n",
      "c:\\Users\\wilte\\OneDrive\\Рабочий стол\\projects\\rating-agency-analyser\\venv\\Lib\\site-packages\\sklearn\\metrics\\_classification.py:1469: UndefinedMetricWarning: Precision and F-score are ill-defined and being set to 0.0 in labels with no predicted samples. Use `zero_division` parameter to control this behavior.\n",
      "  _warn_prf(average, modifier, msg_start, len(result))\n"
     ]
    }
   ],
   "source": [
    "print(classification_report(df['rating'], df['pred_rating']))"
   ]
  },
  {
   "cell_type": "code",
   "execution_count": null,
   "metadata": {},
   "outputs": [],
   "source": []
  },
  {
   "cell_type": "code",
   "execution_count": null,
   "metadata": {},
   "outputs": [],
   "source": []
  }
 ],
 "metadata": {
  "kernelspec": {
   "display_name": "venv",
   "language": "python",
   "name": "python3"
  },
  "language_info": {
   "codemirror_mode": {
    "name": "ipython",
    "version": 3
   },
   "file_extension": ".py",
   "mimetype": "text/x-python",
   "name": "python",
   "nbconvert_exporter": "python",
   "pygments_lexer": "ipython3",
   "version": "3.11.2"
  },
  "orig_nbformat": 4
 },
 "nbformat": 4,
 "nbformat_minor": 2
}
