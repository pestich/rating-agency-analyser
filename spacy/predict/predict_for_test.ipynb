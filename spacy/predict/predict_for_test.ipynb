{
 "cells": [
  {
   "cell_type": "code",
   "execution_count": 18,
   "metadata": {},
   "outputs": [],
   "source": [
    "import pandas as pd\n",
    "import spacy\n",
    "from tqdm import tqdm\n",
    "from typing import List\n",
    "from functools import lru_cache\n",
    "from collections import Counter\n",
    "import re\n",
    "from spacy import displacy\n",
    "\n",
    "\n",
    "tqdm.pandas()"
   ]
  },
  {
   "cell_type": "markdown",
   "metadata": {},
   "source": [
    "### Загрузка обученных моделей"
   ]
  },
  {
   "cell_type": "code",
   "execution_count": 19,
   "metadata": {},
   "outputs": [],
   "source": [
    "nlp_cat = spacy.load('../train/sym/sym_model/model-best')"
   ]
  },
  {
   "cell_type": "code",
   "execution_count": 20,
   "metadata": {},
   "outputs": [],
   "source": [
    "nlp_a = spacy.load('../train/subsym/subsym_a/subsym_model/model-best/')"
   ]
  },
  {
   "cell_type": "code",
   "execution_count": 21,
   "metadata": {},
   "outputs": [],
   "source": [
    "nlp_b = spacy.load('../train/subsym/subsym_b/subsym_model/model-best/')"
   ]
  },
  {
   "cell_type": "code",
   "execution_count": 22,
   "metadata": {},
   "outputs": [],
   "source": [
    "nlp_c = spacy.load('../train/subsym/subsym_c/subsym_model/model-best/')"
   ]
  },
  {
   "cell_type": "code",
   "execution_count": 23,
   "metadata": {},
   "outputs": [],
   "source": [
    "nlp_kw = spacy.load('../../spacy/train/ner_model/ner_model/model-best/')"
   ]
  },
  {
   "cell_type": "markdown",
   "metadata": {},
   "source": [
    "### Загрузка данных"
   ]
  },
  {
   "cell_type": "code",
   "execution_count": 3,
   "metadata": {},
   "outputs": [],
   "source": [
    "df = pd.read_excel('../../raw_data/CRA_test_422.xlsx')"
   ]
  },
  {
   "cell_type": "code",
   "execution_count": 4,
   "metadata": {},
   "outputs": [],
   "source": [
    "def drop_tail(text):\n",
    "    if 'агентство НКР' in text:\n",
    "        return text.split('Регуляторное раскрытие')[0]\n",
    "    elif 'Национальное Рейтинговое Агентство' in text:\n",
    "        text = text.split('(далее – НРА, Агентство)')[1]\n",
    "        return text.split('ДОПОЛНИТЕЛЬНАЯ ИНФОРМАЦИЯ')[0]\n",
    "    elif 'АКРА' in text:\n",
    "        return text.split('Регуляторное раскрытие')[0]\n",
    "    elif 'Эксперт РА' in text:\n",
    "        return text.split('Контакты для СМИ')[0]\n",
    "    return text"
   ]
  },
  {
   "cell_type": "code",
   "execution_count": 5,
   "metadata": {},
   "outputs": [
    {
     "name": "stderr",
     "output_type": "stream",
     "text": [
      "100%|██████████| 422/422 [00:00<00:00, 30992.76it/s]\n"
     ]
    }
   ],
   "source": [
    "df['clear_text'] = df['pr_txt'].progress_apply(drop_tail)"
   ]
  },
  {
   "cell_type": "code",
   "execution_count": 6,
   "metadata": {},
   "outputs": [
    {
     "data": {
      "text/html": [
       "<div>\n",
       "<style scoped>\n",
       "    .dataframe tbody tr th:only-of-type {\n",
       "        vertical-align: middle;\n",
       "    }\n",
       "\n",
       "    .dataframe tbody tr th {\n",
       "        vertical-align: top;\n",
       "    }\n",
       "\n",
       "    .dataframe thead th {\n",
       "        text-align: right;\n",
       "    }\n",
       "</style>\n",
       "<table border=\"1\" class=\"dataframe\">\n",
       "  <thead>\n",
       "    <tr style=\"text-align: right;\">\n",
       "      <th></th>\n",
       "      <th>Id</th>\n",
       "      <th>pr_txt</th>\n",
       "      <th>Категория</th>\n",
       "      <th>Уровень рейтинга</th>\n",
       "      <th>clear_text</th>\n",
       "    </tr>\n",
       "  </thead>\n",
       "  <tbody>\n",
       "    <tr>\n",
       "      <th>67</th>\n",
       "      <td>1279</td>\n",
       "      <td>«Эксперт РА» присвоил кредитный рейтинг компан...</td>\n",
       "      <td>NaN</td>\n",
       "      <td>NaN</td>\n",
       "      <td>«Эксперт РА» присвоил кредитный рейтинг компан...</td>\n",
       "    </tr>\n",
       "    <tr>\n",
       "      <th>356</th>\n",
       "      <td>1566</td>\n",
       "      <td>\\n\\nЭкспертное агентство \"Финансовый анализ\" п...</td>\n",
       "      <td>NaN</td>\n",
       "      <td>NaN</td>\n",
       "      <td>\\n\\nЭкспертное агентство \"Финансовый анализ\" п...</td>\n",
       "    </tr>\n",
       "    <tr>\n",
       "      <th>12</th>\n",
       "      <td>1224</td>\n",
       "      <td>«Эксперт РА» присвоил кредитный рейтинг компан...</td>\n",
       "      <td>NaN</td>\n",
       "      <td>NaN</td>\n",
       "      <td>«Эксперт РА» присвоил кредитный рейтинг компан...</td>\n",
       "    </tr>\n",
       "  </tbody>\n",
       "</table>\n",
       "</div>"
      ],
      "text/plain": [
       "       Id                                             pr_txt  Категория  \\\n",
       "67   1279  «Эксперт РА» присвоил кредитный рейтинг компан...        NaN   \n",
       "356  1566  \\n\\nЭкспертное агентство \"Финансовый анализ\" п...        NaN   \n",
       "12   1224  «Эксперт РА» присвоил кредитный рейтинг компан...        NaN   \n",
       "\n",
       "     Уровень рейтинга                                         clear_text  \n",
       "67                NaN  «Эксперт РА» присвоил кредитный рейтинг компан...  \n",
       "356               NaN  \\n\\nЭкспертное агентство \"Финансовый анализ\" п...  \n",
       "12                NaN  «Эксперт РА» присвоил кредитный рейтинг компан...  "
      ]
     },
     "execution_count": 6,
     "metadata": {},
     "output_type": "execute_result"
    }
   ],
   "source": [
    "df.sample(3)"
   ]
  },
  {
   "cell_type": "code",
   "execution_count": 7,
   "metadata": {},
   "outputs": [],
   "source": [
    "nlp = spacy.load('ru_core_news_lg')"
   ]
  },
  {
   "cell_type": "code",
   "execution_count": 8,
   "metadata": {},
   "outputs": [],
   "source": [
    "@lru_cache(100000)\n",
    "def clear(text):\n",
    "    ner_list = ['ORG', 'LOC']\n",
    "    result = []\n",
    "    doc = nlp(text)\n",
    "    for token in doc:\n",
    "        if token.ent_type_ not in ner_list:\n",
    "            result.append(token.text.lower())\n",
    "    text =  ' '.join(result)\n",
    "    text = text.replace('ё', 'е')\n",
    "    text = text.replace('Ё', 'Е')\n",
    "    text = re.sub(r'[^а-яА-Я ]', '', text)\n",
    "    text = text.replace('\\n', ' ')\n",
    "    text = text.replace('.', '. ')\n",
    "    text = text.replace(',', ', ')\n",
    "    text = re.sub('\\s+', ' ', text)\n",
    "    return text.strip()\n",
    "   "
   ]
  },
  {
   "cell_type": "code",
   "execution_count": 9,
   "metadata": {},
   "outputs": [
    {
     "name": "stderr",
     "output_type": "stream",
     "text": [
      "100%|██████████| 422/422 [00:55<00:00,  7.59it/s]\n"
     ]
    }
   ],
   "source": [
    "df['clear_text'] = df['clear_text'].progress_apply(clear)\n"
   ]
  },
  {
   "cell_type": "code",
   "execution_count": 10,
   "metadata": {},
   "outputs": [
    {
     "data": {
      "text/html": [
       "<div>\n",
       "<style scoped>\n",
       "    .dataframe tbody tr th:only-of-type {\n",
       "        vertical-align: middle;\n",
       "    }\n",
       "\n",
       "    .dataframe tbody tr th {\n",
       "        vertical-align: top;\n",
       "    }\n",
       "\n",
       "    .dataframe thead th {\n",
       "        text-align: right;\n",
       "    }\n",
       "</style>\n",
       "<table border=\"1\" class=\"dataframe\">\n",
       "  <thead>\n",
       "    <tr style=\"text-align: right;\">\n",
       "      <th></th>\n",
       "      <th>Id</th>\n",
       "      <th>pr_txt</th>\n",
       "      <th>Категория</th>\n",
       "      <th>Уровень рейтинга</th>\n",
       "      <th>clear_text</th>\n",
       "    </tr>\n",
       "  </thead>\n",
       "  <tbody>\n",
       "    <tr>\n",
       "      <th>16</th>\n",
       "      <td>1228</td>\n",
       "      <td>АКРА повысило кредитный рейтинг ООО «РКС-Холди...</td>\n",
       "      <td>NaN</td>\n",
       "      <td>NaN</td>\n",
       "      <td>повысило кредитный рейтинг до прогноз стабильн...</td>\n",
       "    </tr>\n",
       "    <tr>\n",
       "      <th>298</th>\n",
       "      <td>1508</td>\n",
       "      <td>23 июля 2021 г.\\n\\nВедущий рейтинговый аналит...</td>\n",
       "      <td>NaN</td>\n",
       "      <td>NaN</td>\n",
       "      <td>июля г ведущий рейтинговый аналитик иванова ма...</td>\n",
       "    </tr>\n",
       "    <tr>\n",
       "      <th>254</th>\n",
       "      <td>1458</td>\n",
       "      <td>«Эксперт РА» снижает рейтинг кредитоспособнос...</td>\n",
       "      <td>NaN</td>\n",
       "      <td>NaN</td>\n",
       "      <td>снижает рейтинг кредитоспособности до уровня и...</td>\n",
       "    </tr>\n",
       "  </tbody>\n",
       "</table>\n",
       "</div>"
      ],
      "text/plain": [
       "       Id                                             pr_txt  Категория  \\\n",
       "16   1228  АКРА повысило кредитный рейтинг ООО «РКС-Холди...        NaN   \n",
       "298  1508   23 июля 2021 г.\\n\\nВедущий рейтинговый аналит...        NaN   \n",
       "254  1458   «Эксперт РА» снижает рейтинг кредитоспособнос...        NaN   \n",
       "\n",
       "     Уровень рейтинга                                         clear_text  \n",
       "16                NaN  повысило кредитный рейтинг до прогноз стабильн...  \n",
       "298               NaN  июля г ведущий рейтинговый аналитик иванова ма...  \n",
       "254               NaN  снижает рейтинг кредитоспособности до уровня и...  "
      ]
     },
     "execution_count": 10,
     "metadata": {},
     "output_type": "execute_result"
    }
   ],
   "source": [
    "df.sample(3)"
   ]
  },
  {
   "cell_type": "code",
   "execution_count": 11,
   "metadata": {},
   "outputs": [],
   "source": [
    "@lru_cache(100000)\n",
    "def lemmatize(text):\n",
    "    result = []\n",
    "    doc = nlp(text)\n",
    "    for token in doc:\n",
    "        result.append(token.lemma_)\n",
    "    return ' '.join(result)"
   ]
  },
  {
   "cell_type": "code",
   "execution_count": 12,
   "metadata": {},
   "outputs": [
    {
     "name": "stderr",
     "output_type": "stream",
     "text": [
      "100%|██████████| 422/422 [00:44<00:00,  9.49it/s]\n"
     ]
    }
   ],
   "source": [
    "df['clear_text'] = df['clear_text'].progress_apply(lemmatize)\n"
   ]
  },
  {
   "cell_type": "code",
   "execution_count": 13,
   "metadata": {},
   "outputs": [],
   "source": [
    "nlp.Defaults.stop_words.update({'год', 'уровень', 'агентство', 'руб', 'млрд', 'компания', 'рейтинг'})"
   ]
  },
  {
   "cell_type": "code",
   "execution_count": 14,
   "metadata": {},
   "outputs": [],
   "source": [
    "@lru_cache(100000)\n",
    "def tokenize_it(text: str) -> List:\n",
    "    result = []\n",
    "    doc = nlp(text)\n",
    "    for token in doc:\n",
    "        if token.is_stop != True and token.is_punct != True:\n",
    "            result.append(token.text)\n",
    "    return result"
   ]
  },
  {
   "cell_type": "code",
   "execution_count": 15,
   "metadata": {},
   "outputs": [
    {
     "name": "stderr",
     "output_type": "stream",
     "text": [
      "100%|██████████| 422/422 [00:38<00:00, 11.01it/s]\n"
     ]
    }
   ],
   "source": [
    "df['tokenized'] = df['clear_text'].progress_apply(tokenize_it)"
   ]
  },
  {
   "cell_type": "code",
   "execution_count": 16,
   "metadata": {},
   "outputs": [],
   "source": [
    "df['tokenized_str'] = df['tokenized'].apply(lambda x: ' '.join(x))"
   ]
  },
  {
   "cell_type": "markdown",
   "metadata": {},
   "source": [
    "### Предсказание классов"
   ]
  },
  {
   "cell_type": "code",
   "execution_count": 24,
   "metadata": {},
   "outputs": [],
   "source": [
    "def get_prection_cat(text):\n",
    "    doc = nlp_cat(text)\n",
    "    scores = doc.cats\n",
    "    if max(scores, key=scores.get) == '1':\n",
    "        doc = nlp_a(text)\n",
    "        scores = doc.cats\n",
    "        return max(scores, key=scores.get)\n",
    "    elif max(scores, key=scores.get) == '2':\n",
    "        doc = nlp_b(text)\n",
    "        scores = doc.cats\n",
    "        return max(scores, key=scores.get)\n",
    "    elif max(scores, key=scores.get) == '3':\n",
    "        doc = nlp_c(text)\n",
    "        scores = doc.cats\n",
    "        return max(scores, key=scores.get)    "
   ]
  },
  {
   "cell_type": "code",
   "execution_count": 25,
   "metadata": {},
   "outputs": [],
   "source": [
    "df['Уровень рейтинга'] = df['tokenized_str'].apply(get_prection_cat)"
   ]
  },
  {
   "cell_type": "code",
   "execution_count": 26,
   "metadata": {},
   "outputs": [
    {
     "name": "stderr",
     "output_type": "stream",
     "text": [
      "C:\\Users\\wilte\\AppData\\Local\\Temp\\ipykernel_1868\\3567747884.py:1: FutureWarning: The default value of regex will change from True to False in a future version. In addition, single character regular expressions will *not* be treated as literal strings when regex=True.\n",
      "  df['Категория'] = df['Уровень рейтинга'].str.replace('+', '').str.replace('-', '')\n"
     ]
    }
   ],
   "source": [
    "df['Категория'] = df['Уровень рейтинга'].str.replace('+', '').str.replace('-', '')"
   ]
  },
  {
   "cell_type": "code",
   "execution_count": 27,
   "metadata": {},
   "outputs": [],
   "source": [
    "submission = df[['Id', 'Категория', 'Уровень рейтинга']]"
   ]
  },
  {
   "cell_type": "code",
   "execution_count": 28,
   "metadata": {},
   "outputs": [],
   "source": [
    "submission.to_csv('../../submission/submission.csv', sep=';')"
   ]
  },
  {
   "cell_type": "markdown",
   "metadata": {},
   "source": [
    "### Выделение ключевых конструкций"
   ]
  },
  {
   "cell_type": "code",
   "execution_count": 35,
   "metadata": {},
   "outputs": [],
   "source": [
    "def render_kw(text):\n",
    "    OPTIONS  = {'colors': {'KEYWORDS': '#00FA9A'}}\n",
    "    doc = nlp_kw(text)\n",
    "    displacy.render(doc, style=\"ent\", jupyter=True, options=OPTIONS)"
   ]
  },
  {
   "cell_type": "code",
   "execution_count": 43,
   "metadata": {},
   "outputs": [
    {
     "data": {
      "text/html": [
       "<span class=\"tex2jax_ignore\"><div class=\"entities\" style=\"line-height: 2.5; direction: ltr\">АКРА подтвердило кредитный рейтинг ПАО «Россети» на уровне &lt;rating&gt;, прогноз «Стабильный» Подтверждение кредитного рейтинга ПАО «Россети» (далее — Компания, «Россети») на уровне финансовых обязательств Правительства Российской Федерации \n",
       "<mark class=\"entity\" style=\"background: #00FA9A; padding: 0.45em 0.6em; margin: 0 0.25em; line-height: 1; border-radius: 0.35em;\">\n",
       "    обусловлено очень высокой системной значимостью\n",
       "    <span style=\"font-size: 0.8em; font-weight: bold; line-height: 1; border-radius: 0.35em; vertical-align: middle; margin-left: 0.5rem\">KEYWORDS</span>\n",
       "</mark>\n",
       " Компании для российской экономики и очень высокой степенью влияния государства на «Россети». Оценка собственной кредитоспособности (ОСК) Компании на уровне аа- обусловлена монопольным управлением электросетевым комплексом России, \n",
       "<mark class=\"entity\" style=\"background: #00FA9A; padding: 0.45em 0.6em; margin: 0 0.25em; line-height: 1; border-radius: 0.35em;\">\n",
       "    очень высокой рентабельностью бизнеса\n",
       "    <span style=\"font-size: 0.8em; font-weight: bold; line-height: 1; border-radius: 0.35em; vertical-align: middle; margin-left: 0.5rem\">KEYWORDS</span>\n",
       "</mark>\n",
       ", \n",
       "<mark class=\"entity\" style=\"background: #00FA9A; padding: 0.45em 0.6em; margin: 0 0.25em; line-height: 1; border-radius: 0.35em;\">\n",
       "    умеренным уровнем долговой нагрузки\n",
       "    <span style=\"font-size: 0.8em; font-weight: bold; line-height: 1; border-radius: 0.35em; vertical-align: middle; margin-left: 0.5rem\">KEYWORDS</span>\n",
       "</mark>\n",
       " и \n",
       "<mark class=\"entity\" style=\"background: #00FA9A; padding: 0.45em 0.6em; margin: 0 0.25em; line-height: 1; border-radius: 0.35em;\">\n",
       "    очень высоким уровнем ликвидности\n",
       "    <span style=\"font-size: 0.8em; font-weight: bold; line-height: 1; border-radius: 0.35em; vertical-align: middle; margin-left: 0.5rem\">KEYWORDS</span>\n",
       "</mark>\n",
       ". ОСК сдерживается отрицательным денежным потоком в связи с существенными капитальными вложениями. ПАО «Россети» — оператор энергетических сетей в России. Объединяет 15 электросетевых компаний: ФСК ЕЭС (управляет магистральными электросетями РФ) и 14 дочерних обществ (управляют распределительными сетевыми комплексами в разных регионах России). Услуги по передаче электроэнергии являются естественномонопольными и регулируются государственными тарифами. Компания также управляет девятью энергосбытовыми организациями. Контролирующий акционер с долей 88% — государство в лице Росимущества. Ключевые факторы рейтинговой оценки \n",
       "<mark class=\"entity\" style=\"background: #00FA9A; padding: 0.45em 0.6em; margin: 0 0.25em; line-height: 1; border-radius: 0.35em;\">\n",
       "    Стратегическая значимость для государства\n",
       "    <span style=\"font-size: 0.8em; font-weight: bold; line-height: 1; border-radius: 0.35em; vertical-align: middle; margin-left: 0.5rem\">KEYWORDS</span>\n",
       "</mark>\n",
       " и государственный контроль над управлением. «Россети» — монопольный оператор электросетевого комплекса России, единственного сектора в электроэнергетике, где государство сохранило акционерный контроль и прямое государственное регулирование после либерализации рынка электроэнергии. «Россети» выполняют квазигосударственные функции в части страхования социальных рисков (принимают функции сбыта электроэнергии при банкротстве сбытовых компаний), социальной поддержки (перекрестное субсидирование в тарифах), технической политики и развития энергетической инфраструктуры. С 2010 по 2017 год инвестиции государства в капитал Компании составили 72 млрд руб., субсидии — 6,5 млрд руб., выкуп Государственной корпорацией развития «ВЭБ.РФ» (рейтинг АКРА — &lt;rating&gt;, прогноз «Стабильный») инфраструктурных облигаций компаний группы — 156 млрд руб. Инфраструктурная монополия с умеренным регуляторным риском. Практика сдерживания сетевых тарифов для удержания общего роста цен на электроэнергию в России широко применялась в предыдущие годы, так как доля тарифов на передачу в конечной цене на электроэнергию была высока и государство сохранило прямое регулирование сетевых тарифов. Жесткая тарифная политика в отношении сетевого комплекса, включая две заморозки тарифов в 2012 и 2014 годах, проводится с 2012-го, однако за этот период «Россети» улучшили показатели рентабельности и сократили долговую нагрузку за счет оптимизации операционных и капитальных затрат. Режим низкой инфляции сделает Компанию менее чувствительной к сдерживающей тарифной политике, но более чувствительной к неплатежам, поскольку обесценение проблемной задолженности замедлится. Умеренная долговая нагрузка. По прогнозам АКРА, в 2019–2021 годах общий долг «Россетей» к денежному потоку будет находиться на умеренном уровне (2,03–2,2х общий долг/FFO до чистых платежей). В 2019–2020 годах Компания сохранит объемы инвестиционной программы в пределах уровней предыдущих лет, что не приведет к значимому росту показателей долговой нагрузки при базовом сценарии. Весь долг Компании является необеспеченным и номинирован в рублях, 63% приходится на облигационный долг. Средняя срочность заимствований — 9 лет. \n",
       "<mark class=\"entity\" style=\"background: #00FA9A; padding: 0.45em 0.6em; margin: 0 0.25em; line-height: 1; border-radius: 0.35em;\">\n",
       "    Отрицательный денежный поток\n",
       "    <span style=\"font-size: 0.8em; font-weight: bold; line-height: 1; border-radius: 0.35em; vertical-align: middle; margin-left: 0.5rem\">KEYWORDS</span>\n",
       "</mark>\n",
       ". В 2019–2021 годах свободный денежный поток Компании останется отрицательным. Высокие капитальные затраты — главный фактор, влияющий на формирование отрицательного денежного потока. Пик инвестиций по отношению к выручке приходился на 2011–2012 годы. С 2012-го по 2018-й данный показатель упал с 53% до 27%. В среднем 40% объема инвестиционной программы направлено на поддержание основных средств, 37% — на технологическое присоединение, оставшаяся часть — на новое строительство и прочее. В рамках представленной Компанией стратегии построения цифровой сети до 2030 года возможен рост капитальной программы после 2021–го, однако он будет обеспечен соответствующим ростом тарифной составляющей, что не приведет к ухудшению показателя денежного потока Компании. Ключевые допущения сохранение в 2019–2021 годах среднего темпа индексации тарифов на уровне 3%, инфляции — на уровне 3,9%; реализация Компанией программы капитального развития в соответствии с заявленными сроками и объемами (230–260 млрд руб. ежегодно в 2019–2020 годах); выплата дивидендов в соответствии с принципом 50% от чистой прибыли по МСФО за вычетом инвестиционной составляющей. Факторы возможного изменения прогноза или рейтинга «Стабильный» прогноз предполагает с наиболее высокой долей вероятности неизменность рейтинга на горизонте 12–18 месяцев. К негативному рейтинговому действию могут привести: потеря контроля со стороны государства, например, приватизация Компании; существенное снижение уровня системной значимости «Россетей» для экономики РФ; значительное сокращение оказываемой поддержки со стороны государства и увеличение дивидендов в пользу бюджета. Компоненты рейтинга Оценка собственной кредитоспособности (ОСК): аа-. Поддержка: паритет с РФ. Рейтинги выпусков Рейтинги эмиссиям в обращении не присвоены. Регуляторное раскрытие Кредитный рейтинг был присвоен по национальной шкале для Российской Федерации на основе Методологии присвоения кредитных рейтингов нефинансовым компаниям по национальной шкале для Российской Федерации, Методологии анализа взаимосвязи рейтингуемых лиц с государством, а также Основных понятий, используемых Аналитическим Кредитным Рейтинговым Агентством в рейтинговой деятельности. Впервые кредитный рейтинг ПАО «Россети» был опубликован 02.03.2018. Очередной пересмотр кредитного рейтинга и прогноза по кредитному рейтингу ПАО «Россети» ожидается в течение одного года с даты опубликования настоящего пресс-релиза. Кредитный рейтинг был присвоен на основании данных, предоставленных ПАО «Россети», информации из открытых источников, а также баз данных АКРА. Кредитный рейтинг был присвоен на основании консолидированной отчетности по МСФО ПАО «Россети». Кредитный рейтинг является запрошенным, ПАО «Россети» принимало участие в процессе присвоения кредитного рейтинга. Факты существенного отклонения информации от данных, зафиксированных в официально опубликованной финансовой отчетности ПАО «Россети», не выявлены. АКРА не оказывало ПАО «Россети» дополнительных услуг. Конфликты интересов в рамках процесса присвоения кредитного рейтинга выявлены не были.</div></span>"
      ],
      "text/plain": [
       "<IPython.core.display.HTML object>"
      ]
     },
     "metadata": {},
     "output_type": "display_data"
    }
   ],
   "source": [
    "render_kw(df['pr_txt'][15])"
   ]
  },
  {
   "cell_type": "code",
   "execution_count": null,
   "metadata": {},
   "outputs": [],
   "source": []
  }
 ],
 "metadata": {
  "kernelspec": {
   "display_name": "venv",
   "language": "python",
   "name": "python3"
  },
  "language_info": {
   "codemirror_mode": {
    "name": "ipython",
    "version": 3
   },
   "file_extension": ".py",
   "mimetype": "text/x-python",
   "name": "python",
   "nbconvert_exporter": "python",
   "pygments_lexer": "ipython3",
   "version": "3.11.2"
  },
  "orig_nbformat": 4
 },
 "nbformat": 4,
 "nbformat_minor": 2
}
