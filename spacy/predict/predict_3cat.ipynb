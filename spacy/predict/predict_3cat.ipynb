{
 "cells": [
  {
   "cell_type": "code",
   "execution_count": 1,
   "metadata": {},
   "outputs": [],
   "source": [
    "import pandas as pd\n",
    "import spacy\n",
    "import re\n",
    "from sklearn.metrics import f1_score\n",
    "from sklearn.model_selection import train_test_split\n",
    "from spacy.tokens import DocBin\n",
    "from sklearn.metrics import classification_report"
   ]
  },
  {
   "cell_type": "code",
   "execution_count": 2,
   "metadata": {},
   "outputs": [],
   "source": [
    "nlp_cat = spacy.load('../train/sym/sym_model/model-best')"
   ]
  },
  {
   "cell_type": "code",
   "execution_count": 3,
   "metadata": {},
   "outputs": [],
   "source": [
    "nlp_a = spacy.load('../train/subsym/subsym_a/subsym_model/model-best/')"
   ]
  },
  {
   "cell_type": "code",
   "execution_count": 4,
   "metadata": {},
   "outputs": [],
   "source": [
    "nlp_b = spacy.load('../train/subsym/subsym_b/subsym_model/model-best/')"
   ]
  },
  {
   "cell_type": "code",
   "execution_count": 5,
   "metadata": {},
   "outputs": [],
   "source": [
    "nlp_c = spacy.load('../train/subsym/subsym_c/subsym_model/model-best/')"
   ]
  },
  {
   "cell_type": "code",
   "execution_count": 6,
   "metadata": {},
   "outputs": [],
   "source": [
    "df = pd.read_csv('../../raw_data/data_prep.csv')"
   ]
  },
  {
   "cell_type": "code",
   "execution_count": 7,
   "metadata": {},
   "outputs": [],
   "source": [
    "train, dev = train_test_split(df, test_size=0.2)"
   ]
  },
  {
   "cell_type": "code",
   "execution_count": 8,
   "metadata": {},
   "outputs": [],
   "source": [
    "def get_prection_cat(text):\n",
    "    doc = nlp_cat(text)\n",
    "    scores = doc.cats\n",
    "    if max(scores, key=scores.get) == '1':\n",
    "        doc = nlp_a(text)\n",
    "        scores = doc.cats\n",
    "        return max(scores, key=scores.get)\n",
    "    elif max(scores, key=scores.get) == '2':\n",
    "        doc = nlp_b(text)\n",
    "        scores = doc.cats\n",
    "        return max(scores, key=scores.get)\n",
    "    elif max(scores, key=scores.get) == '3':\n",
    "        doc = nlp_c(text)\n",
    "        scores = doc.cats\n",
    "        return max(scores, key=scores.get)   "
   ]
  },
  {
   "cell_type": "code",
   "execution_count": 9,
   "metadata": {},
   "outputs": [],
   "source": [
    "dev['pred_rating'] = dev['tokenized_str'].apply(get_prection_cat)"
   ]
  },
  {
   "cell_type": "code",
   "execution_count": 10,
   "metadata": {},
   "outputs": [
    {
     "name": "stderr",
     "output_type": "stream",
     "text": [
      "C:\\Users\\wilte\\AppData\\Local\\Temp\\ipykernel_8260\\2013668543.py:1: FutureWarning: The default value of regex will change from True to False in a future version. In addition, single character regular expressions will *not* be treated as literal strings when regex=True.\n",
      "  dev['pred_category'] = dev['pred_rating'].str.replace('+', '').str.replace('-', '')\n"
     ]
    }
   ],
   "source": [
    "dev['pred_category'] = dev['pred_rating'].str.replace('+', '').str.replace('-', '')"
   ]
  },
  {
   "cell_type": "code",
   "execution_count": 11,
   "metadata": {},
   "outputs": [
    {
     "data": {
      "text/plain": [
       "0.9324351118797803"
      ]
     },
     "execution_count": 11,
     "metadata": {},
     "output_type": "execute_result"
    }
   ],
   "source": [
    "f1_score(dev['category'], dev['pred_category'], average='weighted')"
   ]
  },
  {
   "cell_type": "code",
   "execution_count": 12,
   "metadata": {},
   "outputs": [
    {
     "data": {
      "text/plain": [
       "0.8928678443943349"
      ]
     },
     "execution_count": 12,
     "metadata": {},
     "output_type": "execute_result"
    }
   ],
   "source": [
    "f1_score(dev['rating'], dev['pred_rating'], average='weighted')"
   ]
  },
  {
   "cell_type": "code",
   "execution_count": 13,
   "metadata": {},
   "outputs": [
    {
     "data": {
      "text/plain": [
       "0.9067163880142408"
      ]
     },
     "execution_count": 13,
     "metadata": {},
     "output_type": "execute_result"
    }
   ],
   "source": [
    "f1_score(dev['category'], dev['pred_category'], average='weighted') * 0.35 + f1_score(dev['rating'], dev['pred_rating'], average='weighted') * 0.65"
   ]
  },
  {
   "cell_type": "code",
   "execution_count": 14,
   "metadata": {},
   "outputs": [
    {
     "name": "stdout",
     "output_type": "stream",
     "text": [
      "              precision    recall  f1-score   support\n",
      "\n",
      "           A       0.93      0.95      0.94        83\n",
      "          AA       0.97      0.91      0.94        33\n",
      "         AAA       0.96      1.00      0.98        27\n",
      "           B       1.00      0.73      0.84        11\n",
      "          BB       0.91      0.94      0.92        31\n",
      "         BBB       0.91      0.94      0.92        52\n",
      "           C       1.00      0.67      0.80         3\n",
      "\n",
      "    accuracy                           0.93       240\n",
      "   macro avg       0.95      0.88      0.91       240\n",
      "weighted avg       0.93      0.93      0.93       240\n",
      "\n"
     ]
    }
   ],
   "source": [
    "print(classification_report(dev['category'], dev['pred_category']))"
   ]
  },
  {
   "cell_type": "code",
   "execution_count": 15,
   "metadata": {},
   "outputs": [
    {
     "name": "stdout",
     "output_type": "stream",
     "text": [
      "              precision    recall  f1-score   support\n",
      "\n",
      "           A       1.00      0.89      0.94        27\n",
      "          A+       0.90      1.00      0.95        26\n",
      "          A-       0.88      0.93      0.90        30\n",
      "          AA       1.00      1.00      1.00        13\n",
      "         AA+       1.00      0.67      0.80         6\n",
      "         AA-       0.93      0.93      0.93        14\n",
      "         AAA       0.96      1.00      0.98        27\n",
      "           B       1.00      0.25      0.40         4\n",
      "          B+       1.00      1.00      1.00         3\n",
      "          B-       0.75      0.75      0.75         4\n",
      "          BB       0.85      1.00      0.92        11\n",
      "         BB+       0.88      0.88      0.88        17\n",
      "         BB-       1.00      0.67      0.80         3\n",
      "         BBB       0.76      0.76      0.76        17\n",
      "        BBB+       0.92      0.88      0.90        25\n",
      "        BBB-       0.62      0.80      0.70        10\n",
      "           C       1.00      0.67      0.80         3\n",
      "\n",
      "    accuracy                           0.90       240\n",
      "   macro avg       0.91      0.83      0.85       240\n",
      "weighted avg       0.90      0.90      0.89       240\n",
      "\n"
     ]
    }
   ],
   "source": [
    "print(classification_report(dev['rating'], dev['pred_rating']))"
   ]
  },
  {
   "cell_type": "code",
   "execution_count": null,
   "metadata": {},
   "outputs": [],
   "source": []
  },
  {
   "cell_type": "code",
   "execution_count": null,
   "metadata": {},
   "outputs": [],
   "source": []
  }
 ],
 "metadata": {
  "kernelspec": {
   "display_name": "venv",
   "language": "python",
   "name": "python3"
  },
  "language_info": {
   "codemirror_mode": {
    "name": "ipython",
    "version": 3
   },
   "file_extension": ".py",
   "mimetype": "text/x-python",
   "name": "python",
   "nbconvert_exporter": "python",
   "pygments_lexer": "ipython3",
   "version": "3.11.2"
  },
  "orig_nbformat": 4
 },
 "nbformat": 4,
 "nbformat_minor": 2
}
