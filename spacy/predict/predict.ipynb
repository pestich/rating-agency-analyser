{
 "cells": [
  {
   "cell_type": "code",
   "execution_count": 38,
   "metadata": {},
   "outputs": [],
   "source": [
    "import pandas as pd\n",
    "import spacy\n",
    "import re\n",
    "from sklearn.metrics import f1_score\n",
    "from sklearn.model_selection import train_test_split\n",
    "from spacy.tokens import DocBin\n",
    "from sklearn.metrics import classification_report"
   ]
  },
  {
   "cell_type": "code",
   "execution_count": 39,
   "metadata": {},
   "outputs": [],
   "source": [
    "nlp_cat = spacy.load('../train/sym/sym_model/model-best')"
   ]
  },
  {
   "cell_type": "code",
   "execution_count": 40,
   "metadata": {},
   "outputs": [],
   "source": [
    "nlp_a = spacy.load('../train/subsym/subsym_a/subsym_model/model-best/')"
   ]
  },
  {
   "cell_type": "code",
   "execution_count": 41,
   "metadata": {},
   "outputs": [],
   "source": [
    "nlp_b = spacy.load('../train/subsym/subsym_b/subsym_model/model-best/')"
   ]
  },
  {
   "cell_type": "code",
   "execution_count": 42,
   "metadata": {},
   "outputs": [],
   "source": [
    "df = pd.read_csv('../../raw_data/data_prep.csv')"
   ]
  },
  {
   "cell_type": "code",
   "execution_count": 43,
   "metadata": {},
   "outputs": [],
   "source": [
    "train, dev = train_test_split(df, test_size=0.1)"
   ]
  },
  {
   "cell_type": "code",
   "execution_count": 44,
   "metadata": {},
   "outputs": [],
   "source": [
    "def get_prection_cat(text):\n",
    "    doc = nlp_cat(text)\n",
    "    scores = doc.cats\n",
    "    if max(scores, key=scores.get) == 'A':\n",
    "        doc = nlp_a(text)\n",
    "        scores = doc.cats\n",
    "        return max(scores, key=scores.get)\n",
    "    elif max(scores, key=scores.get) == 'B':\n",
    "        doc = nlp_b(text)\n",
    "        scores = doc.cats\n",
    "        return max(scores, key=scores.get)   "
   ]
  },
  {
   "cell_type": "code",
   "execution_count": 45,
   "metadata": {},
   "outputs": [],
   "source": [
    "dev['pred_rating'] = dev['tokenized_str'].apply(get_prection_cat)"
   ]
  },
  {
   "cell_type": "code",
   "execution_count": 46,
   "metadata": {},
   "outputs": [
    {
     "name": "stderr",
     "output_type": "stream",
     "text": [
      "C:\\Users\\wilte\\AppData\\Local\\Temp\\ipykernel_8376\\2013668543.py:1: FutureWarning: The default value of regex will change from True to False in a future version. In addition, single character regular expressions will *not* be treated as literal strings when regex=True.\n",
      "  dev['pred_category'] = dev['pred_rating'].str.replace('+', '').str.replace('-', '')\n"
     ]
    }
   ],
   "source": [
    "dev['pred_category'] = dev['pred_rating'].str.replace('+', '').str.replace('-', '')"
   ]
  },
  {
   "cell_type": "code",
   "execution_count": 47,
   "metadata": {},
   "outputs": [
    {
     "data": {
      "text/plain": [
       "0.7887881254547919"
      ]
     },
     "execution_count": 47,
     "metadata": {},
     "output_type": "execute_result"
    }
   ],
   "source": [
    "f1_score(dev['category'], dev['pred_category'], average='weighted')"
   ]
  },
  {
   "cell_type": "code",
   "execution_count": 48,
   "metadata": {},
   "outputs": [
    {
     "data": {
      "text/plain": [
       "0.6686054795832919"
      ]
     },
     "execution_count": 48,
     "metadata": {},
     "output_type": "execute_result"
    }
   ],
   "source": [
    "f1_score(dev['rating'], dev['pred_rating'], average='weighted')"
   ]
  },
  {
   "cell_type": "code",
   "execution_count": 49,
   "metadata": {},
   "outputs": [
    {
     "data": {
      "text/plain": [
       "0.7106694056383169"
      ]
     },
     "execution_count": 49,
     "metadata": {},
     "output_type": "execute_result"
    }
   ],
   "source": [
    "f1_score(dev['category'], dev['pred_category'], average='weighted') * 0.35 + f1_score(dev['rating'], dev['pred_rating'], average='weighted') * 0.65"
   ]
  },
  {
   "cell_type": "code",
   "execution_count": 50,
   "metadata": {},
   "outputs": [
    {
     "name": "stdout",
     "output_type": "stream",
     "text": [
      "              precision    recall  f1-score   support\n",
      "\n",
      "           A       0.91      0.94      0.92        31\n",
      "          AA       1.00      0.96      0.98        23\n",
      "         AAA       1.00      0.93      0.96        14\n",
      "           B       1.00      0.22      0.36         9\n",
      "          BB       0.70      0.44      0.54        16\n",
      "         BBB       0.55      0.88      0.68        25\n",
      "           C       1.00      0.50      0.67         2\n",
      "\n",
      "    accuracy                           0.80       120\n",
      "   macro avg       0.88      0.69      0.73       120\n",
      "weighted avg       0.84      0.80      0.79       120\n",
      "\n"
     ]
    }
   ],
   "source": [
    "print(classification_report(dev['category'], dev['pred_category']))"
   ]
  },
  {
   "cell_type": "code",
   "execution_count": 51,
   "metadata": {},
   "outputs": [
    {
     "name": "stdout",
     "output_type": "stream",
     "text": [
      "              precision    recall  f1-score   support\n",
      "\n",
      "           A       0.83      0.77      0.80        13\n",
      "          A+       0.91      0.91      0.91        11\n",
      "          A-       0.56      0.71      0.63         7\n",
      "          AA       1.00      1.00      1.00         8\n",
      "         AA+       1.00      0.89      0.94         9\n",
      "         AA-       1.00      1.00      1.00         6\n",
      "         AAA       1.00      0.93      0.96        14\n",
      "           B       1.00      0.25      0.40         4\n",
      "          B+       1.00      0.20      0.33         5\n",
      "          BB       0.25      0.25      0.25         4\n",
      "         BB+       0.75      0.43      0.55         7\n",
      "         BB-       0.00      0.00      0.00         5\n",
      "         BBB       0.29      0.80      0.42         5\n",
      "        BBB+       0.29      0.55      0.37        11\n",
      "        BBB-       0.60      0.33      0.43         9\n",
      "           C       1.00      0.50      0.67         2\n",
      "\n",
      "    accuracy                           0.67       120\n",
      "   macro avg       0.72      0.59      0.60       120\n",
      "weighted avg       0.74      0.67      0.67       120\n",
      "\n"
     ]
    }
   ],
   "source": [
    "print(classification_report(dev['rating'], dev['pred_rating']))"
   ]
  },
  {
   "cell_type": "code",
   "execution_count": null,
   "metadata": {},
   "outputs": [],
   "source": []
  },
  {
   "cell_type": "code",
   "execution_count": null,
   "metadata": {},
   "outputs": [],
   "source": []
  }
 ],
 "metadata": {
  "kernelspec": {
   "display_name": "venv",
   "language": "python",
   "name": "python3"
  },
  "language_info": {
   "codemirror_mode": {
    "name": "ipython",
    "version": 3
   },
   "file_extension": ".py",
   "mimetype": "text/x-python",
   "name": "python",
   "nbconvert_exporter": "python",
   "pygments_lexer": "ipython3",
   "version": "3.11.2"
  },
  "orig_nbformat": 4
 },
 "nbformat": 4,
 "nbformat_minor": 2
}
