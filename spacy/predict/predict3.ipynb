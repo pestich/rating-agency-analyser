{
 "cells": [
  {
   "cell_type": "code",
   "execution_count": 1,
   "metadata": {},
   "outputs": [],
   "source": [
    "import pandas as pd\n",
    "import spacy\n",
    "import re\n",
    "from sklearn.metrics import f1_score\n",
    "from sklearn.model_selection import train_test_split\n",
    "from spacy.tokens import DocBin\n",
    "from sklearn.metrics import classification_report"
   ]
  },
  {
   "cell_type": "code",
   "execution_count": 2,
   "metadata": {},
   "outputs": [],
   "source": [
    "nlp_cat = spacy.load('../train3/sym/sym_model/model-best')"
   ]
  },
  {
   "cell_type": "code",
   "execution_count": 3,
   "metadata": {},
   "outputs": [],
   "source": [
    "nlp_a = spacy.load('../train3/subsym/subsym_a/subsym_model/model-best/')"
   ]
  },
  {
   "cell_type": "code",
   "execution_count": 4,
   "metadata": {},
   "outputs": [],
   "source": [
    "nlp_b = spacy.load('../train3/subsym/subsym_b/subsym_model/model-best/')"
   ]
  },
  {
   "cell_type": "code",
   "execution_count": 5,
   "metadata": {},
   "outputs": [],
   "source": [
    "nlp_c = spacy.load('../train3/subsym/subsym_c/subsym_model/model-best/')"
   ]
  },
  {
   "cell_type": "code",
   "execution_count": 6,
   "metadata": {},
   "outputs": [],
   "source": [
    "df = pd.read_csv('../../raw_data/data_prep.csv')"
   ]
  },
  {
   "cell_type": "code",
   "execution_count": 7,
   "metadata": {},
   "outputs": [],
   "source": [
    "train, dev = train_test_split(df, test_size=0.2)"
   ]
  },
  {
   "cell_type": "code",
   "execution_count": 8,
   "metadata": {},
   "outputs": [],
   "source": [
    "def get_prection_cat(text):\n",
    "    doc = nlp_cat(text)\n",
    "    scores = doc.cats\n",
    "    if max(scores, key=scores.get) == '1':\n",
    "        doc = nlp_a(text)\n",
    "        scores = doc.cats\n",
    "        return max(scores, key=scores.get)\n",
    "    elif max(scores, key=scores.get) == '2':\n",
    "        doc = nlp_b(text)\n",
    "        scores = doc.cats\n",
    "        return max(scores, key=scores.get)\n",
    "    elif max(scores, key=scores.get) == '3':\n",
    "        doc = nlp_c(text)\n",
    "        scores = doc.cats\n",
    "        return max(scores, key=scores.get)   "
   ]
  },
  {
   "cell_type": "code",
   "execution_count": 9,
   "metadata": {},
   "outputs": [],
   "source": [
    "dev['pred_rating'] = dev['tokenized_str'].apply(get_prection_cat)"
   ]
  },
  {
   "cell_type": "code",
   "execution_count": 10,
   "metadata": {},
   "outputs": [
    {
     "name": "stderr",
     "output_type": "stream",
     "text": [
      "C:\\Users\\wilte\\AppData\\Local\\Temp\\ipykernel_7588\\2013668543.py:1: FutureWarning: The default value of regex will change from True to False in a future version. In addition, single character regular expressions will *not* be treated as literal strings when regex=True.\n",
      "  dev['pred_category'] = dev['pred_rating'].str.replace('+', '').str.replace('-', '')\n"
     ]
    }
   ],
   "source": [
    "dev['pred_category'] = dev['pred_rating'].str.replace('+', '').str.replace('-', '')"
   ]
  },
  {
   "cell_type": "code",
   "execution_count": 11,
   "metadata": {},
   "outputs": [
    {
     "data": {
      "text/plain": [
       "0.9080316120791542"
      ]
     },
     "execution_count": 11,
     "metadata": {},
     "output_type": "execute_result"
    }
   ],
   "source": [
    "f1_score(dev['category'], dev['pred_category'], average='weighted')"
   ]
  },
  {
   "cell_type": "code",
   "execution_count": 12,
   "metadata": {},
   "outputs": [
    {
     "data": {
      "text/plain": [
       "0.8506830290950499"
      ]
     },
     "execution_count": 12,
     "metadata": {},
     "output_type": "execute_result"
    }
   ],
   "source": [
    "f1_score(dev['rating'], dev['pred_rating'], average='weighted')"
   ]
  },
  {
   "cell_type": "code",
   "execution_count": 13,
   "metadata": {},
   "outputs": [
    {
     "data": {
      "text/plain": [
       "0.8707550331394864"
      ]
     },
     "execution_count": 13,
     "metadata": {},
     "output_type": "execute_result"
    }
   ],
   "source": [
    "f1_score(dev['category'], dev['pred_category'], average='weighted') * 0.35 + f1_score(dev['rating'], dev['pred_rating'], average='weighted') * 0.65"
   ]
  },
  {
   "cell_type": "code",
   "execution_count": 14,
   "metadata": {},
   "outputs": [
    {
     "name": "stdout",
     "output_type": "stream",
     "text": [
      "              precision    recall  f1-score   support\n",
      "\n",
      "           A       0.93      0.94      0.93        79\n",
      "          AA       0.97      0.88      0.92        40\n",
      "         AAA       1.00      0.96      0.98        27\n",
      "           B       1.00      0.50      0.67         4\n",
      "          BB       0.82      0.93      0.87        29\n",
      "         BBB       0.85      0.88      0.86        58\n",
      "           C       1.00      1.00      1.00         3\n",
      "\n",
      "    accuracy                           0.91       240\n",
      "   macro avg       0.94      0.87      0.89       240\n",
      "weighted avg       0.91      0.91      0.91       240\n",
      "\n"
     ]
    }
   ],
   "source": [
    "print(classification_report(dev['category'], dev['pred_category']))"
   ]
  },
  {
   "cell_type": "code",
   "execution_count": 15,
   "metadata": {},
   "outputs": [
    {
     "data": {
      "text/plain": [
       "77.9"
      ]
     },
     "execution_count": 15,
     "metadata": {},
     "output_type": "execute_result"
    }
   ],
   "source": []
  },
  {
   "cell_type": "code",
   "execution_count": 14,
   "metadata": {},
   "outputs": [
    {
     "name": "stdout",
     "output_type": "stream",
     "text": [
      "              precision    recall  f1-score   support\n",
      "\n",
      "           A       0.25      0.95      0.40        21\n",
      "          A+       0.00      0.00      0.00        29\n",
      "          A-       0.00      0.00      0.00        28\n",
      "          AA       0.55      1.00      0.71        11\n",
      "         AA+       0.00      0.00      0.00        13\n",
      "         AA-       0.00      0.00      0.00        16\n",
      "         AAA       0.62      0.97      0.76        31\n",
      "           B       0.25      1.00      0.40         1\n",
      "          B+       0.00      0.00      0.00         6\n",
      "          B-       0.00      0.00      0.00         3\n",
      "          BB       0.33      1.00      0.50        10\n",
      "         BB+       0.00      0.00      0.00        10\n",
      "         BB-       0.00      0.00      0.00         5\n",
      "         BBB       0.34      0.91      0.50        22\n",
      "        BBB+       0.00      0.00      0.00        21\n",
      "        BBB-       0.00      0.00      0.00        12\n",
      "           C       1.00      1.00      1.00         1\n",
      "\n",
      "    accuracy                           0.39       240\n",
      "   macro avg       0.20      0.40      0.25       240\n",
      "weighted avg       0.18      0.39      0.24       240\n",
      "\n"
     ]
    },
    {
     "name": "stderr",
     "output_type": "stream",
     "text": [
      "c:\\Users\\wilte\\OneDrive\\Рабочий стол\\projects\\rating-agency-analyser\\venv\\Lib\\site-packages\\sklearn\\metrics\\_classification.py:1469: UndefinedMetricWarning: Precision and F-score are ill-defined and being set to 0.0 in labels with no predicted samples. Use `zero_division` parameter to control this behavior.\n",
      "  _warn_prf(average, modifier, msg_start, len(result))\n",
      "c:\\Users\\wilte\\OneDrive\\Рабочий стол\\projects\\rating-agency-analyser\\venv\\Lib\\site-packages\\sklearn\\metrics\\_classification.py:1469: UndefinedMetricWarning: Precision and F-score are ill-defined and being set to 0.0 in labels with no predicted samples. Use `zero_division` parameter to control this behavior.\n",
      "  _warn_prf(average, modifier, msg_start, len(result))\n",
      "c:\\Users\\wilte\\OneDrive\\Рабочий стол\\projects\\rating-agency-analyser\\venv\\Lib\\site-packages\\sklearn\\metrics\\_classification.py:1469: UndefinedMetricWarning: Precision and F-score are ill-defined and being set to 0.0 in labels with no predicted samples. Use `zero_division` parameter to control this behavior.\n",
      "  _warn_prf(average, modifier, msg_start, len(result))\n"
     ]
    }
   ],
   "source": [
    "print(classification_report(dev['rating'], dev['pred_rating']))"
   ]
  },
  {
   "cell_type": "code",
   "execution_count": null,
   "metadata": {},
   "outputs": [],
   "source": []
  },
  {
   "cell_type": "code",
   "execution_count": null,
   "metadata": {},
   "outputs": [],
   "source": []
  }
 ],
 "metadata": {
  "kernelspec": {
   "display_name": "venv",
   "language": "python",
   "name": "python3"
  },
  "language_info": {
   "codemirror_mode": {
    "name": "ipython",
    "version": 3
   },
   "file_extension": ".py",
   "mimetype": "text/x-python",
   "name": "python",
   "nbconvert_exporter": "python",
   "pygments_lexer": "ipython3",
   "version": "3.11.2"
  },
  "orig_nbformat": 4
 },
 "nbformat": 4,
 "nbformat_minor": 2
}
