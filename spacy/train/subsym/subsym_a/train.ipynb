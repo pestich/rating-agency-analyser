{
 "cells": [
  {
   "cell_type": "code",
   "execution_count": 13,
   "metadata": {},
   "outputs": [],
   "source": [
    "import pandas as pd\n",
    "import spacy\n",
    "from sklearn.model_selection import train_test_split\n",
    "from spacy.tokens import DocBin"
   ]
  },
  {
   "cell_type": "code",
   "execution_count": 14,
   "metadata": {},
   "outputs": [],
   "source": [
    "df = pd.read_csv('../../../../raw_data/data_prep.csv')"
   ]
  },
  {
   "cell_type": "code",
   "execution_count": 15,
   "metadata": {},
   "outputs": [],
   "source": [
    "train, dev = train_test_split(df, test_size=0.1, random_state=42)"
   ]
  },
  {
   "cell_type": "code",
   "execution_count": 16,
   "metadata": {},
   "outputs": [],
   "source": [
    "train = train.reset_index(drop=True)\n",
    "dev = dev.reset_index(drop=True)"
   ]
  },
  {
   "cell_type": "code",
   "execution_count": 17,
   "metadata": {},
   "outputs": [
    {
     "data": {
      "text/plain": [
       "((1080, 8), (120, 8))"
      ]
     },
     "execution_count": 17,
     "metadata": {},
     "output_type": "execute_result"
    }
   ],
   "source": [
    "train.shape, dev.shape"
   ]
  },
  {
   "cell_type": "code",
   "execution_count": 18,
   "metadata": {},
   "outputs": [],
   "source": [
    "categories = ['A', 'AAA', 'AA+', 'A-', 'A+', 'AA-', 'AA']"
   ]
  },
  {
   "cell_type": "code",
   "execution_count": 19,
   "metadata": {},
   "outputs": [],
   "source": [
    "dev = dev.query('rating in @categories')\n",
    "train = train.query('rating in @categories')"
   ]
  },
  {
   "cell_type": "code",
   "execution_count": 20,
   "metadata": {},
   "outputs": [],
   "source": [
    "train = train.reset_index(drop=True)\n",
    "dev = dev.reset_index(drop=True)"
   ]
  },
  {
   "cell_type": "code",
   "execution_count": 21,
   "metadata": {},
   "outputs": [],
   "source": [
    "nlp = spacy.load('ru_core_news_lg')"
   ]
  },
  {
   "cell_type": "code",
   "execution_count": 22,
   "metadata": {},
   "outputs": [],
   "source": [
    "def create_docbin(data):\n",
    "    db = DocBin()\n",
    "    global categories\n",
    "    for i in range(data.shape[0]):    \n",
    "        doc = nlp.make_doc(str(data[\"tokenized_str\"][i]))\n",
    "        doc.cats = {category: 0 for category in categories}\n",
    "        doc.cats[data[\"rating\"][i]] = 1\n",
    "        db.add(doc)\n",
    "    return db"
   ]
  },
  {
   "cell_type": "code",
   "execution_count": 23,
   "metadata": {},
   "outputs": [],
   "source": [
    "create_docbin(dev).to_disk(\"dev.spacy\")\n",
    "create_docbin(train).to_disk(\"train.spacy\")"
   ]
  },
  {
   "cell_type": "code",
   "execution_count": 24,
   "metadata": {},
   "outputs": [
    {
     "name": "stdout",
     "output_type": "stream",
     "text": [
      "\u001b[38;5;4mℹ Saving to output directory: subsym_model\u001b[0m\n",
      "\u001b[38;5;4mℹ Using CPU\u001b[0m\n",
      "\u001b[1m\n",
      "=========================== Initializing pipeline ===========================\u001b[0m\n",
      "\u001b[38;5;2m✔ Initialized pipeline\u001b[0m\n",
      "\u001b[1m\n",
      "============================= Training pipeline =============================\u001b[0m\n",
      "\u001b[38;5;4mℹ Pipeline: ['textcat_multilabel']\u001b[0m\n",
      "\u001b[38;5;4mℹ Initial learn rate: 0.001\u001b[0m\n",
      "E    #       LOSS TEXTC...  CATS_SCORE  SCORE \n",
      "---  ------  -------------  ----------  ------\n",
      "  0       0           0.25       54.97    0.55\n",
      "  0     200          24.80       76.29    0.76\n",
      "  0     400          21.87       76.31    0.76\n",
      "  1     600          19.66       81.54    0.82\n",
      "  1     800           9.76       83.43    0.83\n",
      "  1    1000          10.45       85.58    0.86\n",
      "  2    1200          11.30       83.81    0.84\n",
      "  2    1400           7.06       87.28    0.87\n",
      "  2    1600           6.03       86.97    0.87\n",
      "  3    1800           5.47       87.59    0.88\n",
      "  3    2000           3.28       86.14    0.86\n",
      "  3    2200           5.79       87.53    0.88\n",
      "  4    2400           2.72       86.48    0.86\n",
      "  4    2600           2.54       87.81    0.88\n",
      "  4    2800           2.38       86.93    0.87\n",
      "  5    3000           3.57       87.74    0.88\n",
      "  5    3200           1.56       87.87    0.88\n",
      "  5    3400           2.33       86.09    0.86\n",
      "  6    3600           1.79       87.07    0.87\n",
      "  6    3800           1.02       87.61    0.88\n",
      "  6    4000           1.17       88.05    0.88\n",
      "  7    4200           1.96       88.34    0.88\n",
      "  7    4400           1.18       87.42    0.87\n",
      "  7    4600           1.35       86.76    0.87\n",
      "  8    4800           1.85       86.48    0.86\n",
      "  8    5000           0.94       86.27    0.86\n",
      "  8    5200           0.96       87.10    0.87\n",
      "  9    5400           0.56       87.56    0.88\n",
      "  9    5600           1.10       86.83    0.87\n",
      "  9    5800           0.55       85.73    0.86\n",
      "\u001b[38;5;2m✔ Saved pipeline to output directory\u001b[0m\n",
      "subsym_model\\model-last\n",
      "\u001b[38;5;4mℹ Saving to output directory: subsym_model\u001b[0m\n",
      "\u001b[38;5;4mℹ Using CPU\u001b[0m\n",
      "\u001b[1m\n",
      "=========================== Initializing pipeline ===========================\u001b[0m\n",
      "\u001b[38;5;2m✔ Initialized pipeline\u001b[0m\n",
      "\u001b[1m\n",
      "============================= Training pipeline =============================\u001b[0m\n",
      "\u001b[38;5;4mℹ Pipeline: ['textcat_multilabel']\u001b[0m\n",
      "\u001b[38;5;4mℹ Initial learn rate: 0.001\u001b[0m\n",
      "E    #       LOSS TEXTC...  CATS_SCORE  SCORE \n",
      "---  ------  -------------  ----------  ------\n",
      "  0       0           0.25       58.44    0.58\n",
      "  0     200          23.93       73.34    0.73\n",
      "  0     400          21.18       80.20    0.80\n",
      "  0     600          20.63       83.68    0.84\n",
      "  1     800          13.01       82.12    0.82\n",
      "  1    1000          11.28       85.71    0.86\n",
      "  1    1200          11.62       85.83    0.86\n",
      "  2    1400           8.65       86.39    0.86\n",
      "  2    1600           7.66       86.10    0.86\n",
      "  2    1800           5.76       85.05    0.85\n",
      "  3    2000           6.56       86.59    0.87\n",
      "  3    2200           5.08       86.59    0.87\n",
      "  3    2400           4.05       87.50    0.87\n",
      "  3    2600           4.34       86.58    0.87\n",
      "  4    2800           3.41       87.41    0.87\n",
      "  4    3000           3.84       88.71    0.89\n",
      "  4    3200           2.78       87.86    0.88\n",
      "  5    3400           2.41       87.62    0.88\n",
      "  5    3600           2.86       88.49    0.88\n",
      "  5    3800           2.82       89.13    0.89\n",
      "  6    4000           2.13       87.11    0.87\n",
      "  6    4200           1.69       88.59    0.89\n",
      "  6    4400           1.66       88.13    0.88\n",
      "  6    4600           2.56       87.46    0.87\n",
      "  7    4800           1.77       87.54    0.88\n",
      "  7    5000           2.23       87.52    0.88\n",
      "  7    5200           2.01       87.06    0.87\n",
      "  8    5400           1.49       88.17    0.88\n",
      "\u001b[38;5;2m✔ Saved pipeline to output directory\u001b[0m\n",
      "subsym_model\\model-last\n"
     ]
    }
   ],
   "source": [
    "! python -m spacy train config.cfg --output ./subsym_model --paths.train train.spacy --paths.dev dev.spacy"
   ]
  },
  {
   "cell_type": "code",
   "execution_count": null,
   "metadata": {},
   "outputs": [],
   "source": []
  }
 ],
 "metadata": {
  "kernelspec": {
   "display_name": "venv",
   "language": "python",
   "name": "python3"
  },
  "language_info": {
   "codemirror_mode": {
    "name": "ipython",
    "version": 3
   },
   "file_extension": ".py",
   "mimetype": "text/x-python",
   "name": "python",
   "nbconvert_exporter": "python",
   "pygments_lexer": "ipython3",
   "version": "3.11.2"
  },
  "orig_nbformat": 4
 },
 "nbformat": 4,
 "nbformat_minor": 2
}
