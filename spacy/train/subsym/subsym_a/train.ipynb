{
 "cells": [
  {
   "cell_type": "code",
   "execution_count": 41,
   "metadata": {},
   "outputs": [],
   "source": [
    "import pandas as pd\n",
    "import spacy\n",
    "from sklearn.model_selection import train_test_split\n",
    "from spacy.tokens import DocBin"
   ]
  },
  {
   "cell_type": "code",
   "execution_count": 42,
   "metadata": {},
   "outputs": [],
   "source": [
    "df = pd.read_csv('../../../../raw_data/data_prep.csv')"
   ]
  },
  {
   "cell_type": "code",
   "execution_count": 43,
   "metadata": {},
   "outputs": [],
   "source": [
    "train, dev = train_test_split(df, test_size=0.1, random_state=42)"
   ]
  },
  {
   "cell_type": "code",
   "execution_count": 44,
   "metadata": {},
   "outputs": [
    {
     "data": {
      "text/plain": [
       "((1080, 8), (120, 8))"
      ]
     },
     "execution_count": 44,
     "metadata": {},
     "output_type": "execute_result"
    }
   ],
   "source": [
    "train.shape, dev.shape"
   ]
  },
  {
   "cell_type": "code",
   "execution_count": 45,
   "metadata": {},
   "outputs": [
    {
     "data": {
      "text/plain": [
       "AAA     153\n",
       "A-      150\n",
       "A+      126\n",
       "BBB+    115\n",
       "A       110\n",
       "BBB      90\n",
       "AA       74\n",
       "AA+      71\n",
       "BBB-     65\n",
       "BB+      57\n",
       "AA-      54\n",
       "BB       50\n",
       "BB-      29\n",
       "B+       20\n",
       "B        12\n",
       "B-       12\n",
       "C        12\n",
       "Name: rating, dtype: int64"
      ]
     },
     "execution_count": 45,
     "metadata": {},
     "output_type": "execute_result"
    }
   ],
   "source": [
    "df['rating'].value_counts()"
   ]
  },
  {
   "cell_type": "code",
   "execution_count": 46,
   "metadata": {},
   "outputs": [],
   "source": [
    "categories = ['AAA', 'AA+', 'AA-', 'AA']"
   ]
  },
  {
   "cell_type": "code",
   "execution_count": 47,
   "metadata": {},
   "outputs": [],
   "source": [
    "dev = dev.query('rating in @categories')\n",
    "train = train.query('rating in @categories')"
   ]
  },
  {
   "cell_type": "code",
   "execution_count": 48,
   "metadata": {},
   "outputs": [],
   "source": [
    "train = train.reset_index(drop=True)\n",
    "dev = dev.reset_index(drop=True)"
   ]
  },
  {
   "cell_type": "code",
   "execution_count": 49,
   "metadata": {},
   "outputs": [
    {
     "data": {
      "text/plain": [
       "((312, 8), (40, 8))"
      ]
     },
     "execution_count": 49,
     "metadata": {},
     "output_type": "execute_result"
    }
   ],
   "source": [
    "train.shape, dev.shape"
   ]
  },
  {
   "cell_type": "code",
   "execution_count": 50,
   "metadata": {},
   "outputs": [],
   "source": [
    "nlp = spacy.load('ru_core_news_lg')"
   ]
  },
  {
   "cell_type": "code",
   "execution_count": 51,
   "metadata": {},
   "outputs": [],
   "source": [
    "def create_docbin(data):\n",
    "    db = DocBin()\n",
    "    global categories\n",
    "    for i in range(data.shape[0]):    \n",
    "        doc = nlp.make_doc(str(data[\"tokenized_str\"][i]))\n",
    "        doc.cats = {category: 0 for category in categories}\n",
    "        doc.cats[data[\"rating\"][i]] = 1\n",
    "        db.add(doc)\n",
    "    return db"
   ]
  },
  {
   "cell_type": "code",
   "execution_count": 54,
   "metadata": {},
   "outputs": [],
   "source": [
    "create_docbin(dev).to_disk(\"dev.spacy\")\n",
    "create_docbin(train).to_disk(\"train.spacy\")"
   ]
  },
  {
   "cell_type": "code",
   "execution_count": 55,
   "metadata": {},
   "outputs": [
    {
     "name": "stdout",
     "output_type": "stream",
     "text": [
      "\u001b[38;5;4mℹ Saving to output directory: subsym_model\u001b[0m\n",
      "\u001b[38;5;4mℹ Using CPU\u001b[0m\n",
      "\u001b[1m\n",
      "=========================== Initializing pipeline ===========================\u001b[0m\n",
      "\u001b[38;5;2m✔ Initialized pipeline\u001b[0m\n",
      "\u001b[1m\n",
      "============================= Training pipeline =============================\u001b[0m\n",
      "\u001b[38;5;4mℹ Pipeline: ['textcat_multilabel']\u001b[0m\n",
      "\u001b[38;5;4mℹ Initial learn rate: 0.001\u001b[0m\n",
      "E    #       LOSS TEXTC...  CATS_SCORE  SCORE \n",
      "---  ------  -------------  ----------  ------\n",
      "  0       0           0.25       52.60    0.53\n",
      "  0     200          32.12       86.69    0.87\n",
      "  1     400          18.32       87.34    0.87\n",
      "  1     600           8.83       89.55    0.90\n",
      "  2     800           4.23       90.92    0.91\n",
      "  3    1000           3.60       90.76    0.91\n",
      "  3    1200           3.41       91.05    0.91\n",
      "  4    1400           2.24       90.54    0.91\n",
      "  5    1600           2.56       90.09    0.90\n",
      "  5    1800           1.26       90.06    0.90\n",
      "  6    2000           0.95       90.51    0.91\n",
      "  7    2200           1.62       90.30    0.90\n",
      "  7    2400           1.56       90.00    0.90\n",
      "  8    2600           1.08       89.29    0.89\n",
      "  8    2800           1.08       90.44    0.90\n",
      "\u001b[38;5;2m✔ Saved pipeline to output directory\u001b[0m\n",
      "subsym_model\\model-last\n"
     ]
    }
   ],
   "source": [
    "! python -m spacy train config.cfg --output ./subsym_model --paths.train train.spacy --paths.dev dev.spacy"
   ]
  },
  {
   "cell_type": "code",
   "execution_count": null,
   "metadata": {},
   "outputs": [],
   "source": []
  }
 ],
 "metadata": {
  "kernelspec": {
   "display_name": "venv",
   "language": "python",
   "name": "python3"
  },
  "language_info": {
   "codemirror_mode": {
    "name": "ipython",
    "version": 3
   },
   "file_extension": ".py",
   "mimetype": "text/x-python",
   "name": "python",
   "nbconvert_exporter": "python",
   "pygments_lexer": "ipython3",
   "version": "3.11.2"
  },
  "orig_nbformat": 4
 },
 "nbformat": 4,
 "nbformat_minor": 2
}
