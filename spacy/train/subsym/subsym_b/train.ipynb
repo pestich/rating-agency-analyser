{
 "cells": [
  {
   "cell_type": "code",
   "execution_count": 42,
   "metadata": {},
   "outputs": [],
   "source": [
    "import pandas as pd\n",
    "import spacy\n",
    "\n",
    "from sklearn.model_selection import train_test_split\n",
    "from spacy.tokens import DocBin"
   ]
  },
  {
   "cell_type": "code",
   "execution_count": 43,
   "metadata": {},
   "outputs": [],
   "source": [
    "df = pd.read_csv('../../../../raw_data/data_prep.csv')"
   ]
  },
  {
   "cell_type": "code",
   "execution_count": 44,
   "metadata": {},
   "outputs": [],
   "source": [
    "train, dev = train_test_split(df, test_size=0.1, random_state=42)"
   ]
  },
  {
   "cell_type": "code",
   "execution_count": 45,
   "metadata": {},
   "outputs": [
    {
     "data": {
      "text/plain": [
       "((1080, 8), (120, 8))"
      ]
     },
     "execution_count": 45,
     "metadata": {},
     "output_type": "execute_result"
    }
   ],
   "source": [
    "train.shape, dev.shape"
   ]
  },
  {
   "cell_type": "code",
   "execution_count": 46,
   "metadata": {},
   "outputs": [
    {
     "data": {
      "text/plain": [
       "array(['A', 'BB', 'AAA', 'BBB', 'AA+', 'BB+', 'BB-', 'A-', 'A+', 'B',\n",
       "       'AA-', 'BBB+', 'BBB-', 'B-', 'AA', 'B+', 'C'], dtype=object)"
      ]
     },
     "execution_count": 46,
     "metadata": {},
     "output_type": "execute_result"
    }
   ],
   "source": [
    "df['rating'].unique()"
   ]
  },
  {
   "cell_type": "code",
   "execution_count": 47,
   "metadata": {},
   "outputs": [],
   "source": [
    "categories = ['B', 'A', 'A-', 'A+', 'B-', 'B+']"
   ]
  },
  {
   "cell_type": "code",
   "execution_count": 48,
   "metadata": {},
   "outputs": [],
   "source": [
    "dev = dev.query('rating in @categories')"
   ]
  },
  {
   "cell_type": "code",
   "execution_count": 49,
   "metadata": {},
   "outputs": [],
   "source": [
    "train = train.query('rating in @categories')"
   ]
  },
  {
   "cell_type": "code",
   "execution_count": 50,
   "metadata": {},
   "outputs": [
    {
     "data": {
      "text/plain": [
       "((389, 8), (41, 8))"
      ]
     },
     "execution_count": 50,
     "metadata": {},
     "output_type": "execute_result"
    }
   ],
   "source": [
    "train.shape, dev.shape"
   ]
  },
  {
   "cell_type": "code",
   "execution_count": 51,
   "metadata": {},
   "outputs": [],
   "source": [
    "train = train.reset_index(drop=True)\n",
    "dev = dev.reset_index(drop=True)"
   ]
  },
  {
   "cell_type": "code",
   "execution_count": 52,
   "metadata": {},
   "outputs": [],
   "source": [
    "nlp = spacy.load('ru_core_news_lg')"
   ]
  },
  {
   "cell_type": "code",
   "execution_count": 53,
   "metadata": {},
   "outputs": [],
   "source": [
    "def create_docbin(data):\n",
    "    db = DocBin()\n",
    "    global categories\n",
    "    for i in range(data.shape[0]):    \n",
    "        doc = nlp.make_doc(str(data[\"tokenized_str\"][i]))\n",
    "        doc.cats = {category: 0 for category in categories}\n",
    "        doc.cats[data[\"rating\"][i]] = 1\n",
    "        db.add(doc)\n",
    "    return db"
   ]
  },
  {
   "cell_type": "code",
   "execution_count": 54,
   "metadata": {},
   "outputs": [],
   "source": [
    "create_docbin(train).to_disk(\"train.spacy\")\n",
    "create_docbin(dev).to_disk(\"dev.spacy\")"
   ]
  },
  {
   "cell_type": "code",
   "execution_count": 55,
   "metadata": {},
   "outputs": [
    {
     "name": "stdout",
     "output_type": "stream",
     "text": [
      "\u001b[38;5;4mℹ Saving to output directory: subsym_model\u001b[0m\n",
      "\u001b[38;5;4mℹ Using CPU\u001b[0m\n",
      "\u001b[1m\n",
      "=========================== Initializing pipeline ===========================\u001b[0m\n",
      "\u001b[38;5;2m✔ Initialized pipeline\u001b[0m\n",
      "\u001b[1m\n",
      "============================= Training pipeline =============================\u001b[0m\n",
      "\u001b[38;5;4mℹ Pipeline: ['textcat_multilabel']\u001b[0m\n",
      "\u001b[38;5;4mℹ Initial learn rate: 0.001\u001b[0m\n",
      "E    #       LOSS TEXTC...  CATS_SCORE  SCORE \n",
      "---  ------  -------------  ----------  ------\n",
      "  0       0           0.25       29.95    0.30\n",
      "  0     200          27.10       51.83    0.52\n",
      "  1     400          19.04       60.93    0.61\n",
      "  1     600          11.10       60.56    0.61\n",
      "  2     800           9.52       65.83    0.66\n",
      "  2    1000           5.00       60.30    0.60\n",
      "  3    1200           5.36       60.75    0.61\n",
      "  3    1400           2.95       66.23    0.66\n",
      "  4    1600           3.04       61.03    0.61\n",
      "  4    1800           2.38       65.31    0.65\n",
      "  5    2000           1.63       66.66    0.67\n",
      "  5    2200           1.00       67.68    0.68\n",
      "  6    2400           1.80       65.80    0.66\n",
      "  6    2600           1.92       66.61    0.67\n",
      "  7    2800           1.31       67.77    0.68\n",
      "  7    3000           0.89       66.74    0.67\n",
      "  8    3200           1.11       67.30    0.67\n",
      "  8    3400           1.22       67.05    0.67\n",
      "  9    3600           0.84       67.57    0.68\n",
      "  9    3800           0.58       67.58    0.68\n",
      " 10    4000           0.89       67.62    0.68\n",
      " 10    4200           0.74       68.26    0.68\n",
      " 11    4400           0.87       68.17    0.68\n",
      " 11    4600           0.77       67.94    0.68\n",
      " 12    4800           0.44       67.79    0.68\n",
      " 12    5000           0.34       67.59    0.68\n",
      " 13    5200           0.92       67.34    0.67\n",
      " 13    5400           0.48       67.40    0.67\n",
      " 14    5600           0.54       66.20    0.66\n",
      " 14    5800           0.43       65.88    0.66\n",
      "\u001b[38;5;2m✔ Saved pipeline to output directory\u001b[0m\n",
      "subsym_model\\model-last\n"
     ]
    }
   ],
   "source": [
    "! python -m spacy train config.cfg --output ./subsym_model --paths.train train.spacy --paths.dev dev.spacy"
   ]
  },
  {
   "cell_type": "code",
   "execution_count": null,
   "metadata": {},
   "outputs": [],
   "source": []
  }
 ],
 "metadata": {
  "kernelspec": {
   "display_name": "venv",
   "language": "python",
   "name": "python3"
  },
  "language_info": {
   "codemirror_mode": {
    "name": "ipython",
    "version": 3
   },
   "file_extension": ".py",
   "mimetype": "text/x-python",
   "name": "python",
   "nbconvert_exporter": "python",
   "pygments_lexer": "ipython3",
   "version": "3.11.2"
  },
  "orig_nbformat": 4
 },
 "nbformat": 4,
 "nbformat_minor": 2
}
