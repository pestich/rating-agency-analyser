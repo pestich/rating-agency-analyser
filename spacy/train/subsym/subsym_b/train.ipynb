{
 "cells": [
  {
   "cell_type": "code",
   "execution_count": 1,
   "metadata": {},
   "outputs": [],
   "source": [
    "import pandas as pd\n",
    "import spacy\n",
    "\n",
    "from sklearn.model_selection import train_test_split\n",
    "from spacy.tokens import DocBin"
   ]
  },
  {
   "cell_type": "code",
   "execution_count": 2,
   "metadata": {},
   "outputs": [],
   "source": [
    "df = pd.read_csv('../../../../raw_data/data_prep.csv')"
   ]
  },
  {
   "cell_type": "code",
   "execution_count": 3,
   "metadata": {},
   "outputs": [],
   "source": [
    "train, dev = train_test_split(df, test_size=0.1, random_state=42)"
   ]
  },
  {
   "cell_type": "code",
   "execution_count": 4,
   "metadata": {},
   "outputs": [
    {
     "data": {
      "text/plain": [
       "((1080, 8), (120, 8))"
      ]
     },
     "execution_count": 4,
     "metadata": {},
     "output_type": "execute_result"
    }
   ],
   "source": [
    "train.shape, dev.shape"
   ]
  },
  {
   "cell_type": "code",
   "execution_count": 5,
   "metadata": {},
   "outputs": [],
   "source": [
    "categories = ['BB', 'BB+', 'BBB', 'BBB+', 'B-', 'B+', 'BB-', 'B', 'BBB-', 'C']"
   ]
  },
  {
   "cell_type": "code",
   "execution_count": 6,
   "metadata": {},
   "outputs": [],
   "source": [
    "dev = dev.query('rating in @categories')"
   ]
  },
  {
   "cell_type": "code",
   "execution_count": 7,
   "metadata": {},
   "outputs": [],
   "source": [
    "train = train.query('rating in @categories')"
   ]
  },
  {
   "cell_type": "code",
   "execution_count": 8,
   "metadata": {},
   "outputs": [],
   "source": [
    "train = train.reset_index(drop=True)\n",
    "dev = dev.reset_index(drop=True)"
   ]
  },
  {
   "cell_type": "code",
   "execution_count": 9,
   "metadata": {},
   "outputs": [],
   "source": [
    "nlp = spacy.load('ru_core_news_lg')"
   ]
  },
  {
   "cell_type": "code",
   "execution_count": 10,
   "metadata": {},
   "outputs": [],
   "source": [
    "def create_docbin(data):\n",
    "    db = DocBin()\n",
    "    global categories\n",
    "    for i in range(data.shape[0]):    \n",
    "        doc = nlp.make_doc(str(data[\"tokenized_str\"][i]))\n",
    "        doc.cats = {category: 0 for category in categories}\n",
    "        doc.cats[data[\"rating\"][i]] = 1\n",
    "        db.add(doc)\n",
    "    return db"
   ]
  },
  {
   "cell_type": "code",
   "execution_count": 11,
   "metadata": {},
   "outputs": [],
   "source": [
    "create_docbin(train).to_disk(\"train.spacy\")\n",
    "create_docbin(dev).to_disk(\"dev.spacy\")"
   ]
  },
  {
   "cell_type": "code",
   "execution_count": 13,
   "metadata": {},
   "outputs": [
    {
     "name": "stdout",
     "output_type": "stream",
     "text": [
      "\u001b[38;5;4mℹ Saving to output directory: ..\\subsym\\sym_model\u001b[0m\n",
      "\u001b[38;5;4mℹ Using CPU\u001b[0m\n",
      "\u001b[1m\n",
      "=========================== Initializing pipeline ===========================\u001b[0m\n",
      "\u001b[38;5;2m✔ Initialized pipeline\u001b[0m\n",
      "\u001b[1m\n",
      "============================= Training pipeline =============================\u001b[0m\n",
      "\u001b[38;5;4mℹ Pipeline: ['textcat_multilabel']\u001b[0m\n",
      "\u001b[38;5;4mℹ Initial learn rate: 0.001\u001b[0m\n",
      "E    #       LOSS TEXTC...  CATS_SCORE  SCORE \n",
      "---  ------  -------------  ----------  ------\n",
      "  0       0           0.25       46.21    0.46\n",
      "  0     200          17.93       52.86    0.53\n",
      "  0     400          15.84       53.92    0.54\n",
      "  1     600           8.52       63.26    0.63\n",
      "  1     800          10.10       64.80    0.65\n",
      "  2    1000           6.01       62.65    0.63\n",
      "  2    1200           5.49       64.65    0.65\n",
      "  3    1400           3.15       62.22    0.62\n",
      "  3    1600           3.08       66.35    0.66\n",
      "  4    1800           2.52       64.14    0.64\n",
      "  4    2000           1.99       65.19    0.65\n",
      "  5    2200           2.43       66.46    0.66\n",
      "  5    2400           1.50       64.87    0.65\n",
      "  6    2600           1.35       65.80    0.66\n",
      "  6    2800           0.91       65.16    0.65\n",
      "  7    3000           1.33       64.64    0.65\n",
      "  7    3200           0.69       65.40    0.65\n",
      "  8    3400           0.65       66.49    0.66\n",
      "  8    3600           0.68       65.45    0.65\n",
      "  9    3800           0.73       66.42    0.66\n",
      "  9    4000           0.78       64.73    0.65\n",
      " 10    4200           0.75       68.08    0.68\n",
      " 10    4400           0.39       66.07    0.66\n",
      " 11    4600           0.50       67.04    0.67\n",
      " 11    4800           0.30       66.87    0.67\n",
      " 11    5000           0.68       66.33    0.66\n",
      " 12    5200           0.33       66.68    0.67\n",
      " 12    5400           0.12       66.47    0.66\n",
      " 13    5600           0.20       66.36    0.66\n",
      " 13    5800           0.41       67.00    0.67\n",
      "\u001b[38;5;2m✔ Saved pipeline to output directory\u001b[0m\n",
      "..\\subsym\\sym_model\\model-last\n",
      "\u001b[38;5;2m✔ Created output directory: \\sym_model\u001b[0m\n",
      "\u001b[38;5;4mℹ Saving to output directory: \\sym_model\u001b[0m\n",
      "\u001b[38;5;4mℹ Using CPU\u001b[0m\n",
      "\u001b[1m\n",
      "=========================== Initializing pipeline ===========================\u001b[0m\n",
      "\u001b[38;5;2m✔ Initialized pipeline\u001b[0m\n",
      "\u001b[1m\n",
      "============================= Training pipeline =============================\u001b[0m\n",
      "\u001b[38;5;4mℹ Pipeline: ['textcat_multilabel']\u001b[0m\n",
      "\u001b[38;5;4mℹ Initial learn rate: 0.001\u001b[0m\n",
      "E    #       LOSS TEXTC...  CATS_SCORE  SCORE \n",
      "---  ------  -------------  ----------  ------\n",
      "  0       0           0.25       46.21    0.46\n",
      "  0     200          17.93       52.86    0.53\n",
      "  0     400          15.84       53.92    0.54\n",
      "  1     600           8.52       63.26    0.63\n",
      "  1     800          10.10       64.80    0.65\n",
      "  2    1000           6.01       62.65    0.63\n",
      "  2    1200           5.49       64.65    0.65\n",
      "  3    1400           3.15       62.22    0.62\n",
      "  3    1600           3.08       66.35    0.66\n",
      "  4    1800           2.52       64.14    0.64\n",
      "  4    2000           1.99       65.19    0.65\n",
      "  5    2200           2.43       66.46    0.66\n",
      "  5    2400           1.50       64.87    0.65\n",
      "  6    2600           1.35       65.80    0.66\n",
      "  6    2800           0.91       65.16    0.65\n",
      "  7    3000           1.33       64.64    0.65\n",
      "  7    3200           0.69       65.40    0.65\n",
      "  8    3400           0.65       66.49    0.66\n",
      "  8    3600           0.68       65.45    0.65\n",
      "  9    3800           0.73       66.42    0.66\n",
      "  9    4000           0.78       64.73    0.65\n",
      " 10    4200           0.75       68.08    0.68\n",
      " 10    4400           0.39       66.07    0.66\n",
      " 11    4600           0.50       67.04    0.67\n",
      " 11    4800           0.30       66.87    0.67\n",
      " 11    5000           0.68       66.33    0.66\n",
      " 12    5200           0.33       66.68    0.67\n",
      " 12    5400           0.12       66.47    0.66\n",
      " 13    5600           0.20       66.36    0.66\n",
      " 13    5800           0.41       67.00    0.67\n",
      "\u001b[38;5;2m✔ Saved pipeline to output directory\u001b[0m\n",
      "\\sym_model\\model-last\n"
     ]
    }
   ],
   "source": [
    "! python -m spacy train config.cfg --output ./subsym_model --paths.train train.spacy --paths.dev dev.spacy"
   ]
  },
  {
   "cell_type": "code",
   "execution_count": null,
   "metadata": {},
   "outputs": [],
   "source": []
  }
 ],
 "metadata": {
  "kernelspec": {
   "display_name": "venv",
   "language": "python",
   "name": "python3"
  },
  "language_info": {
   "codemirror_mode": {
    "name": "ipython",
    "version": 3
   },
   "file_extension": ".py",
   "mimetype": "text/x-python",
   "name": "python",
   "nbconvert_exporter": "python",
   "pygments_lexer": "ipython3",
   "version": "3.11.2"
  },
  "orig_nbformat": 4
 },
 "nbformat": 4,
 "nbformat_minor": 2
}
