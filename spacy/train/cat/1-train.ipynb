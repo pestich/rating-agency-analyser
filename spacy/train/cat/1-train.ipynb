{
 "cells": [
  {
   "cell_type": "code",
   "execution_count": 1,
   "metadata": {},
   "outputs": [],
   "source": [
    "import pandas as pd\n",
    "import spacy\n",
    "from tqdm import tqdm\n",
    "from sklearn.metrics import f1_score\n",
    "tqdm.pandas()\n",
    "from sklearn.model_selection import train_test_split\n",
    "from spacy.tokens import DocBin\n",
    "from sklearn.model_selection import KFold\n",
    "from sklearn.metrics import f1_score"
   ]
  },
  {
   "cell_type": "code",
   "execution_count": 2,
   "metadata": {},
   "outputs": [],
   "source": [
    "nlp = spacy.load('ru_core_news_lg')"
   ]
  },
  {
   "cell_type": "code",
   "execution_count": 3,
   "metadata": {},
   "outputs": [],
   "source": [
    "def create_docbin(data):\n",
    "    db = DocBin()\n",
    "    global categories\n",
    "    for i in range(data.shape[0]):    \n",
    "        doc = nlp.make_doc(str(data[\"tokenized_str\"][i]))\n",
    "        doc.cats = {category: 0 for category in categories}\n",
    "        doc.cats[data[\"category\"][i]] = 1\n",
    "        db.add(doc)\n",
    "    return db"
   ]
  },
  {
   "cell_type": "code",
   "execution_count": 4,
   "metadata": {},
   "outputs": [],
   "source": [
    "def get_prection(text):\n",
    "    doc = nlp(text)\n",
    "    scores = doc.cats\n",
    "    return max(scores, key=scores.get)"
   ]
  },
  {
   "cell_type": "code",
   "execution_count": 7,
   "metadata": {},
   "outputs": [
    {
     "data": {
      "text/plain": [
       "4419"
      ]
     },
     "execution_count": 7,
     "metadata": {},
     "output_type": "execute_result"
    }
   ],
   "source": [
    "len(df1['clear_text'][0])"
   ]
  },
  {
   "cell_type": "code",
   "execution_count": 8,
   "metadata": {},
   "outputs": [
    {
     "data": {
      "text/plain": [
       "5796"
      ]
     },
     "execution_count": 8,
     "metadata": {},
     "output_type": "execute_result"
    }
   ],
   "source": [
    "len(df['clear_text'][0])"
   ]
  },
  {
   "cell_type": "code",
   "execution_count": 5,
   "metadata": {},
   "outputs": [],
   "source": [
    "df1 = pd.read_csv('../raw_data/data_prep.csv')"
   ]
  },
  {
   "cell_type": "code",
   "execution_count": 6,
   "metadata": {},
   "outputs": [],
   "source": [
    "df = pd.read_csv('../raw_data/data_prep_last.csv')"
   ]
  },
  {
   "cell_type": "code",
   "execution_count": 16,
   "metadata": {},
   "outputs": [],
   "source": [
    "df = df.reset_index(drop=True)"
   ]
  },
  {
   "cell_type": "code",
   "execution_count": 17,
   "metadata": {},
   "outputs": [],
   "source": [
    "kf = KFold(n_splits=5)\n",
    "fold_generator = kf.split(df)"
   ]
  },
  {
   "cell_type": "code",
   "execution_count": 9,
   "metadata": {},
   "outputs": [],
   "source": [
    "categories = df['category'].unique()"
   ]
  },
  {
   "cell_type": "code",
   "execution_count": 34,
   "metadata": {},
   "outputs": [
    {
     "name": "stdout",
     "output_type": "stream",
     "text": [
      "\u001b[38;5;4mℹ Saving to output directory: ..\\cat\\cat_model\u001b[0m\n",
      "\u001b[38;5;4mℹ Using CPU\u001b[0m\n",
      "\u001b[1m\n",
      "=========================== Initializing pipeline ===========================\u001b[0m\n",
      "\u001b[38;5;2m✔ Initialized pipeline\u001b[0m\n",
      "\u001b[1m\n",
      "============================= Training pipeline =============================\u001b[0m\n",
      "\u001b[38;5;4mℹ Pipeline: ['textcat_multilabel']\u001b[0m\n",
      "\u001b[38;5;4mℹ Initial learn rate: 0.001\u001b[0m\n",
      "E    #       LOSS TEXTC...  CATS_SCORE  SCORE \n",
      "---  ------  -------------  ----------  ------\n",
      "  0       0           0.25       52.63    0.53\n",
      "  0     200          24.11       70.08    0.70\n",
      "  0     400          20.15       68.97    0.69\n",
      "  0     600          18.44       73.79    0.74\n",
      "  0     800          16.75       76.76    0.77\n",
      "  1    1000          16.88       83.68    0.84\n",
      "  1    1200           8.20       83.07    0.83\n",
      "  1    1400           7.71       83.05    0.83\n",
      "  1    1600           7.50       84.03    0.84\n",
      "  1    1800           6.44       86.25    0.86\n",
      "  2    2000           5.60       86.46    0.86\n",
      "  2    2200           2.44       87.67    0.88\n",
      "  2    2400           3.01       88.65    0.89\n",
      "  2    2600           3.80       88.91    0.89\n",
      "  2    2800           4.53       87.47    0.87\n",
      "  3    3000           2.71       88.41    0.88\n",
      "  3    3200           2.57       89.89    0.90\n",
      "  3    3400           1.64       90.65    0.91\n",
      "  3    3600           2.42       90.98    0.91\n",
      "  3    3800           1.43       89.49    0.89\n",
      "  4    4000           2.08       90.74    0.91\n",
      "  4    4200           0.74       91.90    0.92\n",
      "  4    4400           1.41       91.38    0.91\n",
      "  4    4600           1.69       90.12    0.90\n",
      "  5    4800           1.58       90.59    0.91\n",
      "  5    5000           1.19       91.18    0.91\n",
      "  5    5200           0.87       90.20    0.90\n",
      "  5    5400           1.15       90.59    0.91\n",
      "  5    5600           0.41       90.69    0.91\n",
      "  6    5800           1.11       90.82    0.91\n",
      "\u001b[38;5;2m✔ Saved pipeline to output directory\u001b[0m\n",
      "..\\cat\\cat_model\\model-last\n",
      "0.6829097875062283\n",
      "\u001b[38;5;4mℹ Saving to output directory: ..\\cat\\cat_model\u001b[0m\n",
      "\u001b[38;5;4mℹ Using CPU\u001b[0m\n",
      "\u001b[1m\n",
      "=========================== Initializing pipeline ===========================\u001b[0m\n",
      "\u001b[38;5;2m✔ Initialized pipeline\u001b[0m\n",
      "\u001b[1m\n",
      "============================= Training pipeline =============================\u001b[0m\n",
      "\u001b[38;5;4mℹ Pipeline: ['textcat_multilabel']\u001b[0m\n",
      "\u001b[38;5;4mℹ Initial learn rate: 0.001\u001b[0m\n",
      "E    #       LOSS TEXTC...  CATS_SCORE  SCORE \n",
      "---  ------  -------------  ----------  ------\n",
      "  0       0           0.25       61.61    0.62\n",
      "  0     200          24.12       70.89    0.71\n",
      "  0     400          20.28       78.34    0.78\n",
      "  0     600          21.16       82.33    0.82\n",
      "  0     800          14.65       82.61    0.83\n",
      "  1    1000          17.08       86.61    0.87\n",
      "  1    1200           9.17       86.56    0.87\n",
      "  1    1400           8.21       88.52    0.89\n",
      "  1    1600           7.95       91.21    0.91\n",
      "  1    1800           6.58       90.53    0.91\n",
      "  2    2000           4.69       91.84    0.92\n",
      "  2    2200           3.79       92.10    0.92\n",
      "  2    2400           3.88       92.73    0.93\n",
      "  2    2600           4.05       93.74    0.94\n",
      "  2    2800           4.50       94.44    0.94\n",
      "  3    3000           2.64       94.01    0.94\n",
      "  3    3200           1.83       94.17    0.94\n",
      "  3    3400           2.25       94.15    0.94\n",
      "  3    3600           2.88       94.40    0.94\n",
      "  3    3800           1.24       93.71    0.94\n",
      "  4    4000           2.65       94.32    0.94\n",
      "  4    4200           1.07       94.31    0.94\n",
      "  4    4400           1.42       94.43    0.94\n",
      "\u001b[38;5;2m✔ Saved pipeline to output directory\u001b[0m\n",
      "..\\cat\\cat_model\\model-last\n",
      "0.7513352308880721\n",
      "\u001b[38;5;4mℹ Saving to output directory: ..\\cat\\cat_model\u001b[0m\n",
      "\u001b[38;5;4mℹ Using CPU\u001b[0m\n",
      "\u001b[1m\n",
      "=========================== Initializing pipeline ===========================\u001b[0m\n",
      "\u001b[38;5;2m✔ Initialized pipeline\u001b[0m\n",
      "\u001b[1m\n",
      "============================= Training pipeline =============================\u001b[0m\n",
      "\u001b[38;5;4mℹ Pipeline: ['textcat_multilabel']\u001b[0m\n",
      "\u001b[38;5;4mℹ Initial learn rate: 0.001\u001b[0m\n",
      "E    #       LOSS TEXTC...  CATS_SCORE  SCORE \n",
      "---  ------  -------------  ----------  ------\n",
      "  0       0           0.25       45.78    0.46\n",
      "  0     200          24.10       58.65    0.59\n",
      "  0     400          21.57       67.10    0.67\n",
      "  0     600          20.48       69.71    0.70\n",
      "  0     800          15.17       71.16    0.71\n",
      "  1    1000          14.80       74.19    0.74\n",
      "  1    1200           7.73       74.71    0.75\n",
      "  1    1400           8.11       74.15    0.74\n",
      "  1    1600           7.31       73.83    0.74\n",
      "  1    1800           7.01       76.01    0.76\n",
      "  2    2000           4.17       75.54    0.76\n",
      "  2    2200           3.51       75.35    0.75\n",
      "  2    2400           3.71       75.29    0.75\n",
      "  2    2600           3.25       75.90    0.76\n",
      "  2    2800           3.89       76.43    0.76\n",
      "  3    3000           3.14       76.23    0.76\n",
      "  3    3200           2.52       77.00    0.77\n",
      "  3    3400           2.76       76.22    0.76\n",
      "  3    3600           2.21       76.62    0.77\n",
      "  3    3800           1.38       76.37    0.76\n",
      "  4    4000           1.48       76.81    0.77\n",
      "  4    4200           0.95       76.37    0.76\n",
      "  4    4400           1.72       76.41    0.76\n",
      "  4    4600           1.27       76.38    0.76\n",
      "  5    4800           2.22       76.65    0.77\n",
      "\u001b[38;5;2m✔ Saved pipeline to output directory\u001b[0m\n",
      "..\\cat\\cat_model\\model-last\n",
      "0.6645265306770053\n",
      "\u001b[38;5;4mℹ Saving to output directory: ..\\cat\\cat_model\u001b[0m\n",
      "\u001b[38;5;4mℹ Using CPU\u001b[0m\n",
      "\u001b[1m\n",
      "=========================== Initializing pipeline ===========================\u001b[0m\n",
      "\u001b[38;5;2m✔ Initialized pipeline\u001b[0m\n",
      "\u001b[1m\n",
      "============================= Training pipeline =============================\u001b[0m\n",
      "\u001b[38;5;4mℹ Pipeline: ['textcat_multilabel']\u001b[0m\n",
      "\u001b[38;5;4mℹ Initial learn rate: 0.001\u001b[0m\n",
      "E    #       LOSS TEXTC...  CATS_SCORE  SCORE \n",
      "---  ------  -------------  ----------  ------\n",
      "  0       0           0.25       42.43    0.42\n",
      "  0     200          25.97       60.49    0.60\n",
      "  0     400          21.30       68.73    0.69\n",
      "  0     600          19.03       71.17    0.71\n",
      "  0     800          15.37       73.59    0.74\n",
      "  1    1000          14.67       75.63    0.76\n",
      "  1    1200           7.01       76.49    0.76\n",
      "  1    1400           7.56       76.09    0.76\n",
      "  1    1600           6.64       75.32    0.75\n",
      "  1    1800           8.06       76.39    0.76\n",
      "  2    2000           5.55       75.97    0.76\n",
      "  2    2200           3.89       75.66    0.76\n",
      "  2    2400           3.46       76.55    0.77\n",
      "  2    2600           3.10       77.73    0.78\n",
      "  2    2800           3.35       77.71    0.78\n",
      "  3    3000           3.26       77.34    0.77\n",
      "  3    3200           2.34       77.43    0.77\n",
      "  3    3400           1.58       77.11    0.77\n",
      "  3    3600           1.72       77.75    0.78\n",
      "  3    3800           1.48       77.63    0.78\n",
      "  4    4000           1.75       77.58    0.78\n",
      "  4    4200           0.92       78.20    0.78\n",
      "  4    4400           1.53       78.45    0.78\n",
      "  4    4600           1.20       78.29    0.78\n",
      "  5    4800           1.15       78.03    0.78\n",
      "  5    5000           1.60       78.03    0.78\n",
      "  5    5200           1.25       77.95    0.78\n",
      "  5    5400           0.63       77.99    0.78\n",
      "  5    5600           1.04       77.91    0.78\n",
      "  6    5800           0.63       77.81    0.78\n",
      "  6    6000           0.95       77.88    0.78\n",
      "\u001b[38;5;2m✔ Saved pipeline to output directory\u001b[0m\n",
      "..\\cat\\cat_model\\model-last\n",
      "0.713156695316463\n",
      "\u001b[38;5;4mℹ Saving to output directory: ..\\cat\\cat_model\u001b[0m\n",
      "\u001b[38;5;4mℹ Using CPU\u001b[0m\n",
      "\u001b[1m\n",
      "=========================== Initializing pipeline ===========================\u001b[0m\n",
      "\u001b[38;5;2m✔ Initialized pipeline\u001b[0m\n",
      "\u001b[1m\n",
      "============================= Training pipeline =============================\u001b[0m\n",
      "\u001b[38;5;4mℹ Pipeline: ['textcat_multilabel']\u001b[0m\n",
      "\u001b[38;5;4mℹ Initial learn rate: 0.001\u001b[0m\n",
      "E    #       LOSS TEXTC...  CATS_SCORE  SCORE \n",
      "---  ------  -------------  ----------  ------\n",
      "  0       0           0.25       55.43    0.55\n",
      "  0     200          25.93       69.04    0.69\n",
      "  0     400          21.17       74.46    0.74\n",
      "  0     600          19.73       76.36    0.76\n",
      "  0     800          14.94       77.93    0.78\n",
      "  1    1000          13.27       80.99    0.81\n",
      "  1    1200           7.43       81.25    0.81\n",
      "  1    1400           9.34       79.22    0.79\n",
      "  1    1600           6.84       80.76    0.81\n",
      "  1    1800           8.10       81.26    0.81\n",
      "  2    2000           5.12       82.36    0.82\n",
      "  2    2200           2.96       81.99    0.82\n",
      "  2    2400           3.85       81.91    0.82\n",
      "  2    2600           2.74       81.49    0.81\n",
      "  2    2800           3.28       82.28    0.82\n",
      "  3    3000           2.90       81.46    0.81\n",
      "  3    3200           3.04       82.43    0.82\n",
      "  3    3400           2.69       83.19    0.83\n",
      "  3    3600           1.51       83.21    0.83\n",
      "  3    3800           1.99       83.33    0.83\n",
      "  4    4000           1.23       82.50    0.82\n",
      "  4    4200           1.13       82.76    0.83\n",
      "  4    4400           1.31       82.37    0.82\n",
      "  4    4600           1.38       81.79    0.82\n",
      "  5    4800           1.42       82.58    0.83\n",
      "  5    5000           0.61       82.18    0.82\n",
      "  5    5200           1.16       82.48    0.82\n",
      "  5    5400           0.80       82.85    0.83\n",
      "\u001b[38;5;2m✔ Saved pipeline to output directory\u001b[0m\n",
      "..\\cat\\cat_model\\model-last\n",
      "0.5352995523119479\n"
     ]
    }
   ],
   "source": [
    "res = []\n",
    "\n",
    "for train, test in kf.split(df):\n",
    "    train = df.iloc[train]\n",
    "    dev = df.iloc[test]\n",
    "\n",
    "    train = train.reset_index(drop=True)\n",
    "    dev = dev.reset_index(drop=True)\n",
    "\n",
    "    nlp = spacy.load('ru_core_news_lg')\n",
    "\n",
    "    create_docbin(dev).to_disk(\"../cat/dev.spacy\")\n",
    "    create_docbin(train).to_disk(\"../cat/train.spacy\")\n",
    "\n",
    "    ! python -m spacy train ../cat/config.cfg --output ../cat/cat_model --paths.train ../cat/train.spacy --paths.dev ../cat/dev.spacy\n",
    "\n",
    "    nlp = spacy.load('../cat/cat_model/model-best/')\n",
    "\n",
    "    dev['y'] = dev['tokenized_str'].apply(get_prection)\n",
    "\n",
    "    res.append(f1_score(dev['category'], dev['y'], average='weighted'))\n",
    "\n",
    "    print(f1_score(dev['category'], dev['y'], average='weighted'))\n",
    "\n",
    "    \n"
   ]
  },
  {
   "cell_type": "code",
   "execution_count": 35,
   "metadata": {},
   "outputs": [
    {
     "data": {
      "text/plain": [
       "[0.6829097875062283,\n",
       " 0.7513352308880721,\n",
       " 0.6645265306770053,\n",
       " 0.713156695316463,\n",
       " 0.5352995523119479]"
      ]
     },
     "execution_count": 35,
     "metadata": {},
     "output_type": "execute_result"
    }
   ],
   "source": [
    "res\n"
   ]
  },
  {
   "cell_type": "code",
   "execution_count": 10,
   "metadata": {},
   "outputs": [],
   "source": [
    "train, dev = train_test_split(df, test_size=0.2, random_state=42)\n"
   ]
  },
  {
   "cell_type": "code",
   "execution_count": 11,
   "metadata": {},
   "outputs": [],
   "source": [
    "train = train.reset_index(drop=True)\n",
    "dev = dev.reset_index(drop=True)"
   ]
  },
  {
   "cell_type": "code",
   "execution_count": 12,
   "metadata": {},
   "outputs": [
    {
     "data": {
      "text/plain": [
       "((960, 8), (240, 8))"
      ]
     },
     "execution_count": 12,
     "metadata": {},
     "output_type": "execute_result"
    }
   ],
   "source": [
    "train.shape, dev.shape"
   ]
  },
  {
   "cell_type": "code",
   "execution_count": 8,
   "metadata": {},
   "outputs": [
    {
     "name": "stdout",
     "output_type": "stream",
     "text": [
      "\u001b[38;5;2m✔ Auto-filled config with all values\u001b[0m\n",
      "\u001b[38;5;2m✔ Saved config\u001b[0m\n",
      "..\\cat\\config.cfg\n",
      "You can now add your data and train your pipeline:\n",
      "python -m spacy train config.cfg --paths.train ./train.spacy --paths.dev ./dev.spacy\n"
     ]
    }
   ],
   "source": [
    "! python -m spacy init fill-config ../cat/base_config.cfg ../cat/config.cfg"
   ]
  },
  {
   "cell_type": "code",
   "execution_count": 13,
   "metadata": {},
   "outputs": [
    {
     "name": "stdout",
     "output_type": "stream",
     "text": [
      "\u001b[38;5;4mℹ Saving to output directory: ..\\cat\\cat_model\u001b[0m\n",
      "\u001b[38;5;4mℹ Using CPU\u001b[0m\n",
      "\u001b[1m\n",
      "=========================== Initializing pipeline ===========================\u001b[0m\n",
      "\u001b[38;5;2m✔ Initialized pipeline\u001b[0m\n",
      "\u001b[1m\n",
      "============================= Training pipeline =============================\u001b[0m\n",
      "\u001b[38;5;4mℹ Pipeline: ['textcat_multilabel']\u001b[0m\n",
      "\u001b[38;5;4mℹ Initial learn rate: 0.001\u001b[0m\n",
      "E    #       LOSS TEXTC...  CATS_SCORE  SCORE \n",
      "---  ------  -------------  ----------  ------\n",
      "  0       0           0.25       56.87    0.57\n",
      "  0     200          24.01       73.37    0.73\n",
      "  0     400          19.98       75.81    0.76\n",
      "  0     600          20.61       77.15    0.77\n",
      "  0     800          15.21       78.03    0.78\n",
      "  1    1000          15.01       81.00    0.81\n",
      "  1    1200           6.83       84.29    0.84\n",
      "  1    1400           6.13       83.38    0.83\n",
      "  1    1600           8.81       83.18    0.83\n",
      "  1    1800           8.98       86.34    0.86\n",
      "  2    2000           5.87       87.84    0.88\n",
      "  2    2200           3.80       87.48    0.87\n",
      "  2    2400           2.64       86.38    0.86\n",
      "  2    2600           3.01       89.36    0.89\n",
      "  2    2800           3.67       88.33    0.88\n",
      "  3    3000           2.20       88.85    0.89\n",
      "  3    3200           1.01       89.01    0.89\n",
      "  3    3400           2.53       89.26    0.89\n",
      "  3    3600           2.47       89.19    0.89\n",
      "  3    3800           2.55       89.51    0.90\n",
      "  4    4000           0.88       89.76    0.90\n",
      "  4    4200           1.30       89.88    0.90\n",
      "  4    4400           1.31       89.08    0.89\n",
      "  4    4600           1.01       89.87    0.90\n",
      "  5    4800           1.75       90.49    0.90\n",
      "  5    5000           0.95       89.75    0.90\n",
      "  5    5200           1.08       89.89    0.90\n",
      "  5    5400           1.28       90.09    0.90\n",
      "  5    5600           0.68       90.01    0.90\n",
      "  6    5800           1.09       90.15    0.90\n",
      "  6    6000           1.00       90.19    0.90\n",
      "  6    6200           0.57       90.49    0.90\n",
      "  6    6400           1.18       89.61    0.90\n",
      "  6    6600           0.53       90.54    0.91\n",
      "  7    6800           0.92       89.96    0.90\n",
      "  7    7000           0.35       90.11    0.90\n",
      "  7    7200           0.40       90.13    0.90\n",
      "  7    7400           0.69       90.50    0.90\n",
      "  7    7600           1.33       90.28    0.90\n",
      "  8    7800           1.28       90.64    0.91\n",
      "  8    8000           0.37       90.69    0.91\n",
      "  8    8200           0.52       91.26    0.91\n",
      "  8    8400           1.50       90.31    0.90\n",
      "  8    8600           0.28       90.33    0.90\n",
      "  9    8800           0.44       90.33    0.90\n",
      "  9    9000           0.58       90.46    0.90\n",
      "  9    9200           0.46       90.52    0.91\n",
      "  9    9400           0.58       90.29    0.90\n",
      " 10    9600           0.31       90.45    0.90\n",
      " 10    9800           0.36       90.39    0.90\n",
      "\u001b[38;5;2m✔ Saved pipeline to output directory\u001b[0m\n",
      "..\\cat\\cat_model\\model-last\n",
      "0.7374474957593828\n"
     ]
    }
   ],
   "source": [
    "create_docbin(dev).to_disk(\"../cat/dev.spacy\")\n",
    "create_docbin(train).to_disk(\"../cat/train.spacy\")\n",
    "\n",
    "! python -m spacy train ../cat/config.cfg --output ../cat/cat_model --paths.train ../cat/train.spacy --paths.dev ../cat/dev.spacy\n",
    "\n",
    "nlp = spacy.load('../cat/cat_model/model-best/')\n",
    "\n",
    "dev['y'] = dev['tokenized_str'].apply(get_prection)\n",
    "\n",
    "print(f1_score(dev['category'], dev['y'], average='weighted'))"
   ]
  },
  {
   "cell_type": "code",
   "execution_count": 27,
   "metadata": {},
   "outputs": [
    {
     "name": "stdout",
     "output_type": "stream",
     "text": [
      "\u001b[38;5;4mℹ Using CPU\u001b[0m\n",
      "\u001b[1m\n",
      "================================== Results ==================================\u001b[0m\n",
      "\n",
      "TOK                   100.00\n",
      "TEXTCAT (macro AUC)   94.97 \n",
      "SPEED                 673881\n",
      "\n",
      "\u001b[1m\n",
      "=========================== Textcat F (per label) ===========================\u001b[0m\n",
      "\n",
      "           P       R       F\n",
      "BB     72.41   91.30   80.77\n",
      "AAA    96.43   84.38   90.00\n",
      "AA     85.29   76.32   80.56\n",
      "A      83.13   83.13   83.13\n",
      "BBB    94.29   61.11   74.16\n",
      "B     100.00   57.14   72.73\n",
      "C     100.00   66.67   80.00\n",
      "\n",
      "\u001b[1m\n",
      "======================== Textcat ROC AUC (per label) ========================\u001b[0m\n",
      "\n",
      "      ROC AUC\n",
      "BB       0.99\n",
      "AAA      0.98\n",
      "AA       0.93\n",
      "A        0.95\n",
      "BBB      0.93\n",
      "B        0.93\n",
      "C        0.93\n",
      "\n",
      "\u001b[38;5;2m✔ Saved results to ..\\cat\\metrics.json\u001b[0m\n"
     ]
    }
   ],
   "source": [
    "! python -m spacy evaluate ../cat/cat_model/model-best/ --output ../cat/metrics.json ../cat/dev.spacy"
   ]
  },
  {
   "cell_type": "code",
   "execution_count": 35,
   "metadata": {},
   "outputs": [
    {
     "data": {
      "text/plain": [
       "A      41\n",
       "BBB    28\n",
       "AA     20\n",
       "AAA    13\n",
       "BB     12\n",
       "B       4\n",
       "C       2\n",
       "Name: category, dtype: int64"
      ]
     },
     "execution_count": 35,
     "metadata": {},
     "output_type": "execute_result"
    }
   ],
   "source": [
    "dev['category'].value_counts()"
   ]
  },
  {
   "cell_type": "code",
   "execution_count": 36,
   "metadata": {},
   "outputs": [
    {
     "data": {
      "text/plain": [
       "A      345\n",
       "BBB    242\n",
       "AA     179\n",
       "AAA    140\n",
       "BB     124\n",
       "B       40\n",
       "C       10\n",
       "Name: category, dtype: int64"
      ]
     },
     "execution_count": 36,
     "metadata": {},
     "output_type": "execute_result"
    }
   ],
   "source": [
    "train['category'].value_counts()"
   ]
  },
  {
   "cell_type": "code",
   "execution_count": 12,
   "metadata": {},
   "outputs": [],
   "source": [
    "categories = df['category'].unique()"
   ]
  },
  {
   "cell_type": "code",
   "execution_count": 13,
   "metadata": {},
   "outputs": [
    {
     "data": {
      "text/plain": [
       "array(['BB', 'AAA', 'AA', 'A', 'BBB', 'B', 'C'], dtype=object)"
      ]
     },
     "execution_count": 13,
     "metadata": {},
     "output_type": "execute_result"
    }
   ],
   "source": [
    "categories"
   ]
  },
  {
   "cell_type": "code",
   "execution_count": 39,
   "metadata": {},
   "outputs": [],
   "source": []
  },
  {
   "cell_type": "code",
   "execution_count": 40,
   "metadata": {},
   "outputs": [],
   "source": []
  },
  {
   "cell_type": "code",
   "execution_count": 41,
   "metadata": {},
   "outputs": [],
   "source": [
    "create_docbin(dev).to_disk(\"../cat/dev.spacy\")"
   ]
  },
  {
   "cell_type": "code",
   "execution_count": 42,
   "metadata": {},
   "outputs": [],
   "source": [
    "create_docbin(train).to_disk(\"../cat/train.spacy\")"
   ]
  },
  {
   "cell_type": "code",
   "execution_count": null,
   "metadata": {},
   "outputs": [],
   "source": []
  },
  {
   "cell_type": "code",
   "execution_count": 10,
   "metadata": {},
   "outputs": [],
   "source": [
    "nlp = spacy.load('../cat/cat_model/model-best/')"
   ]
  },
  {
   "cell_type": "code",
   "execution_count": 11,
   "metadata": {},
   "outputs": [
    {
     "data": {
      "text/plain": [
       "'подтвердить кредитный рейтинг компания уровень    март рейтинговый агентство подтвердить рейтинг кредитоспособность нефинансовый компания уровень прогноз рейтинг стабильный группа являться вертикально интегрировать металлургический горнодобывающей компания основной актив группа структурно состоять два дивизион включать горнодобывающие актив оценка риск профиль отрасль оказывать умеренно позитивный влияние рейтинг агентство оценивать барьер вход металлургический отрасль высокий отрасль подверженный цикличность сдерживать оценка фактор устойчивость внешний шокам поддерживаться способность удерживать комфортный обслуживание долговой метрики высокий сравнение среднеотраслевой значение маржинальность бизнес низкий точка цикл стальной отрасль вертикально интегрировать модель бизнес высокий уровень самообеспеченность основный сырьё позволять группа первый децили глобальный кривой затрата учёт вертикальный интеграция поддерживать оценка рыночный конкурентный позиция группа являться крупный российский металлургический холдинг год производство сталь составить млн тонна условие внешний давление год производство сталь снизиться относительно показатель год указывать высокий уровень адаптивность устойчивость основный производственный площадка оставаться фактор концентрация актив оценить позитивно учитывать существенный размер комбинат высокий уровень страховой защита год группа осуществить продажа дочерний компания поставлявшего угольный концентрат реализация производственный актив согласно анализ агентство оказать существенный влияние рост издержка связь необходимость закупка сырьё периметр группа ввиду группа заключить пятилетний контракт покупка уголь ценовый формула позволять сглаживать ценовый колебание агентство умеренно позитивно оценивать продуктовый диверсификация формировать порядок выручка год доля продукция высокий добавить стоимость итог год составить поддерживать уровень рейтинг бизнес профиль группа характеризоваться высокий диверсификация клиент поставщик доля крупный контрагент превышать зависимость труднозаменимых поставщик выявить год группа лишиться возможность поставлять продукция высокомаржинальные западный рынок связь вынудить перенаправить продажа рынок новый экспортный направление фон снижение средний цена металлопродукция снижение продажа выручка согласно оценка агентство снизиться время низкий себестоимость производство сохранить высокий показатель рентабельность мир металлургический компания итог год маржинальность согласно оценка агентство определяться сопоставимый среднеисторическими показатель уровень показатель прогнозный ликвидность горизонт год позитивно оцениваться агентство основный направление использование ликвидность оставаться капитальный расход поддержание развитие год инвестиционный программа составить млрд долл сравнимый уровень год качественный оценка ликвидность позитивно оцениваться агентство учитывать существенный объём невыбранный кредитный линия накопить ликвидность баланс совокупность положительный история заимствование рынок публичный долг кредитный портфель агентство ожидать необходимость возникнуть проблема привлечение краткосрочный долг группа сохранять комфортный обслуживание уровень долговой нагрузка соотношение чистый долг год составить итог год показатель опуститься отрицательный значение ввиду превышение размер долговой портфель значительный объём денежный средство баланс агентство ожидать год группа поддерживать денежный средство уровень превышать объём кредитный портфель низкий уровень процентный нагрузка оказывать поддержка рейтинг согласно оценка агентство отношение процентный расход составить сравнение конец год бенчмарке максимально позитивный оценка агентство выделять умеренно низкий подверженность рыночный риск отмечать значимый вероятность реализация валютный риск исторически валютный риск закрываться естественный хедж долг номинированный долл нивелировался поступление валюта текущий момент группа использовать синтетический инструмент перепривязки долг доминировать валюта расчёт самым снижать валютный риск агентство положительно оценивать блок корпоративный риск правление функционировать комитет аудит комитет кадр вознаграждение уровень стратегический обеспечение достаточность страховой покрытие подход риск менеджмент высоко оценить агентство'"
      ]
     },
     "execution_count": 11,
     "metadata": {},
     "output_type": "execute_result"
    }
   ],
   "source": [
    "df['tokenized_str'][5]"
   ]
  },
  {
   "cell_type": "code",
   "execution_count": 12,
   "metadata": {},
   "outputs": [
    {
     "data": {
      "text/plain": [
       "Unnamed: 0                                                      10\n",
       "Id                                                              11\n",
       "pr_txt           «Эксперт РА» подтвердил кредитный рейтинг комп...\n",
       "category                                                       AAA\n",
       "rating                                                         AAA\n",
       "clear_text       подтвердить кредитный рейтинг компания на уров...\n",
       "tokenized        ['подтвердить', 'кредитный', 'рейтинг', 'компа...\n",
       "tokenized_str    подтвердить кредитный рейтинг компания уровень...\n",
       "Name: 5, dtype: object"
      ]
     },
     "execution_count": 12,
     "metadata": {},
     "output_type": "execute_result"
    }
   ],
   "source": [
    "df.iloc[5]"
   ]
  },
  {
   "cell_type": "code",
   "execution_count": 13,
   "metadata": {},
   "outputs": [],
   "source": [
    "doc = nlp(df['tokenized_str'][5])"
   ]
  },
  {
   "cell_type": "code",
   "execution_count": 14,
   "metadata": {},
   "outputs": [
    {
     "data": {
      "text/plain": [
       "{'BB': 0.00022462634660769254,\n",
       " 'AAA': 0.9858864545822144,\n",
       " 'AA+': 8.027573130675592e-06,\n",
       " 'A': 6.041466986062005e-05,\n",
       " 'BB+': 2.1728023057221435e-05,\n",
       " 'A-': 0.00011630508379312232,\n",
       " 'A+': 0.006935281213372946,\n",
       " 'BBB': 6.68603115627775e-06,\n",
       " 'BBB+': 0.0037035911809653044,\n",
       " 'B-': 2.061153470123145e-09,\n",
       " 'AA': 3.038844806724228e-05,\n",
       " 'B+': 9.058681627038823e-08,\n",
       " 'BB-': 0.0006843357696197927,\n",
       " 'AA-': 0.00012125987268518656,\n",
       " 'C': 1.3159824341357762e-08,\n",
       " 'B': 2.061153470123145e-09,\n",
       " 'BBB-': 1.037518995872233e-05}"
      ]
     },
     "execution_count": 14,
     "metadata": {},
     "output_type": "execute_result"
    }
   ],
   "source": [
    "doc.cats"
   ]
  },
  {
   "cell_type": "code",
   "execution_count": 15,
   "metadata": {},
   "outputs": [],
   "source": [
    "from sklearn.metrics import classification_report"
   ]
  },
  {
   "cell_type": "code",
   "execution_count": 16,
   "metadata": {},
   "outputs": [],
   "source": [
    "docs = nlp.pipe(dev)"
   ]
  },
  {
   "cell_type": "code",
   "execution_count": null,
   "metadata": {},
   "outputs": [],
   "source": [
    "(scores, key=scores.get)"
   ]
  },
  {
   "cell_type": "code",
   "execution_count": 18,
   "metadata": {},
   "outputs": [],
   "source": [
    "def get_prection(text):\n",
    "    doc = nlp(text)\n",
    "    scores = doc.cats\n",
    "    return max(scores, key=scores.get)"
   ]
  },
  {
   "cell_type": "code",
   "execution_count": 19,
   "metadata": {},
   "outputs": [],
   "source": [
    "dev['y'] = dev['tokenized_str'].apply(get_prection)"
   ]
  },
  {
   "cell_type": "code",
   "execution_count": 21,
   "metadata": {},
   "outputs": [
    {
     "name": "stdout",
     "output_type": "stream",
     "text": [
      "              precision    recall  f1-score   support\n",
      "\n",
      "          BB       0.33      0.28      0.30        18\n",
      "         AAA       0.50      0.57      0.53        28\n",
      "         AA+       0.66      0.68      0.67        37\n",
      "           A       0.83      0.77      0.80        13\n",
      "         BB+       0.77      0.77      0.77        13\n",
      "          A-       0.67      0.50      0.57        12\n",
      "          A+       0.82      0.88      0.85        32\n",
      "         BBB       0.00      0.00      0.00         2\n",
      "        BBB+       0.67      0.50      0.57         4\n",
      "          B-       0.00      0.00      0.00         1\n",
      "          AA       0.33      0.44      0.38         9\n",
      "          B+       0.62      0.56      0.59         9\n",
      "         BB-       0.20      0.20      0.20         5\n",
      "         AA-       0.62      0.42      0.50        19\n",
      "           C       0.54      0.57      0.55        23\n",
      "           B       0.35      0.58      0.44        12\n",
      "        BBB-       1.00      0.67      0.80         3\n",
      "\n",
      "    accuracy                           0.59       240\n",
      "   macro avg       0.52      0.49      0.50       240\n",
      "weighted avg       0.60      0.59      0.59       240\n",
      "\n"
     ]
    },
    {
     "name": "stderr",
     "output_type": "stream",
     "text": [
      "c:\\Users\\wilte\\OneDrive\\Рабочий стол\\projects\\rating-agency-analyser\\venv\\Lib\\site-packages\\sklearn\\metrics\\_classification.py:1469: UndefinedMetricWarning: Precision and F-score are ill-defined and being set to 0.0 in labels with no predicted samples. Use `zero_division` parameter to control this behavior.\n",
      "  _warn_prf(average, modifier, msg_start, len(result))\n",
      "c:\\Users\\wilte\\OneDrive\\Рабочий стол\\projects\\rating-agency-analyser\\venv\\Lib\\site-packages\\sklearn\\metrics\\_classification.py:1469: UndefinedMetricWarning: Precision and F-score are ill-defined and being set to 0.0 in labels with no predicted samples. Use `zero_division` parameter to control this behavior.\n",
      "  _warn_prf(average, modifier, msg_start, len(result))\n",
      "c:\\Users\\wilte\\OneDrive\\Рабочий стол\\projects\\rating-agency-analyser\\venv\\Lib\\site-packages\\sklearn\\metrics\\_classification.py:1469: UndefinedMetricWarning: Precision and F-score are ill-defined and being set to 0.0 in labels with no predicted samples. Use `zero_division` parameter to control this behavior.\n",
      "  _warn_prf(average, modifier, msg_start, len(result))\n"
     ]
    }
   ],
   "source": [
    "print(classification_report(dev['rating'], dev['y'], target_names=categories))"
   ]
  },
  {
   "cell_type": "code",
   "execution_count": 20,
   "metadata": {},
   "outputs": [
    {
     "data": {
      "text/html": [
       "<div>\n",
       "<style scoped>\n",
       "    .dataframe tbody tr th:only-of-type {\n",
       "        vertical-align: middle;\n",
       "    }\n",
       "\n",
       "    .dataframe tbody tr th {\n",
       "        vertical-align: top;\n",
       "    }\n",
       "\n",
       "    .dataframe thead th {\n",
       "        text-align: right;\n",
       "    }\n",
       "</style>\n",
       "<table border=\"1\" class=\"dataframe\">\n",
       "  <thead>\n",
       "    <tr style=\"text-align: right;\">\n",
       "      <th></th>\n",
       "      <th>Unnamed: 0</th>\n",
       "      <th>Id</th>\n",
       "      <th>pr_txt</th>\n",
       "      <th>category</th>\n",
       "      <th>rating</th>\n",
       "      <th>clear_text</th>\n",
       "      <th>tokenized</th>\n",
       "      <th>tokenized_str</th>\n",
       "      <th>y</th>\n",
       "    </tr>\n",
       "  </thead>\n",
       "  <tbody>\n",
       "    <tr>\n",
       "      <th>0</th>\n",
       "      <td>650</td>\n",
       "      <td>652</td>\n",
       "      <td>НКР присвоило \"СР-ТЭК\" кредитный рейтинг &lt;rati...</td>\n",
       "      <td>B</td>\n",
       "      <td>B+</td>\n",
       "      <td>присвоить кредитный рейтинг со стабильный прог...</td>\n",
       "      <td>['присвоить', 'кредитный', 'рейтинг', 'стабиль...</td>\n",
       "      <td>присвоить кредитный рейтинг стабильный прогноз...</td>\n",
       "      <td>A-</td>\n",
       "    </tr>\n",
       "    <tr>\n",
       "      <th>1</th>\n",
       "      <td>549</td>\n",
       "      <td>550</td>\n",
       "      <td>Кредитный рейтинг  АО «ИНК-Капитал»  (далее — ...</td>\n",
       "      <td>A</td>\n",
       "      <td>A+</td>\n",
       "      <td>кредитный рейтинг далее компания обусловить си...</td>\n",
       "      <td>['кредитный', 'рейтинг', 'компания', 'обуслови...</td>\n",
       "      <td>кредитный рейтинг компания обусловить сильный ...</td>\n",
       "      <td>AAA</td>\n",
       "    </tr>\n",
       "    <tr>\n",
       "      <th>2</th>\n",
       "      <td>227</td>\n",
       "      <td>228</td>\n",
       "      <td>«Эксперт РА» присвоил кредитный рейтинг АО «ЮГ...</td>\n",
       "      <td>AA</td>\n",
       "      <td>AA-</td>\n",
       "      <td>эксперт ра присвоить кредитный рейтинг на уров...</td>\n",
       "      <td>['эксперт', 'ра', 'присвоить', 'кредитный', 'р...</td>\n",
       "      <td>эксперт ра присвоить кредитный рейтинг уровень...</td>\n",
       "      <td>AA</td>\n",
       "    </tr>\n",
       "    <tr>\n",
       "      <th>3</th>\n",
       "      <td>875</td>\n",
       "      <td>883</td>\n",
       "      <td>«Эксперт РА» присвоил кредитный рейтинг компан...</td>\n",
       "      <td>BB</td>\n",
       "      <td>BB-</td>\n",
       "      <td>эксперт ра присвоить кредитный рейтинг компани...</td>\n",
       "      <td>['эксперт', 'ра', 'присвоить', 'кредитный', 'р...</td>\n",
       "      <td>эксперт ра присвоить кредитный рейтинг компани...</td>\n",
       "      <td>BBB-</td>\n",
       "    </tr>\n",
       "    <tr>\n",
       "      <th>4</th>\n",
       "      <td>124</td>\n",
       "      <td>125</td>\n",
       "      <td>«Эксперт РА» подтвердил кредитный рейтинг ПАО ...</td>\n",
       "      <td>A</td>\n",
       "      <td>A+</td>\n",
       "      <td>подтвердить кредитный рейтинг на уровень ноябр...</td>\n",
       "      <td>['подтвердить', 'кредитный', 'рейтинг', 'урове...</td>\n",
       "      <td>подтвердить кредитный рейтинг уровень ноябрь р...</td>\n",
       "      <td>A+</td>\n",
       "    </tr>\n",
       "    <tr>\n",
       "      <th>...</th>\n",
       "      <td>...</td>\n",
       "      <td>...</td>\n",
       "      <td>...</td>\n",
       "      <td>...</td>\n",
       "      <td>...</td>\n",
       "      <td>...</td>\n",
       "      <td>...</td>\n",
       "      <td>...</td>\n",
       "      <td>...</td>\n",
       "    </tr>\n",
       "    <tr>\n",
       "      <th>235</th>\n",
       "      <td>766</td>\n",
       "      <td>770</td>\n",
       "      <td>«Эксперт РА» пересмотрел рейтинг компании «Дет...</td>\n",
       "      <td>AA</td>\n",
       "      <td>AA-</td>\n",
       "      <td>пересмотреть рейтинг компания по обновить мето...</td>\n",
       "      <td>['пересмотреть', 'рейтинг', 'компания', 'обнов...</td>\n",
       "      <td>пересмотреть рейтинг компания обновить методол...</td>\n",
       "      <td>AA-</td>\n",
       "    </tr>\n",
       "    <tr>\n",
       "      <th>236</th>\n",
       "      <td>555</td>\n",
       "      <td>556</td>\n",
       "      <td>Повышение кредитного рейтинга  АО «ГК «Пионер»...</td>\n",
       "      <td>A</td>\n",
       "      <td>A-</td>\n",
       "      <td>повышение кредитный рейтинг далее компания обу...</td>\n",
       "      <td>['повышение', 'кредитный', 'рейтинг', 'компани...</td>\n",
       "      <td>повышение кредитный рейтинг компания обусловит...</td>\n",
       "      <td>BBB+</td>\n",
       "    </tr>\n",
       "    <tr>\n",
       "      <th>237</th>\n",
       "      <td>1041</td>\n",
       "      <td>1053</td>\n",
       "      <td>«Эксперт РА» подтвердил рейтинг компании АРКТИ...</td>\n",
       "      <td>AA</td>\n",
       "      <td>AA+</td>\n",
       "      <td>подтвердить рейтинг компания на уровень декабр...</td>\n",
       "      <td>['подтвердить', 'рейтинг', 'компания', 'уровен...</td>\n",
       "      <td>подтвердить рейтинг компания уровень декабрь р...</td>\n",
       "      <td>A+</td>\n",
       "    </tr>\n",
       "    <tr>\n",
       "      <th>238</th>\n",
       "      <td>844</td>\n",
       "      <td>850</td>\n",
       "      <td>Н К Р | нефинансовые компании | золотодобыча Н...</td>\n",
       "      <td>A</td>\n",
       "      <td>A+</td>\n",
       "      <td>н к р нефинансовый компания золотодобыча присв...</td>\n",
       "      <td>['нефинансовый', 'компания', 'золотодобыча', '...</td>\n",
       "      <td>нефинансовый компания золотодобыча присвоить к...</td>\n",
       "      <td>A+</td>\n",
       "    </tr>\n",
       "    <tr>\n",
       "      <th>239</th>\n",
       "      <td>582</td>\n",
       "      <td>583</td>\n",
       "      <td>Кредитный рейтинг  ООО «Электроаппарат» (далее...</td>\n",
       "      <td>B</td>\n",
       "      <td>B+</td>\n",
       "      <td>кредитный рейтинг далее компания с одной сторо...</td>\n",
       "      <td>['кредитный', 'рейтинг', 'компания', 'сторона'...</td>\n",
       "      <td>кредитный рейтинг компания сторона определятьс...</td>\n",
       "      <td>BB</td>\n",
       "    </tr>\n",
       "  </tbody>\n",
       "</table>\n",
       "<p>240 rows × 9 columns</p>\n",
       "</div>"
      ],
      "text/plain": [
       "     Unnamed: 0    Id                                             pr_txt  \\\n",
       "0           650   652  НКР присвоило \"СР-ТЭК\" кредитный рейтинг <rati...   \n",
       "1           549   550  Кредитный рейтинг  АО «ИНК-Капитал»  (далее — ...   \n",
       "2           227   228  «Эксперт РА» присвоил кредитный рейтинг АО «ЮГ...   \n",
       "3           875   883  «Эксперт РА» присвоил кредитный рейтинг компан...   \n",
       "4           124   125  «Эксперт РА» подтвердил кредитный рейтинг ПАО ...   \n",
       "..          ...   ...                                                ...   \n",
       "235         766   770  «Эксперт РА» пересмотрел рейтинг компании «Дет...   \n",
       "236         555   556  Повышение кредитного рейтинга  АО «ГК «Пионер»...   \n",
       "237        1041  1053  «Эксперт РА» подтвердил рейтинг компании АРКТИ...   \n",
       "238         844   850  Н К Р | нефинансовые компании | золотодобыча Н...   \n",
       "239         582   583  Кредитный рейтинг  ООО «Электроаппарат» (далее...   \n",
       "\n",
       "    category rating                                         clear_text  \\\n",
       "0          B     B+  присвоить кредитный рейтинг со стабильный прог...   \n",
       "1          A     A+  кредитный рейтинг далее компания обусловить си...   \n",
       "2         AA    AA-  эксперт ра присвоить кредитный рейтинг на уров...   \n",
       "3         BB    BB-  эксперт ра присвоить кредитный рейтинг компани...   \n",
       "4          A     A+  подтвердить кредитный рейтинг на уровень ноябр...   \n",
       "..       ...    ...                                                ...   \n",
       "235       AA    AA-  пересмотреть рейтинг компания по обновить мето...   \n",
       "236        A     A-  повышение кредитный рейтинг далее компания обу...   \n",
       "237       AA    AA+  подтвердить рейтинг компания на уровень декабр...   \n",
       "238        A     A+  н к р нефинансовый компания золотодобыча присв...   \n",
       "239        B     B+  кредитный рейтинг далее компания с одной сторо...   \n",
       "\n",
       "                                             tokenized  \\\n",
       "0    ['присвоить', 'кредитный', 'рейтинг', 'стабиль...   \n",
       "1    ['кредитный', 'рейтинг', 'компания', 'обуслови...   \n",
       "2    ['эксперт', 'ра', 'присвоить', 'кредитный', 'р...   \n",
       "3    ['эксперт', 'ра', 'присвоить', 'кредитный', 'р...   \n",
       "4    ['подтвердить', 'кредитный', 'рейтинг', 'урове...   \n",
       "..                                                 ...   \n",
       "235  ['пересмотреть', 'рейтинг', 'компания', 'обнов...   \n",
       "236  ['повышение', 'кредитный', 'рейтинг', 'компани...   \n",
       "237  ['подтвердить', 'рейтинг', 'компания', 'уровен...   \n",
       "238  ['нефинансовый', 'компания', 'золотодобыча', '...   \n",
       "239  ['кредитный', 'рейтинг', 'компания', 'сторона'...   \n",
       "\n",
       "                                         tokenized_str     y  \n",
       "0    присвоить кредитный рейтинг стабильный прогноз...    A-  \n",
       "1    кредитный рейтинг компания обусловить сильный ...   AAA  \n",
       "2    эксперт ра присвоить кредитный рейтинг уровень...    AA  \n",
       "3    эксперт ра присвоить кредитный рейтинг компани...  BBB-  \n",
       "4    подтвердить кредитный рейтинг уровень ноябрь р...    A+  \n",
       "..                                                 ...   ...  \n",
       "235  пересмотреть рейтинг компания обновить методол...   AA-  \n",
       "236  повышение кредитный рейтинг компания обусловит...  BBB+  \n",
       "237  подтвердить рейтинг компания уровень декабрь р...    A+  \n",
       "238  нефинансовый компания золотодобыча присвоить к...    A+  \n",
       "239  кредитный рейтинг компания сторона определятьс...    BB  \n",
       "\n",
       "[240 rows x 9 columns]"
      ]
     },
     "execution_count": 20,
     "metadata": {},
     "output_type": "execute_result"
    }
   ],
   "source": [
    "categories "
   ]
  },
  {
   "cell_type": "code",
   "execution_count": null,
   "metadata": {},
   "outputs": [],
   "source": []
  }
 ],
 "metadata": {
  "kernelspec": {
   "display_name": "venv",
   "language": "python",
   "name": "python3"
  },
  "language_info": {
   "codemirror_mode": {
    "name": "ipython",
    "version": 3
   },
   "file_extension": ".py",
   "mimetype": "text/x-python",
   "name": "python",
   "nbconvert_exporter": "python",
   "pygments_lexer": "ipython3",
   "version": "3.11.2"
  },
  "orig_nbformat": 4
 },
 "nbformat": 4,
 "nbformat_minor": 2
}
