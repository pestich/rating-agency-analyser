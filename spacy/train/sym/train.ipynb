{
 "cells": [
  {
   "cell_type": "code",
   "execution_count": 1,
   "metadata": {},
   "outputs": [],
   "source": [
    "import pandas as pd\n",
    "import spacy\n",
    "from sklearn.model_selection import train_test_split\n",
    "from spacy.tokens import DocBin\n"
   ]
  },
  {
   "cell_type": "code",
   "execution_count": 2,
   "metadata": {},
   "outputs": [],
   "source": [
    "df = pd.read_csv('../../../raw_data/data_prep.csv')"
   ]
  },
  {
   "cell_type": "code",
   "execution_count": 3,
   "metadata": {},
   "outputs": [],
   "source": [
    "nlp = spacy.load('ru_core_news_lg')"
   ]
  },
  {
   "cell_type": "code",
   "execution_count": 4,
   "metadata": {},
   "outputs": [],
   "source": [
    "def set_cat_sm(text):\n",
    "    if 'A' in text:\n",
    "        return 'A'\n",
    "    elif 'B' in text:\n",
    "        return 'B'\n",
    "    return 'B'"
   ]
  },
  {
   "cell_type": "code",
   "execution_count": 5,
   "metadata": {},
   "outputs": [],
   "source": [
    "def create_docbin(data):\n",
    "    db = DocBin()\n",
    "    categories = ['A', 'B']\n",
    "    for i in range(data.shape[0]):    \n",
    "        doc = nlp.make_doc(str(data[\"tokenized_str\"][i]))\n",
    "        doc.cats = {category: 0 for category in categories}\n",
    "        doc.cats[data[\"category_sm\"][i]] = 1\n",
    "        db.add(doc)\n",
    "    return db"
   ]
  },
  {
   "cell_type": "code",
   "execution_count": 6,
   "metadata": {},
   "outputs": [],
   "source": [
    "def get_prection(text):\n",
    "    doc = nlp(text)\n",
    "    scores = doc.cats\n",
    "    return max(scores, key=scores.get)"
   ]
  },
  {
   "cell_type": "code",
   "execution_count": 7,
   "metadata": {},
   "outputs": [],
   "source": [
    "df['category_sm'] = df[\"category\"].apply(set_cat_sm)"
   ]
  },
  {
   "cell_type": "code",
   "execution_count": 8,
   "metadata": {},
   "outputs": [
    {
     "data": {
      "text/plain": [
       "A    738\n",
       "B    462\n",
       "Name: category_sm, dtype: int64"
      ]
     },
     "execution_count": 8,
     "metadata": {},
     "output_type": "execute_result"
    }
   ],
   "source": [
    "df['category_sm'].value_counts()"
   ]
  },
  {
   "cell_type": "code",
   "execution_count": 9,
   "metadata": {},
   "outputs": [],
   "source": [
    "train, dev = train_test_split(df, test_size=0.1, random_state=42)"
   ]
  },
  {
   "cell_type": "code",
   "execution_count": 10,
   "metadata": {},
   "outputs": [],
   "source": [
    "train = train.reset_index(drop=True)\n",
    "dev = dev.reset_index(drop=True)"
   ]
  },
  {
   "cell_type": "code",
   "execution_count": 11,
   "metadata": {},
   "outputs": [],
   "source": [
    "create_docbin(dev).to_disk(\"../sym/dev.spacy\")\n",
    "create_docbin(train).to_disk(\"../sym/train.spacy\")"
   ]
  },
  {
   "cell_type": "code",
   "execution_count": 12,
   "metadata": {},
   "outputs": [
    {
     "name": "stdout",
     "output_type": "stream",
     "text": [
      "\u001b[38;5;4mℹ Saving to output directory: ..\\sym\\sym_model\u001b[0m\n",
      "\u001b[38;5;4mℹ Using CPU\u001b[0m\n",
      "\u001b[1m\n",
      "=========================== Initializing pipeline ===========================\u001b[0m\n",
      "\u001b[38;5;2m✔ Initialized pipeline\u001b[0m\n",
      "\u001b[1m\n",
      "============================= Training pipeline =============================\u001b[0m\n",
      "\u001b[38;5;4mℹ Pipeline: ['textcat']\u001b[0m\n",
      "\u001b[38;5;4mℹ Initial learn rate: 0.001\u001b[0m\n",
      "E    #       LOSS TEXTCAT  CATS_SCORE  SCORE \n",
      "---  ------  ------------  ----------  ------\n",
      "  0       0          0.25       38.46    0.38\n",
      "  0     200         58.28       73.86    0.74\n",
      "  0     400         41.73       76.10    0.76\n",
      "  0     600         25.54       81.71    0.82\n",
      "  0     800         19.73       82.22    0.82\n",
      "  0    1000         22.14       90.42    0.90\n",
      "  1    1200         10.54       83.56    0.84\n",
      "  1    1400          8.34       88.39    0.88\n",
      "  1    1600          8.71       82.91    0.83\n",
      "  1    1800          9.81       83.69    0.84\n",
      "  1    2000          8.68       90.34    0.90\n",
      "  2    2200          4.01       88.49    0.88\n",
      "  2    2400          1.69       89.98    0.90\n",
      "  2    2600          1.24       83.96    0.84\n",
      "\u001b[38;5;2m✔ Saved pipeline to output directory\u001b[0m\n",
      "..\\sym\\sym_model\\model-last\n"
     ]
    }
   ],
   "source": [
    "! python -m spacy train ../sym/config.cfg --output ../sym/sym_model --paths.train ../sym/train.spacy --paths.dev ../sym/dev.spacy\n"
   ]
  },
  {
   "cell_type": "code",
   "execution_count": null,
   "metadata": {},
   "outputs": [],
   "source": []
  }
 ],
 "metadata": {
  "kernelspec": {
   "display_name": "venv",
   "language": "python",
   "name": "python3"
  },
  "language_info": {
   "codemirror_mode": {
    "name": "ipython",
    "version": 3
   },
   "file_extension": ".py",
   "mimetype": "text/x-python",
   "name": "python",
   "nbconvert_exporter": "python",
   "pygments_lexer": "ipython3",
   "version": "3.11.2"
  },
  "orig_nbformat": 4
 },
 "nbformat": 4,
 "nbformat_minor": 2
}
