{
 "cells": [
  {
   "cell_type": "code",
   "execution_count": 43,
   "metadata": {},
   "outputs": [],
   "source": [
    "import pandas as pd\n",
    "import spacy\n",
    "from sklearn.model_selection import train_test_split\n",
    "from spacy.tokens import DocBin"
   ]
  },
  {
   "cell_type": "code",
   "execution_count": 44,
   "metadata": {},
   "outputs": [],
   "source": [
    "df = pd.read_csv('../../../raw_data/data_prep.csv')"
   ]
  },
  {
   "cell_type": "code",
   "execution_count": 45,
   "metadata": {},
   "outputs": [],
   "source": [
    "nlp = spacy.load('ru_core_news_lg')"
   ]
  },
  {
   "cell_type": "code",
   "execution_count": 46,
   "metadata": {},
   "outputs": [
    {
     "data": {
      "text/plain": [
       "A      386\n",
       "BBB    270\n",
       "AA     199\n",
       "AAA    153\n",
       "BB     136\n",
       "B       44\n",
       "C       12\n",
       "Name: category, dtype: int64"
      ]
     },
     "execution_count": 46,
     "metadata": {},
     "output_type": "execute_result"
    }
   ],
   "source": [
    "df['category'].value_counts()"
   ]
  },
  {
   "cell_type": "code",
   "execution_count": 47,
   "metadata": {},
   "outputs": [],
   "source": [
    "cat1 = ['AAA', 'AA']\n",
    "cat2 = ['B', 'A']\n",
    "cat3 = ['C', 'BBB', 'BB']"
   ]
  },
  {
   "cell_type": "code",
   "execution_count": 48,
   "metadata": {},
   "outputs": [],
   "source": [
    "def set_cat_sm(text):\n",
    "    if text in cat1:\n",
    "        return '1'\n",
    "    elif text in cat2:\n",
    "        return '2'\n",
    "    return '3'"
   ]
  },
  {
   "cell_type": "code",
   "execution_count": 49,
   "metadata": {},
   "outputs": [],
   "source": [
    "def create_docbin(data):\n",
    "    db = DocBin()\n",
    "    categories = ['1', '2', '3']\n",
    "    for i in range(data.shape[0]):    \n",
    "        doc = nlp.make_doc(str(data[\"tokenized_str\"][i]))\n",
    "        doc.cats = {category: 0 for category in categories}\n",
    "        doc.cats[data[\"category_sm\"][i]] = 1\n",
    "        db.add(doc)\n",
    "    return db"
   ]
  },
  {
   "cell_type": "code",
   "execution_count": 50,
   "metadata": {},
   "outputs": [],
   "source": [
    "df['category_sm'] = df[\"category\"].apply(set_cat_sm)"
   ]
  },
  {
   "cell_type": "code",
   "execution_count": 51,
   "metadata": {},
   "outputs": [
    {
     "data": {
      "text/plain": [
       "2    430\n",
       "3    418\n",
       "1    352\n",
       "Name: category_sm, dtype: int64"
      ]
     },
     "execution_count": 51,
     "metadata": {},
     "output_type": "execute_result"
    }
   ],
   "source": [
    "df['category_sm'].value_counts()"
   ]
  },
  {
   "cell_type": "code",
   "execution_count": 52,
   "metadata": {},
   "outputs": [],
   "source": [
    "train, dev = train_test_split(df, test_size=0.1, random_state=42)"
   ]
  },
  {
   "cell_type": "code",
   "execution_count": 53,
   "metadata": {},
   "outputs": [],
   "source": [
    "train = train.reset_index(drop=True)\n",
    "dev = dev.reset_index(drop=True)"
   ]
  },
  {
   "cell_type": "code",
   "execution_count": 54,
   "metadata": {},
   "outputs": [],
   "source": [
    "create_docbin(dev).to_disk(\"dev.spacy\")\n",
    "create_docbin(train).to_disk(\"train.spacy\")"
   ]
  },
  {
   "cell_type": "code",
   "execution_count": 55,
   "metadata": {},
   "outputs": [
    {
     "name": "stdout",
     "output_type": "stream",
     "text": [
      "\u001b[38;5;4mℹ Saving to output directory: sym_model\u001b[0m\n",
      "\u001b[38;5;4mℹ Using CPU\u001b[0m\n",
      "\u001b[1m\n",
      "=========================== Initializing pipeline ===========================\u001b[0m\n",
      "\u001b[38;5;2m✔ Initialized pipeline\u001b[0m\n",
      "\u001b[1m\n",
      "============================= Training pipeline =============================\u001b[0m\n",
      "\u001b[38;5;4mℹ Pipeline: ['textcat_multilabel']\u001b[0m\n",
      "\u001b[38;5;4mℹ Initial learn rate: 0.001\u001b[0m\n",
      "E    #       LOSS TEXTC...  CATS_SCORE  SCORE \n",
      "---  ------  -------------  ----------  ------\n",
      "  0       0           0.25       54.75    0.55\n",
      "  0     200          50.47       76.40    0.76\n",
      "  0     400          38.08       80.71    0.81\n",
      "  0     600          32.49       84.06    0.84\n",
      "  0     800          23.85       86.75    0.87\n",
      "  0    1000          27.58       89.58    0.90\n",
      "  1    1200          12.63       87.72    0.88\n",
      "  1    1400          11.88       88.84    0.89\n",
      "  1    1600          13.55       90.35    0.90\n",
      "  1    1800           8.65       90.13    0.90\n",
      "  1    2000           8.70       91.29    0.91\n",
      "  2    2200           8.45       90.17    0.90\n",
      "  2    2400           3.21       91.33    0.91\n",
      "  2    2600           5.16       91.62    0.92\n",
      "  2    2800           4.89       90.21    0.90\n",
      "  2    3000           7.47       90.41    0.90\n",
      "  2    3200           5.32       90.16    0.90\n",
      "  3    3400           2.66       90.81    0.91\n",
      "  3    3600           3.24       91.73    0.92\n",
      "  3    3800           2.74       91.37    0.91\n",
      "  3    4000           3.03       91.83    0.92\n",
      "  3    4200           1.88       92.56    0.93\n",
      "  4    4400           2.50       92.39    0.92\n",
      "  4    4600           1.34       92.79    0.93\n",
      "  4    4800           1.47       91.62    0.92\n",
      "  4    5000           1.32       91.89    0.92\n",
      "  4    5200           0.99       91.55    0.92\n",
      "  5    5400           3.41       91.59    0.92\n",
      "  5    5600           0.93       91.19    0.91\n",
      "  5    5800           1.43       91.41    0.91\n",
      "  5    6000           1.27       91.20    0.91\n",
      "  5    6200           0.38       91.12    0.91\n",
      "\u001b[38;5;2m✔ Saved pipeline to output directory\u001b[0m\n",
      "sym_model\\model-last\n"
     ]
    }
   ],
   "source": [
    "! python -m spacy train ../sym/config.cfg --output ./sym_model --paths.train train.spacy --paths.dev dev.spacy"
   ]
  },
  {
   "cell_type": "code",
   "execution_count": null,
   "metadata": {},
   "outputs": [],
   "source": []
  }
 ],
 "metadata": {
  "kernelspec": {
   "display_name": "venv",
   "language": "python",
   "name": "python3"
  },
  "language_info": {
   "codemirror_mode": {
    "name": "ipython",
    "version": 3
   },
   "file_extension": ".py",
   "mimetype": "text/x-python",
   "name": "python",
   "nbconvert_exporter": "python",
   "pygments_lexer": "ipython3",
   "version": "3.11.2"
  },
  "orig_nbformat": 4
 },
 "nbformat": 4,
 "nbformat_minor": 2
}
