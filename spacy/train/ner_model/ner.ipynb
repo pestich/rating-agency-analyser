{
 "cells": [
  {
   "cell_type": "code",
   "execution_count": 6,
   "metadata": {},
   "outputs": [],
   "source": [
    "import spacy\n",
    "import json\n",
    "from spacy import displacy\n",
    "from spacy.tokens import DocBin\n",
    "from tqdm import tqdm\n",
    "from spacy.util import filter_spans"
   ]
  },
  {
   "cell_type": "code",
   "execution_count": 2,
   "metadata": {},
   "outputs": [],
   "source": [
    "with open ('../../../raw_data/ra_analyze_annotations(2).json', 'r', encoding='utf-8') as f:\n",
    "    data = json.load(f)"
   ]
  },
  {
   "cell_type": "code",
   "execution_count": 3,
   "metadata": {},
   "outputs": [],
   "source": [
    "nlp = spacy.blank('ru')\n"
   ]
  },
  {
   "cell_type": "code",
   "execution_count": 4,
   "metadata": {},
   "outputs": [],
   "source": [
    "training_data = []\n",
    "for example in data['examples']:\n",
    "    temp_dict = {}\n",
    "    temp_dict['text'] = example['content']\n",
    "    temp_dict['entities'] = []\n",
    "    for annotation in example['annotations']:\n",
    "        start = annotation['start']\n",
    "        end = annotation['end']\n",
    "        label = 'KEYWORDS'\n",
    "        temp_dict['entities'].append((start, end, label))\n",
    "    training_data.append(temp_dict)"
   ]
  },
  {
   "cell_type": "code",
   "execution_count": 5,
   "metadata": {},
   "outputs": [],
   "source": [
    "train = []\n",
    "for i in range(len(training_data)):\n",
    "    if len(training_data[i]['entities']) > 0:\n",
    "        train.append(training_data[i])"
   ]
  },
  {
   "cell_type": "code",
   "execution_count": 7,
   "metadata": {},
   "outputs": [],
   "source": [
    "doc_bin = DocBin()"
   ]
  },
  {
   "cell_type": "code",
   "execution_count": 8,
   "metadata": {},
   "outputs": [
    {
     "name": "stderr",
     "output_type": "stream",
     "text": [
      "  0%|          | 0/106 [00:00<?, ?it/s]"
     ]
    },
    {
     "name": "stderr",
     "output_type": "stream",
     "text": [
      "100%|██████████| 106/106 [00:01<00:00, 67.34it/s]\n"
     ]
    }
   ],
   "source": [
    "for training_example in tqdm(train):\n",
    "     text = training_example['text']\n",
    "     labels = training_example['entities']\n",
    "     doc = nlp.make_doc(text)\n",
    "     ents = []\n",
    "     for start, end, label in labels:\n",
    "         span = doc.char_span(start, end, label=label, alignment_mode=\"contract\")\n",
    "         if span is None:\n",
    "             print(\"Skipping entity\")\n",
    "         else:\n",
    "             ents.append(span)\n",
    "     filtered_ents = filter_spans(ents)\n",
    "     doc.ents = filtered_ents\n",
    "     doc_bin.add(doc)\n",
    "\n",
    "doc_bin.to_disk(\"train_ner.spacy\")"
   ]
  },
  {
   "cell_type": "code",
   "execution_count": 10,
   "metadata": {},
   "outputs": [
    {
     "name": "stdout",
     "output_type": "stream",
     "text": [
      "\u001b[38;5;4mℹ Saving to output directory: ner_model\u001b[0m\n",
      "\u001b[38;5;4mℹ Using CPU\u001b[0m\n",
      "\u001b[1m\n",
      "=========================== Initializing pipeline ===========================\u001b[0m\n",
      "\u001b[38;5;2m✔ Initialized pipeline\u001b[0m\n",
      "\u001b[1m\n",
      "============================= Training pipeline =============================\u001b[0m\n",
      "\u001b[38;5;4mℹ Pipeline: ['tok2vec', 'ner']\u001b[0m\n",
      "\u001b[38;5;4mℹ Initial learn rate: 0.001\u001b[0m\n",
      "E    #       LOSS TOK2VEC  LOSS NER  ENTS_F  ENTS_P  ENTS_R  SCORE \n",
      "---  ------  ------------  --------  ------  ------  ------  ------\n",
      "  0       0          0.00    745.33    0.00    0.00    0.00    0.00\n",
      "  1     200       3351.49  12818.39   15.40   23.03   11.57    0.15\n",
      "  3     400        491.95   1952.65   38.22   47.65   31.90    0.38\n",
      "  5     600        101.66   1552.51   54.68   43.57   73.39    0.55\n",
      "  7     800        116.12   1262.14   71.27   67.20   75.87    0.71\n",
      "  9    1000        186.05   1120.62   72.28   69.57   75.21    0.72\n",
      " 11    1200        338.85    911.30   81.65   85.25   78.35    0.82\n",
      " 13    1400        400.81    830.91   84.26   86.31   82.31    0.84\n",
      " 15    1600        286.47    626.65   88.03   91.91   84.46    0.88\n",
      " 16    1800        374.11    603.66   90.50   88.98   92.07    0.90\n",
      " 18    2000        396.19    492.57   91.49   92.41   90.58    0.91\n",
      " 20    2200        922.17    452.33   89.97   86.79   93.39    0.90\n",
      " 22    2400        410.03    410.19   93.46   94.89   92.07    0.93\n",
      " 24    2600        714.03    410.32   90.13   85.69   95.04    0.90\n",
      " 26    2800        495.62    391.60   93.63   93.71   93.55    0.94\n",
      " 28    3000        849.30    355.41   94.28   94.52   94.05    0.94\n",
      " 30    3200       1213.47    378.11   94.44   93.38   95.54    0.94\n",
      " 32    3400        510.22    310.36   94.81   96.10   93.55    0.95\n",
      " 33    3600        516.30    306.36   95.09   95.81   94.38    0.95\n",
      " 35    3800       4478.26    292.76   95.59   94.51   96.69    0.96\n",
      " 37    4000        639.71    280.79   94.29   91.85   96.86    0.94\n",
      " 39    4200       1424.30    287.79   96.16   97.13   95.21    0.96\n",
      " 41    4400        365.16    201.50   94.31   97.03   91.74    0.94\n",
      " 43    4600       1420.16    230.79   95.65   95.10   96.20    0.96\n",
      " 45    4800        998.47    253.22   95.65   96.79   94.55    0.96\n",
      " 47    5000       2517.40    265.62   96.16   97.13   95.21    0.96\n",
      " 49    5200       1895.34    239.44   96.41   95.32   97.52    0.96\n",
      " 50    5400        964.79    247.14   96.76   97.32   96.20    0.97\n",
      " 52    5600       1488.92    219.19   96.61   96.53   96.69    0.97\n",
      " 54    5800       1588.11    215.20   95.80   95.56   96.03    0.96\n",
      " 56    6000       2446.58    248.94   94.79   92.06   97.69    0.95\n",
      " 58    6200        685.18    202.41   96.65   95.48   97.85    0.97\n",
      " 60    6400       1590.76    236.95   95.94   94.26   97.69    0.96\n",
      " 62    6600       2111.31    198.69   95.63   95.39   95.87    0.96\n",
      " 64    6800       1529.25    226.67   96.71   96.39   97.02    0.97\n",
      " 66    7000       3385.31    195.85   96.03   94.13   98.02    0.96\n",
      "\u001b[38;5;2m✔ Saved pipeline to output directory\u001b[0m\n",
      "ner_model\\model-last\n"
     ]
    }
   ],
   "source": [
    "! python -m spacy train config.cfg --output ./ner_model --paths.train train_ner.spacy --paths.dev train_ner.spacy"
   ]
  },
  {
   "cell_type": "code",
   "execution_count": null,
   "metadata": {},
   "outputs": [],
   "source": []
  }
 ],
 "metadata": {
  "kernelspec": {
   "display_name": "venv",
   "language": "python",
   "name": "python3"
  },
  "language_info": {
   "codemirror_mode": {
    "name": "ipython",
    "version": 3
   },
   "file_extension": ".py",
   "mimetype": "text/x-python",
   "name": "python",
   "nbconvert_exporter": "python",
   "pygments_lexer": "ipython3",
   "version": "3.11.2"
  },
  "orig_nbformat": 4
 },
 "nbformat": 4,
 "nbformat_minor": 2
}
