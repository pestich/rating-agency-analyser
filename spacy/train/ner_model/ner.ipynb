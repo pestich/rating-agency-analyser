{
 "cells": [
  {
   "cell_type": "code",
   "execution_count": 29,
   "metadata": {},
   "outputs": [],
   "source": [
    "import spacy\n",
    "import json\n",
    "from spacy import displacy"
   ]
  },
  {
   "cell_type": "code",
   "execution_count": 31,
   "metadata": {},
   "outputs": [],
   "source": [
    "with open ('../raw_data/ra_analyze_annotations.json', 'r', encoding='utf-8') as f:\n",
    "    data = json.load(f)"
   ]
  },
  {
   "cell_type": "code",
   "execution_count": null,
   "metadata": {},
   "outputs": [],
   "source": []
  },
  {
   "cell_type": "code",
   "execution_count": null,
   "metadata": {},
   "outputs": [],
   "source": []
  },
  {
   "cell_type": "code",
   "execution_count": null,
   "metadata": {},
   "outputs": [],
   "source": [
    "for i in "
   ]
  },
  {
   "cell_type": "code",
   "execution_count": 27,
   "metadata": {},
   "outputs": [
    {
     "name": "stdout",
     "output_type": "stream",
     "text": [
      "[]\n",
      "[]\n",
      "[]\n",
      "[]\n",
      "[{'end': 920, 'tag': 'keywords', 'start': 825, 'value': 'сдерживающее влияние на уровень рейтинга ЗТЗ оказывали в первую очередь размер бизнеса Компании', 'tag_id': '6a6f9373-4ae9-495b-b23b-b34d10d8016d', 'correct': None, 'reviewed': False, 'example_id': '002aa54a-1350-4527-9fb9-c190f7d34680', 'annotated_by': [{'annotator': 'wil.tell91@gmail.com', 'timestamp': '2023-09-09T09:16:51.611+00:00', 'annotator_id': 1}], 'definition_id': '64d34997-6aad-4536-851b-7aeb4818431f', 'tagged_token_id': 'c47b818b-079e-46ae-b747-4c81427712ed'}, {'end': 1014, 'tag': 'keywords', 'start': 938, 'value': 'слабая географическая диверсификация, низкая степень вертикальной интеграции', 'tag_id': '6a6f9373-4ae9-495b-b23b-b34d10d8016d', 'correct': None, 'reviewed': False, 'example_id': '002aa54a-1350-4527-9fb9-c190f7d34680', 'annotated_by': [{'annotator': 'wil.tell91@gmail.com', 'timestamp': '2023-09-09T09:17:01.122+00:00', 'annotator_id': 1}], 'definition_id': '64d34997-6aad-4536-851b-7aeb4818431f', 'tagged_token_id': '0e623989-0093-477a-839c-8dc6d1a76f97'}, {'end': 2235, 'tag': 'keywords', 'start': 2169, 'value': 'сделка окажет существенное негативное влияние на кредитные метрики', 'tag_id': '6a6f9373-4ae9-495b-b23b-b34d10d8016d', 'correct': None, 'reviewed': False, 'example_id': '002aa54a-1350-4527-9fb9-c190f7d34680', 'annotated_by': [{'annotator': 'wil.tell91@gmail.com', 'timestamp': '2023-09-09T09:15:17.736+00:00', 'annotator_id': 1}], 'definition_id': '64d34997-6aad-4536-851b-7aeb4818431f', 'tagged_token_id': '03b9ddce-7383-4067-8fe7-4960eef9745c'}, {'end': 805, 'tag': 'keywords', 'start': 750, 'value': 'низкой долговой нагрузкой и высоким покрытием процентов', 'tag_id': '6a6f9373-4ae9-495b-b23b-b34d10d8016d', 'correct': None, 'reviewed': False, 'example_id': '002aa54a-1350-4527-9fb9-c190f7d34680', 'annotated_by': [{'annotator': 'wil.tell91@gmail.com', 'timestamp': '2023-09-09T09:16:37.496+00:00', 'annotator_id': 1}], 'definition_id': '64d34997-6aad-4536-851b-7aeb4818431f', 'tagged_token_id': '001a9849-63e1-41ba-9dda-6e6b28b633f8'}, {'end': 595, 'tag': 'keywords', 'start': 561, 'value': 'сильной рыночной позицией Компании', 'tag_id': '6a6f9373-4ae9-495b-b23b-b34d10d8016d', 'correct': None, 'reviewed': False, 'example_id': '002aa54a-1350-4527-9fb9-c190f7d34680', 'annotated_by': [{'annotator': 'wil.tell91@gmail.com', 'timestamp': '2023-09-09T09:16:25.362+00:00', 'annotator_id': 1}], 'definition_id': '64d34997-6aad-4536-851b-7aeb4818431f', 'tagged_token_id': 'f217403e-989f-475d-a51c-0d9f2bc6f3c2'}, {'end': 740, 'tag': 'keywords', 'start': 680, 'value': 'средними бизнес-профилем и уровнем корпоративного управления', 'tag_id': '6a6f9373-4ae9-495b-b23b-b34d10d8016d', 'correct': None, 'reviewed': False, 'example_id': '002aa54a-1350-4527-9fb9-c190f7d34680', 'annotated_by': [{'annotator': 'wil.tell91@gmail.com', 'timestamp': '2023-09-09T09:16:32.644+00:00', 'annotator_id': 1}], 'definition_id': '64d34997-6aad-4536-851b-7aeb4818431f', 'tagged_token_id': 'd1d99554-5589-4a34-b15b-5649cef3e034'}]\n",
      "[]\n",
      "[]\n"
     ]
    }
   ],
   "source": [
    "for i in data_j['examples']:\n",
    "    if 'МЕТАЛЛОИНВЕСТ' in i['content']:\n",
    "        print(i['annotations'])"
   ]
  },
  {
   "cell_type": "code",
   "execution_count": 28,
   "metadata": {},
   "outputs": [],
   "source": [
    "nlp = spacy.blank('ru')\n"
   ]
  },
  {
   "cell_type": "code",
   "execution_count": 33,
   "metadata": {},
   "outputs": [],
   "source": [
    "training_data = []\n",
    "for example in data['examples']:\n",
    "    temp_dict = {}\n",
    "    temp_dict['text'] = example['content']\n",
    "    temp_dict['entities'] = []\n",
    "    for annotation in example['annotations']:\n",
    "        start = annotation['start']\n",
    "        end = annotation['end']\n",
    "        label = 'KEYWORDS'\n",
    "        temp_dict['entities'].append((start, end, label))\n",
    "    training_data.append(temp_dict)"
   ]
  },
  {
   "cell_type": "code",
   "execution_count": 42,
   "metadata": {},
   "outputs": [],
   "source": [
    "train = []\n",
    "for i in range(len(training_data)):\n",
    "    if len(training_data[i]['entities']) > 0:\n",
    "        train.append(training_data[i])"
   ]
  },
  {
   "cell_type": "code",
   "execution_count": 46,
   "metadata": {},
   "outputs": [],
   "source": [
    "from spacy.tokens import DocBin\n",
    "from tqdm import tqdm"
   ]
  },
  {
   "cell_type": "code",
   "execution_count": 47,
   "metadata": {},
   "outputs": [],
   "source": [
    "doc_bin = DocBin()\n",
    "\n",
    "from spacy.util import filter_spans"
   ]
  },
  {
   "cell_type": "code",
   "execution_count": 48,
   "metadata": {},
   "outputs": [
    {
     "name": "stderr",
     "output_type": "stream",
     "text": [
      "100%|██████████| 55/55 [00:00<00:00, 63.17it/s]\n"
     ]
    }
   ],
   "source": [
    "for training_example in tqdm(train):\n",
    "     text = training_example['text']\n",
    "     labels = training_example['entities']\n",
    "     doc = nlp.make_doc(text)\n",
    "     ents = []\n",
    "     for start, end, label in labels:\n",
    "         span = doc.char_span(start, end, label=label, alignment_mode=\"contract\")\n",
    "         if span is None:\n",
    "             print(\"Skipping entity\")\n",
    "         else:\n",
    "             ents.append(span)\n",
    "     filtered_ents = filter_spans(ents)\n",
    "     doc.ents = filtered_ents\n",
    "     doc_bin.add(doc)\n",
    "\n",
    "doc_bin.to_disk(\"train_ner.spacy\")"
   ]
  },
  {
   "cell_type": "code",
   "execution_count": null,
   "metadata": {},
   "outputs": [],
   "source": []
  }
 ],
 "metadata": {
  "kernelspec": {
   "display_name": "venv",
   "language": "python",
   "name": "python3"
  },
  "language_info": {
   "codemirror_mode": {
    "name": "ipython",
    "version": 3
   },
   "file_extension": ".py",
   "mimetype": "text/x-python",
   "name": "python",
   "nbconvert_exporter": "python",
   "pygments_lexer": "ipython3",
   "version": "3.11.2"
  },
  "orig_nbformat": 4
 },
 "nbformat": 4,
 "nbformat_minor": 2
}
