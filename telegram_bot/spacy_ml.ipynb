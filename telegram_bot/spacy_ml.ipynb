{
 "cells": [
  {
   "cell_type": "code",
   "execution_count": 2,
   "metadata": {},
   "outputs": [],
   "source": [
    "import pandas as pd\n",
    "import spacy\n",
    "from tqdm import tqdm\n",
    "from typing import List\n",
    "from functools import lru_cache\n",
    "from collections import Counter\n",
    "import re\n",
    "from io import StringIO\n",
    "import my_downloads\n",
    "tqdm.pandas()"
   ]
  },
  {
   "cell_type": "code",
   "execution_count": 3,
   "metadata": {},
   "outputs": [],
   "source": [
    "def drop_tail(text):\n",
    "    if 'агентство НКР' in text:\n",
    "        return text.split('Регуляторное раскрытие')[0]\n",
    "    elif 'Национальное Рейтинговое Агентство' in text:\n",
    "        text = text.split('(далее – НРА, Агентство)')[1]\n",
    "        return text.split('ДОПОЛНИТЕЛЬНАЯ ИНФОРМАЦИЯ')[0]\n",
    "    elif 'АКРА' in text:\n",
    "        return text.split('Регуляторное раскрытие')[0]\n",
    "    elif 'Эксперт РА' in text:\n",
    "        return text.split('Контакты для СМИ')[0]\n",
    "    return text"
   ]
  },
  {
   "cell_type": "code",
   "execution_count": 4,
   "metadata": {},
   "outputs": [],
   "source": [
    "@lru_cache(100000)\n",
    "def clear(text):\n",
    "    ner_list = ['ORG', 'LOC']\n",
    "    result = []\n",
    "    doc = my_downloads.nlp(text)\n",
    "    for token in doc:\n",
    "        if token.ent_type_ not in ner_list:\n",
    "            result.append(token.text.lower())\n",
    "    text =  ' '.join(result)\n",
    "    text = text.replace('ё', 'е')\n",
    "    text = text.replace('Ё', 'Е')\n",
    "    text = re.sub(r'[^а-яА-Я ]', '', text)\n",
    "    text = text.replace('\\n', ' ')\n",
    "    text = text.replace('.', '. ')\n",
    "    text = text.replace(',', ', ')\n",
    "    text = re.sub('\\s+', ' ', text)\n",
    "    return text.strip()"
   ]
  },
  {
   "cell_type": "code",
   "execution_count": 5,
   "metadata": {},
   "outputs": [],
   "source": [
    "@lru_cache(100000)\n",
    "def lemmatize(text):\n",
    "    result = []\n",
    "    doc = my_downloads.nlp(text)\n",
    "    for token in doc:\n",
    "        result.append(token.lemma_)\n",
    "    return ' '.join(result)"
   ]
  },
  {
   "cell_type": "code",
   "execution_count": 6,
   "metadata": {},
   "outputs": [],
   "source": [
    "@lru_cache(100000)\n",
    "def tokenize_it(text: str) -> List:\n",
    "    result = []\n",
    "    doc = my_downloads.nlp(text)\n",
    "    for token in doc:\n",
    "        if token.is_stop != True and token.is_punct != True:\n",
    "            result.append(token.text)\n",
    "    return result"
   ]
  },
  {
   "cell_type": "code",
   "execution_count": null,
   "metadata": {},
   "outputs": [],
   "source": [
    "def data_preprocessing(df):\n",
    "    df['clear_text'] = df['pr_txt'].progress_apply(drop_tail)    \n",
    "    df['clear_text'] = df['clear_text'].progress_apply(clear)\n",
    "    df['clear_text'] = df['clear_text'].progress_apply(lemmatize)\n",
    "    df['tokenized'] = df['clear_text'].progress_apply(tokenize_it)\n",
    "    df['tokenized_str'] = df['tokenized'].apply(lambda x: ' '.join(x))\n",
    "    return df"
   ]
  },
  {
   "cell_type": "code",
   "execution_count": 7,
   "metadata": {},
   "outputs": [],
   "source": [
    "def get_prection_cat(text):    \n",
    "    doc = my_downloads.nlp_cat(text)\n",
    "    scores = doc.cats\n",
    "    if max(scores, key=scores.get) == '1':\n",
    "        doc = my_downloads.nlp_a(text)\n",
    "        scores = doc.cats\n",
    "        return max(scores, key=scores.get)\n",
    "    elif max(scores, key=scores.get) == '2':\n",
    "        doc = my_downloads.nlp_b(text)\n",
    "        scores = doc.cats\n",
    "        return max(scores, key=scores.get)\n",
    "    elif max(scores, key=scores.get) == '3':\n",
    "        doc = my_downloads.nlp_c(text)\n",
    "        scores = doc.cats\n",
    "        return max(scores, key=scores.get)  "
   ]
  },
  {
   "cell_type": "code",
   "execution_count": null,
   "metadata": {},
   "outputs": [],
   "source": [
    "def predict(df):\n",
    "    df = data_preprocessing(df)\n",
    "    df['pred_rating'] = df['tokenized_str'].apply(get_prection_cat)\n",
    "    df['category'] = df['pred_rating'].apply(lambda x: re.sub('[^A-Z]', '', x))\n",
    "    \n",
    "    return df[['pred_rating', 'category']].values"
   ]
  },
  {
   "cell_type": "code",
   "execution_count": null,
   "metadata": {},
   "outputs": [],
   "source": [
    "def predict_text(text):\n",
    "    df = pd.DataFrame({'pr_txt':[text]})\n",
    "    return predict(df)"
   ]
  },
  {
   "cell_type": "code",
   "execution_count": null,
   "metadata": {},
   "outputs": [],
   "source": [
    "def predict_csv(csv):\n",
    "    csvStringIO = StringIO(csv)\n",
    "    df = pd.read_csv(csvStringIO, sep=\",\")\n",
    "    df = df.rename(columns={'Категория': 'category', 'Уровень рейтинга': 'rating'})\n",
    "\n",
    "    return predict(df)"
   ]
  }
 ],
 "metadata": {
  "kernelspec": {
   "display_name": "Python 3",
   "language": "python",
   "name": "python3"
  },
  "language_info": {
   "codemirror_mode": {
    "name": "ipython",
    "version": 3
   },
   "file_extension": ".py",
   "mimetype": "text/x-python",
   "name": "python",
   "nbconvert_exporter": "python",
   "pygments_lexer": "ipython3",
   "version": "3.8.2"
  },
  "orig_nbformat": 4
 },
 "nbformat": 4,
 "nbformat_minor": 2
}
